{
 "cells": [
  {
   "attachments": {},
   "cell_type": "markdown",
   "metadata": {},
   "source": [
    "# Syntax Repair with Language Models"
   ]
  },
  {
   "attachments": {},
   "cell_type": "markdown",
   "metadata": {},
   "source": [
    "## Dataset"
   ]
  },
  {
   "attachments": {},
   "cell_type": "markdown",
   "metadata": {},
   "source": [
    "TODO: Detail data, deepfix cite, explain \n",
    "types of errors"
   ]
  },
  {
   "attachments": {},
   "cell_type": "markdown",
   "metadata": {},
   "source": [
    "#"
   ]
  },
  {
   "cell_type": "code",
   "execution_count": 84,
   "metadata": {},
   "outputs": [],
   "source": [
    "from repair import utils\n",
    "from importlib import reload\n",
    "utils = reload(utils)\n",
    "train = utils.get_train_data()"
   ]
  },
  {
   "cell_type": "code",
   "execution_count": null,
   "metadata": {},
   "outputs": [],
   "source": [
    "# number of buggy programs in training split\n",
    "len(train)"
   ]
  },
  {
   "cell_type": "code",
   "execution_count": null,
   "metadata": {},
   "outputs": [],
   "source": [
    "from repair import utils\n",
    "import tqdm\n",
    "# distribution of length in terms of tokens\n",
    "num_tokens = [len(utils.tokenize(b.source)) for b in tqdm.tqdm(train)]\n"
   ]
  },
  {
   "cell_type": "code",
   "execution_count": null,
   "metadata": {},
   "outputs": [],
   "source": [
    "import seaborn as sns\n",
    "ax = sns.histplot(num_tokens)\n",
    "ax.set_xlabel(\"Number of tokens\")\n",
    "ax.set_ylabel(\"Count of cases\")"
   ]
  },
  {
   "cell_type": "markdown",
   "metadata": {},
   "source": []
  },
  {
   "cell_type": "code",
   "execution_count": null,
   "metadata": {},
   "outputs": [],
   "source": [
    "# distribution of number of compile errors\n",
    "errorcounts = [b.errorcount for b in train]\n",
    "ax = sns.histplot(errorcounts)\n",
    "ax.set_xlabel(\"Number of errors\")\n",
    "ax.set_ylabel(\"Count of cases\")"
   ]
  },
  {
   "cell_type": "code",
   "execution_count": null,
   "metadata": {},
   "outputs": [],
   "source": [
    "# Relationship between length and errors\n",
    "ax = sns.scatterplot(x=num_tokens, y=errorcounts, alpha=0.5)\n",
    "ax.set_xlabel(\"Number of tokens\")\n",
    "ax.set_ylabel(\"Number of compilation errors\")"
   ]
  },
  {
   "cell_type": "code",
   "execution_count": null,
   "metadata": {},
   "outputs": [],
   "source": [
    "# random sample of k compile errors in training split\n",
    "import random\n",
    "k = 10\n",
    "sampled = train[:k]\n",
    "for i, case in enumerate(sampled):\n",
    "    print(\"Sample\", i)\n",
    "    print(case.source)\n",
    "    print(\"Error:\", case.error)\n",
    "    print(\"--------------\")"
   ]
  },
  {
   "cell_type": "code",
   "execution_count": null,
   "metadata": {},
   "outputs": [],
   "source": [
    "# random sample of k compile errors in test split\n",
    "test = utils.get_test_data()\n",
    "k = 10\n",
    "sampled = test[:k]\n",
    "for i, case in enumerate(sampled):\n",
    "    print(\"Sample\", i)\n",
    "    print(case.source)\n",
    "    print(\"Error:\", case.error)\n",
    "    print(\"--------------\")"
   ]
  },
  {
   "attachments": {},
   "cell_type": "markdown",
   "metadata": {},
   "source": [
    "# Metrics"
   ]
  },
  {
   "cell_type": "code",
   "execution_count": 113,
   "metadata": {},
   "outputs": [],
   "source": [
    "bad_simple = \"int main( {return 0;}\"\n",
    "ok_simple = \"int main() {return 0;}\""
   ]
  },
  {
   "cell_type": "code",
   "execution_count": null,
   "metadata": {},
   "outputs": [],
   "source": [
    "utils.gcc_compile(bad_simple)"
   ]
  },
  {
   "cell_type": "code",
   "execution_count": null,
   "metadata": {},
   "outputs": [],
   "source": [
    "utils.gcc_compile(ok_simple)"
   ]
  },
  {
   "cell_type": "code",
   "execution_count": null,
   "metadata": {},
   "outputs": [],
   "source": [
    "# typically: satisfy oracle (i.e. compiler) but also need to limit edit distance (e.g. deleting everything yields compilable unit)\n",
    "# token edit distance: standard levenshtein distance but on lexer outputs (better than simple string distance)\n",
    "utils.token_edit_distance(\n",
    "    bad_simple,\n",
    "    ok_simple\n",
    ")"
   ]
  },
  {
   "cell_type": "code",
   "execution_count": null,
   "metadata": {},
   "outputs": [],
   "source": [
    "from importlib import reload\n",
    "utils = reload(utils)\n",
    "# can also use tree edit distance with parse tree that maintains syntax errors\n",
    "utils.tree_edit_distance(\n",
    "    bad_simple,\n",
    "    ok_simple\n",
    ")"
   ]
  },
  {
   "attachments": {},
   "cell_type": "markdown",
   "metadata": {},
   "source": [
    "# Running our benchmark suite"
   ]
  },
  {
   "attachments": {},
   "cell_type": "markdown",
   "metadata": {},
   "source": [
    "TODO"
   ]
  },
  {
   "attachments": {},
   "cell_type": "markdown",
   "metadata": {},
   "source": [
    "# Fixing Syntax Errors with Codex"
   ]
  },
  {
   "cell_type": "code",
   "execution_count": null,
   "metadata": {},
   "outputs": [],
   "source": [
    "# Reference and explain https://arxiv.org/abs/2208.11640"
   ]
  },
  {
   "cell_type": "code",
   "execution_count": null,
   "metadata": {},
   "outputs": [],
   "source": [
    "from repair.engines import codex"
   ]
  },
  {
   "cell_type": "code",
   "execution_count": null,
   "metadata": {},
   "outputs": [],
   "source": [
    "import inspect\n",
    "print(inspect.getsource(codex.CodexEngine))"
   ]
  },
  {
   "cell_type": "code",
   "execution_count": 154,
   "metadata": {},
   "outputs": [
    {
     "name": "stdout",
     "output_type": "stream",
     "text": [
      "class CodexBaseRepair(CodexRepair):\n",
      "    \"\"\"\n",
      "    Based on https://beta.openai.com/examples/default-fix-python-bugs\n",
      "    \"\"\"\n",
      "\n",
      "    def __init__(self, *args, **kwargs):\n",
      "        self.codex = CodexEngine(*args, **kwargs)\n",
      "\n",
      "    def get_prompt(self, code: str, **kwargs) -> str:\n",
      "        # Based on https://beta.openai.com/examples/default-fix-python-bugs\n",
      "        prompt = \"\"\"//// Fix bugs in the below code\\n\"\"\"\n",
      "        prompt += f\"/// Buggy C\\n{code}\\n\\n\"\n",
      "        prompt += \"/// Fixed C\"\n",
      "        if 'fixed' in kwargs and kwargs['fixed'] is not None:\n",
      "            prompt += f\"\\n{kwargs['fixed']}\\n\\n\"\n",
      "\n",
      "        return prompt\n",
      "\n",
      "    def get_repair_from_completion_(\n",
      "            self, completion_dict: Dict[str, Any]) -> Dict[str, Any]:\n",
      "        comp = completion_dict[\"completion\"]\n",
      "        # remove first \\n and last \\n, result from our prompt style\n",
      "        if comp[0] == \"\\n\":\n",
      "            comp = comp[1:]\n",
      "        if comp[-1] == \"\\n\":\n",
      "            comp = comp[:-1]\n",
      "        return {\"repair\": comp, \"score\": completion_dict[\"avg_logprob\"]}\n",
      "\n",
      "    def deduplicate_repairs_(\n",
      "            self, repair_dicts: List[Dict[str, Any]]) -> List[Dict[str, Any]]:\n",
      "        unique_repair_dicts = []\n",
      "        already_included = set()\n",
      "        for rd in repair_dicts:\n",
      "            repair_str = rd[\"repair\"]\n",
      "            if repair_str not in already_included:\n",
      "                unique_repair_dicts.append(rd)\n",
      "                already_included.add(repair_str)\n",
      "        return unique_repair_dicts\n",
      "\n",
      "    def repair(self, code: str, **kwargs):\n",
      "        # FIXME: warn if number of tokens too few for length of code\n",
      "        # or set to num tokens + K\n",
      "        # Use: https://github.com/openai/tiktoken , which is fast openai tokenizer\n",
      "        # to estimate tokens for code and pass in as maxtokens=<val>\n",
      "        prompt = self.get_prompt(code, **kwargs)\n",
      "        completion_dicts = self.codex.complete(prompt, **kwargs)\n",
      "        if completion_dicts is None:\n",
      "            return []\n",
      "\n",
      "        repair_dicts = [\n",
      "            self.get_repair_from_completion_(c) for c in completion_dicts\n",
      "        ]\n",
      "        repair_dicts = self.deduplicate_repairs_(repair_dicts)\n",
      "        return repair_dicts\n",
      "\n"
     ]
    }
   ],
   "source": [
    "import inspect\n",
    "print(inspect.getsource(codex.CodexBaseRepair))"
   ]
  },
  {
   "cell_type": "code",
   "execution_count": 160,
   "metadata": {},
   "outputs": [
    {
     "data": {
      "text/html": [
       "<style>pre { line-height: 125%; }\n",
       "td.linenos .normal { color: inherit; background-color: transparent; padding-left: 5px; padding-right: 5px; }\n",
       "span.linenos { color: inherit; background-color: transparent; padding-left: 5px; padding-right: 5px; }\n",
       "td.linenos .special { color: #000000; background-color: #ffffc0; padding-left: 5px; padding-right: 5px; }\n",
       "span.linenos.special { color: #000000; background-color: #ffffc0; padding-left: 5px; padding-right: 5px; }\n",
       ".output_html .hll { background-color: #ffffcc }\n",
       ".output_html { background: #f8f8f8; }\n",
       ".output_html .c { color: #3D7B7B; font-style: italic } /* Comment */\n",
       ".output_html .err { border: 1px solid #FF0000 } /* Error */\n",
       ".output_html .k { color: #008000; font-weight: bold } /* Keyword */\n",
       ".output_html .o { color: #666666 } /* Operator */\n",
       ".output_html .ch { color: #3D7B7B; font-style: italic } /* Comment.Hashbang */\n",
       ".output_html .cm { color: #3D7B7B; font-style: italic } /* Comment.Multiline */\n",
       ".output_html .cp { color: #9C6500 } /* Comment.Preproc */\n",
       ".output_html .cpf { color: #3D7B7B; font-style: italic } /* Comment.PreprocFile */\n",
       ".output_html .c1 { color: #3D7B7B; font-style: italic } /* Comment.Single */\n",
       ".output_html .cs { color: #3D7B7B; font-style: italic } /* Comment.Special */\n",
       ".output_html .gd { color: #A00000 } /* Generic.Deleted */\n",
       ".output_html .ge { font-style: italic } /* Generic.Emph */\n",
       ".output_html .gr { color: #E40000 } /* Generic.Error */\n",
       ".output_html .gh { color: #000080; font-weight: bold } /* Generic.Heading */\n",
       ".output_html .gi { color: #008400 } /* Generic.Inserted */\n",
       ".output_html .go { color: #717171 } /* Generic.Output */\n",
       ".output_html .gp { color: #000080; font-weight: bold } /* Generic.Prompt */\n",
       ".output_html .gs { font-weight: bold } /* Generic.Strong */\n",
       ".output_html .gu { color: #800080; font-weight: bold } /* Generic.Subheading */\n",
       ".output_html .gt { color: #0044DD } /* Generic.Traceback */\n",
       ".output_html .kc { color: #008000; font-weight: bold } /* Keyword.Constant */\n",
       ".output_html .kd { color: #008000; font-weight: bold } /* Keyword.Declaration */\n",
       ".output_html .kn { color: #008000; font-weight: bold } /* Keyword.Namespace */\n",
       ".output_html .kp { color: #008000 } /* Keyword.Pseudo */\n",
       ".output_html .kr { color: #008000; font-weight: bold } /* Keyword.Reserved */\n",
       ".output_html .kt { color: #B00040 } /* Keyword.Type */\n",
       ".output_html .m { color: #666666 } /* Literal.Number */\n",
       ".output_html .s { color: #BA2121 } /* Literal.String */\n",
       ".output_html .na { color: #687822 } /* Name.Attribute */\n",
       ".output_html .nb { color: #008000 } /* Name.Builtin */\n",
       ".output_html .nc { color: #0000FF; font-weight: bold } /* Name.Class */\n",
       ".output_html .no { color: #880000 } /* Name.Constant */\n",
       ".output_html .nd { color: #AA22FF } /* Name.Decorator */\n",
       ".output_html .ni { color: #717171; font-weight: bold } /* Name.Entity */\n",
       ".output_html .ne { color: #CB3F38; font-weight: bold } /* Name.Exception */\n",
       ".output_html .nf { color: #0000FF } /* Name.Function */\n",
       ".output_html .nl { color: #767600 } /* Name.Label */\n",
       ".output_html .nn { color: #0000FF; font-weight: bold } /* Name.Namespace */\n",
       ".output_html .nt { color: #008000; font-weight: bold } /* Name.Tag */\n",
       ".output_html .nv { color: #19177C } /* Name.Variable */\n",
       ".output_html .ow { color: #AA22FF; font-weight: bold } /* Operator.Word */\n",
       ".output_html .w { color: #bbbbbb } /* Text.Whitespace */\n",
       ".output_html .mb { color: #666666 } /* Literal.Number.Bin */\n",
       ".output_html .mf { color: #666666 } /* Literal.Number.Float */\n",
       ".output_html .mh { color: #666666 } /* Literal.Number.Hex */\n",
       ".output_html .mi { color: #666666 } /* Literal.Number.Integer */\n",
       ".output_html .mo { color: #666666 } /* Literal.Number.Oct */\n",
       ".output_html .sa { color: #BA2121 } /* Literal.String.Affix */\n",
       ".output_html .sb { color: #BA2121 } /* Literal.String.Backtick */\n",
       ".output_html .sc { color: #BA2121 } /* Literal.String.Char */\n",
       ".output_html .dl { color: #BA2121 } /* Literal.String.Delimiter */\n",
       ".output_html .sd { color: #BA2121; font-style: italic } /* Literal.String.Doc */\n",
       ".output_html .s2 { color: #BA2121 } /* Literal.String.Double */\n",
       ".output_html .se { color: #AA5D1F; font-weight: bold } /* Literal.String.Escape */\n",
       ".output_html .sh { color: #BA2121 } /* Literal.String.Heredoc */\n",
       ".output_html .si { color: #A45A77; font-weight: bold } /* Literal.String.Interpol */\n",
       ".output_html .sx { color: #008000 } /* Literal.String.Other */\n",
       ".output_html .sr { color: #A45A77 } /* Literal.String.Regex */\n",
       ".output_html .s1 { color: #BA2121 } /* Literal.String.Single */\n",
       ".output_html .ss { color: #19177C } /* Literal.String.Symbol */\n",
       ".output_html .bp { color: #008000 } /* Name.Builtin.Pseudo */\n",
       ".output_html .fm { color: #0000FF } /* Name.Function.Magic */\n",
       ".output_html .vc { color: #19177C } /* Name.Variable.Class */\n",
       ".output_html .vg { color: #19177C } /* Name.Variable.Global */\n",
       ".output_html .vi { color: #19177C } /* Name.Variable.Instance */\n",
       ".output_html .vm { color: #19177C } /* Name.Variable.Magic */\n",
       ".output_html .il { color: #666666 } /* Literal.Number.Integer.Long */</style><div class=\"highlight\"><pre><span></span><span class=\"k\">class</span> <span class=\"nc\">CodexBaseRepair</span><span class=\"p\">(</span><span class=\"n\">CodexRepair</span><span class=\"p\">):</span>\n",
       "<span class=\"w\">    </span><span class=\"sd\">&quot;&quot;&quot;</span>\n",
       "<span class=\"sd\">    Based on https://beta.openai.com/examples/default-fix-python-bugs</span>\n",
       "<span class=\"sd\">    &quot;&quot;&quot;</span>\n",
       "\n",
       "    <span class=\"k\">def</span> <span class=\"fm\">__init__</span><span class=\"p\">(</span><span class=\"bp\">self</span><span class=\"p\">,</span> <span class=\"o\">*</span><span class=\"n\">args</span><span class=\"p\">,</span> <span class=\"o\">**</span><span class=\"n\">kwargs</span><span class=\"p\">):</span>\n",
       "        <span class=\"bp\">self</span><span class=\"o\">.</span><span class=\"n\">codex</span> <span class=\"o\">=</span> <span class=\"n\">CodexEngine</span><span class=\"p\">(</span><span class=\"o\">*</span><span class=\"n\">args</span><span class=\"p\">,</span> <span class=\"o\">**</span><span class=\"n\">kwargs</span><span class=\"p\">)</span>\n",
       "\n",
       "    <span class=\"k\">def</span> <span class=\"nf\">get_prompt</span><span class=\"p\">(</span><span class=\"bp\">self</span><span class=\"p\">,</span> <span class=\"n\">code</span><span class=\"p\">:</span> <span class=\"nb\">str</span><span class=\"p\">,</span> <span class=\"o\">**</span><span class=\"n\">kwargs</span><span class=\"p\">)</span> <span class=\"o\">-&gt;</span> <span class=\"nb\">str</span><span class=\"p\">:</span>\n",
       "        <span class=\"c1\"># Based on https://beta.openai.com/examples/default-fix-python-bugs</span>\n",
       "        <span class=\"n\">prompt</span> <span class=\"o\">=</span> <span class=\"s2\">&quot;&quot;&quot;//// Fix bugs in the below code</span><span class=\"se\">\\n</span><span class=\"s2\">&quot;&quot;&quot;</span>\n",
       "        <span class=\"n\">prompt</span> <span class=\"o\">+=</span> <span class=\"sa\">f</span><span class=\"s2\">&quot;/// Buggy C</span><span class=\"se\">\\n</span><span class=\"si\">{</span><span class=\"n\">code</span><span class=\"si\">}</span><span class=\"se\">\\n\\n</span><span class=\"s2\">&quot;</span>\n",
       "        <span class=\"n\">prompt</span> <span class=\"o\">+=</span> <span class=\"s2\">&quot;/// Fixed C&quot;</span>\n",
       "        <span class=\"k\">if</span> <span class=\"s1\">&#39;fixed&#39;</span> <span class=\"ow\">in</span> <span class=\"n\">kwargs</span> <span class=\"ow\">and</span> <span class=\"n\">kwargs</span><span class=\"p\">[</span><span class=\"s1\">&#39;fixed&#39;</span><span class=\"p\">]</span> <span class=\"ow\">is</span> <span class=\"ow\">not</span> <span class=\"kc\">None</span><span class=\"p\">:</span>\n",
       "            <span class=\"n\">prompt</span> <span class=\"o\">+=</span> <span class=\"sa\">f</span><span class=\"s2\">&quot;</span><span class=\"se\">\\n</span><span class=\"si\">{</span><span class=\"n\">kwargs</span><span class=\"p\">[</span><span class=\"s1\">&#39;fixed&#39;</span><span class=\"p\">]</span><span class=\"si\">}</span><span class=\"se\">\\n\\n</span><span class=\"s2\">&quot;</span>\n",
       "\n",
       "        <span class=\"k\">return</span> <span class=\"n\">prompt</span>\n",
       "\n",
       "    <span class=\"k\">def</span> <span class=\"nf\">get_repair_from_completion_</span><span class=\"p\">(</span>\n",
       "            <span class=\"bp\">self</span><span class=\"p\">,</span> <span class=\"n\">completion_dict</span><span class=\"p\">:</span> <span class=\"n\">Dict</span><span class=\"p\">[</span><span class=\"nb\">str</span><span class=\"p\">,</span> <span class=\"n\">Any</span><span class=\"p\">])</span> <span class=\"o\">-&gt;</span> <span class=\"n\">Dict</span><span class=\"p\">[</span><span class=\"nb\">str</span><span class=\"p\">,</span> <span class=\"n\">Any</span><span class=\"p\">]:</span>\n",
       "        <span class=\"n\">comp</span> <span class=\"o\">=</span> <span class=\"n\">completion_dict</span><span class=\"p\">[</span><span class=\"s2\">&quot;completion&quot;</span><span class=\"p\">]</span>\n",
       "        <span class=\"c1\"># remove first \\n and last \\n, result from our prompt style</span>\n",
       "        <span class=\"k\">if</span> <span class=\"n\">comp</span><span class=\"p\">[</span><span class=\"mi\">0</span><span class=\"p\">]</span> <span class=\"o\">==</span> <span class=\"s2\">&quot;</span><span class=\"se\">\\n</span><span class=\"s2\">&quot;</span><span class=\"p\">:</span>\n",
       "            <span class=\"n\">comp</span> <span class=\"o\">=</span> <span class=\"n\">comp</span><span class=\"p\">[</span><span class=\"mi\">1</span><span class=\"p\">:]</span>\n",
       "        <span class=\"k\">if</span> <span class=\"n\">comp</span><span class=\"p\">[</span><span class=\"o\">-</span><span class=\"mi\">1</span><span class=\"p\">]</span> <span class=\"o\">==</span> <span class=\"s2\">&quot;</span><span class=\"se\">\\n</span><span class=\"s2\">&quot;</span><span class=\"p\">:</span>\n",
       "            <span class=\"n\">comp</span> <span class=\"o\">=</span> <span class=\"n\">comp</span><span class=\"p\">[:</span><span class=\"o\">-</span><span class=\"mi\">1</span><span class=\"p\">]</span>\n",
       "        <span class=\"k\">return</span> <span class=\"p\">{</span><span class=\"s2\">&quot;repair&quot;</span><span class=\"p\">:</span> <span class=\"n\">comp</span><span class=\"p\">,</span> <span class=\"s2\">&quot;score&quot;</span><span class=\"p\">:</span> <span class=\"n\">completion_dict</span><span class=\"p\">[</span><span class=\"s2\">&quot;avg_logprob&quot;</span><span class=\"p\">]}</span>\n",
       "\n",
       "    <span class=\"k\">def</span> <span class=\"nf\">deduplicate_repairs_</span><span class=\"p\">(</span>\n",
       "            <span class=\"bp\">self</span><span class=\"p\">,</span> <span class=\"n\">repair_dicts</span><span class=\"p\">:</span> <span class=\"n\">List</span><span class=\"p\">[</span><span class=\"n\">Dict</span><span class=\"p\">[</span><span class=\"nb\">str</span><span class=\"p\">,</span> <span class=\"n\">Any</span><span class=\"p\">]])</span> <span class=\"o\">-&gt;</span> <span class=\"n\">List</span><span class=\"p\">[</span><span class=\"n\">Dict</span><span class=\"p\">[</span><span class=\"nb\">str</span><span class=\"p\">,</span> <span class=\"n\">Any</span><span class=\"p\">]]:</span>\n",
       "        <span class=\"n\">unique_repair_dicts</span> <span class=\"o\">=</span> <span class=\"p\">[]</span>\n",
       "        <span class=\"n\">already_included</span> <span class=\"o\">=</span> <span class=\"nb\">set</span><span class=\"p\">()</span>\n",
       "        <span class=\"k\">for</span> <span class=\"n\">rd</span> <span class=\"ow\">in</span> <span class=\"n\">repair_dicts</span><span class=\"p\">:</span>\n",
       "            <span class=\"n\">repair_str</span> <span class=\"o\">=</span> <span class=\"n\">rd</span><span class=\"p\">[</span><span class=\"s2\">&quot;repair&quot;</span><span class=\"p\">]</span>\n",
       "            <span class=\"k\">if</span> <span class=\"n\">repair_str</span> <span class=\"ow\">not</span> <span class=\"ow\">in</span> <span class=\"n\">already_included</span><span class=\"p\">:</span>\n",
       "                <span class=\"n\">unique_repair_dicts</span><span class=\"o\">.</span><span class=\"n\">append</span><span class=\"p\">(</span><span class=\"n\">rd</span><span class=\"p\">)</span>\n",
       "                <span class=\"n\">already_included</span><span class=\"o\">.</span><span class=\"n\">add</span><span class=\"p\">(</span><span class=\"n\">repair_str</span><span class=\"p\">)</span>\n",
       "        <span class=\"k\">return</span> <span class=\"n\">unique_repair_dicts</span>\n",
       "\n",
       "    <span class=\"k\">def</span> <span class=\"nf\">repair</span><span class=\"p\">(</span><span class=\"bp\">self</span><span class=\"p\">,</span> <span class=\"n\">code</span><span class=\"p\">:</span> <span class=\"nb\">str</span><span class=\"p\">,</span> <span class=\"o\">**</span><span class=\"n\">kwargs</span><span class=\"p\">):</span>\n",
       "        <span class=\"c1\"># FIXME: warn if number of tokens too few for length of code</span>\n",
       "        <span class=\"c1\"># or set to num tokens + K</span>\n",
       "        <span class=\"c1\"># Use: https://github.com/openai/tiktoken , which is fast openai tokenizer</span>\n",
       "        <span class=\"c1\"># to estimate tokens for code and pass in as maxtokens=&lt;val&gt;</span>\n",
       "        <span class=\"n\">prompt</span> <span class=\"o\">=</span> <span class=\"bp\">self</span><span class=\"o\">.</span><span class=\"n\">get_prompt</span><span class=\"p\">(</span><span class=\"n\">code</span><span class=\"p\">,</span> <span class=\"o\">**</span><span class=\"n\">kwargs</span><span class=\"p\">)</span>\n",
       "        <span class=\"n\">completion_dicts</span> <span class=\"o\">=</span> <span class=\"bp\">self</span><span class=\"o\">.</span><span class=\"n\">codex</span><span class=\"o\">.</span><span class=\"n\">complete</span><span class=\"p\">(</span><span class=\"n\">prompt</span><span class=\"p\">,</span> <span class=\"o\">**</span><span class=\"n\">kwargs</span><span class=\"p\">)</span>\n",
       "        <span class=\"k\">if</span> <span class=\"n\">completion_dicts</span> <span class=\"ow\">is</span> <span class=\"kc\">None</span><span class=\"p\">:</span>\n",
       "            <span class=\"k\">return</span> <span class=\"p\">[]</span>\n",
       "\n",
       "        <span class=\"n\">repair_dicts</span> <span class=\"o\">=</span> <span class=\"p\">[</span>\n",
       "            <span class=\"bp\">self</span><span class=\"o\">.</span><span class=\"n\">get_repair_from_completion_</span><span class=\"p\">(</span><span class=\"n\">c</span><span class=\"p\">)</span> <span class=\"k\">for</span> <span class=\"n\">c</span> <span class=\"ow\">in</span> <span class=\"n\">completion_dicts</span>\n",
       "        <span class=\"p\">]</span>\n",
       "        <span class=\"n\">repair_dicts</span> <span class=\"o\">=</span> <span class=\"bp\">self</span><span class=\"o\">.</span><span class=\"n\">deduplicate_repairs_</span><span class=\"p\">(</span><span class=\"n\">repair_dicts</span><span class=\"p\">)</span>\n",
       "        <span class=\"k\">return</span> <span class=\"n\">repair_dicts</span>\n",
       "</pre></div>\n"
      ],
      "text/latex": [
       "\\begin{Verbatim}[commandchars=\\\\\\{\\}]\n",
       "\\PY{k}{class} \\PY{n+nc}{CodexBaseRepair}\\PY{p}{(}\\PY{n}{CodexRepair}\\PY{p}{)}\\PY{p}{:}\n",
       "\\PY{+w}{    }\\PY{l+s+sd}{\\PYZdq{}\\PYZdq{}\\PYZdq{}}\n",
       "\\PY{l+s+sd}{    Based on https://beta.openai.com/examples/default\\PYZhy{}fix\\PYZhy{}python\\PYZhy{}bugs}\n",
       "\\PY{l+s+sd}{    \\PYZdq{}\\PYZdq{}\\PYZdq{}}\n",
       "\n",
       "    \\PY{k}{def} \\PY{n+nf+fm}{\\PYZus{}\\PYZus{}init\\PYZus{}\\PYZus{}}\\PY{p}{(}\\PY{n+nb+bp}{self}\\PY{p}{,} \\PY{o}{*}\\PY{n}{args}\\PY{p}{,} \\PY{o}{*}\\PY{o}{*}\\PY{n}{kwargs}\\PY{p}{)}\\PY{p}{:}\n",
       "        \\PY{n+nb+bp}{self}\\PY{o}{.}\\PY{n}{codex} \\PY{o}{=} \\PY{n}{CodexEngine}\\PY{p}{(}\\PY{o}{*}\\PY{n}{args}\\PY{p}{,} \\PY{o}{*}\\PY{o}{*}\\PY{n}{kwargs}\\PY{p}{)}\n",
       "\n",
       "    \\PY{k}{def} \\PY{n+nf}{get\\PYZus{}prompt}\\PY{p}{(}\\PY{n+nb+bp}{self}\\PY{p}{,} \\PY{n}{code}\\PY{p}{:} \\PY{n+nb}{str}\\PY{p}{,} \\PY{o}{*}\\PY{o}{*}\\PY{n}{kwargs}\\PY{p}{)} \\PY{o}{\\PYZhy{}}\\PY{o}{\\PYZgt{}} \\PY{n+nb}{str}\\PY{p}{:}\n",
       "        \\PY{c+c1}{\\PYZsh{} Based on https://beta.openai.com/examples/default\\PYZhy{}fix\\PYZhy{}python\\PYZhy{}bugs}\n",
       "        \\PY{n}{prompt} \\PY{o}{=} \\PY{l+s+s2}{\\PYZdq{}\\PYZdq{}\\PYZdq{}}\\PY{l+s+s2}{//// Fix bugs in the below code}\\PY{l+s+se}{\\PYZbs{}n}\\PY{l+s+s2}{\\PYZdq{}\\PYZdq{}\\PYZdq{}}\n",
       "        \\PY{n}{prompt} \\PY{o}{+}\\PY{o}{=} \\PY{l+s+sa}{f}\\PY{l+s+s2}{\\PYZdq{}}\\PY{l+s+s2}{/// Buggy C}\\PY{l+s+se}{\\PYZbs{}n}\\PY{l+s+si}{\\PYZob{}}\\PY{n}{code}\\PY{l+s+si}{\\PYZcb{}}\\PY{l+s+se}{\\PYZbs{}n}\\PY{l+s+se}{\\PYZbs{}n}\\PY{l+s+s2}{\\PYZdq{}}\n",
       "        \\PY{n}{prompt} \\PY{o}{+}\\PY{o}{=} \\PY{l+s+s2}{\\PYZdq{}}\\PY{l+s+s2}{/// Fixed C}\\PY{l+s+s2}{\\PYZdq{}}\n",
       "        \\PY{k}{if} \\PY{l+s+s1}{\\PYZsq{}}\\PY{l+s+s1}{fixed}\\PY{l+s+s1}{\\PYZsq{}} \\PY{o+ow}{in} \\PY{n}{kwargs} \\PY{o+ow}{and} \\PY{n}{kwargs}\\PY{p}{[}\\PY{l+s+s1}{\\PYZsq{}}\\PY{l+s+s1}{fixed}\\PY{l+s+s1}{\\PYZsq{}}\\PY{p}{]} \\PY{o+ow}{is} \\PY{o+ow}{not} \\PY{k+kc}{None}\\PY{p}{:}\n",
       "            \\PY{n}{prompt} \\PY{o}{+}\\PY{o}{=} \\PY{l+s+sa}{f}\\PY{l+s+s2}{\\PYZdq{}}\\PY{l+s+se}{\\PYZbs{}n}\\PY{l+s+si}{\\PYZob{}}\\PY{n}{kwargs}\\PY{p}{[}\\PY{l+s+s1}{\\PYZsq{}}\\PY{l+s+s1}{fixed}\\PY{l+s+s1}{\\PYZsq{}}\\PY{p}{]}\\PY{l+s+si}{\\PYZcb{}}\\PY{l+s+se}{\\PYZbs{}n}\\PY{l+s+se}{\\PYZbs{}n}\\PY{l+s+s2}{\\PYZdq{}}\n",
       "\n",
       "        \\PY{k}{return} \\PY{n}{prompt}\n",
       "\n",
       "    \\PY{k}{def} \\PY{n+nf}{get\\PYZus{}repair\\PYZus{}from\\PYZus{}completion\\PYZus{}}\\PY{p}{(}\n",
       "            \\PY{n+nb+bp}{self}\\PY{p}{,} \\PY{n}{completion\\PYZus{}dict}\\PY{p}{:} \\PY{n}{Dict}\\PY{p}{[}\\PY{n+nb}{str}\\PY{p}{,} \\PY{n}{Any}\\PY{p}{]}\\PY{p}{)} \\PY{o}{\\PYZhy{}}\\PY{o}{\\PYZgt{}} \\PY{n}{Dict}\\PY{p}{[}\\PY{n+nb}{str}\\PY{p}{,} \\PY{n}{Any}\\PY{p}{]}\\PY{p}{:}\n",
       "        \\PY{n}{comp} \\PY{o}{=} \\PY{n}{completion\\PYZus{}dict}\\PY{p}{[}\\PY{l+s+s2}{\\PYZdq{}}\\PY{l+s+s2}{completion}\\PY{l+s+s2}{\\PYZdq{}}\\PY{p}{]}\n",
       "        \\PY{c+c1}{\\PYZsh{} remove first \\PYZbs{}n and last \\PYZbs{}n, result from our prompt style}\n",
       "        \\PY{k}{if} \\PY{n}{comp}\\PY{p}{[}\\PY{l+m+mi}{0}\\PY{p}{]} \\PY{o}{==} \\PY{l+s+s2}{\\PYZdq{}}\\PY{l+s+se}{\\PYZbs{}n}\\PY{l+s+s2}{\\PYZdq{}}\\PY{p}{:}\n",
       "            \\PY{n}{comp} \\PY{o}{=} \\PY{n}{comp}\\PY{p}{[}\\PY{l+m+mi}{1}\\PY{p}{:}\\PY{p}{]}\n",
       "        \\PY{k}{if} \\PY{n}{comp}\\PY{p}{[}\\PY{o}{\\PYZhy{}}\\PY{l+m+mi}{1}\\PY{p}{]} \\PY{o}{==} \\PY{l+s+s2}{\\PYZdq{}}\\PY{l+s+se}{\\PYZbs{}n}\\PY{l+s+s2}{\\PYZdq{}}\\PY{p}{:}\n",
       "            \\PY{n}{comp} \\PY{o}{=} \\PY{n}{comp}\\PY{p}{[}\\PY{p}{:}\\PY{o}{\\PYZhy{}}\\PY{l+m+mi}{1}\\PY{p}{]}\n",
       "        \\PY{k}{return} \\PY{p}{\\PYZob{}}\\PY{l+s+s2}{\\PYZdq{}}\\PY{l+s+s2}{repair}\\PY{l+s+s2}{\\PYZdq{}}\\PY{p}{:} \\PY{n}{comp}\\PY{p}{,} \\PY{l+s+s2}{\\PYZdq{}}\\PY{l+s+s2}{score}\\PY{l+s+s2}{\\PYZdq{}}\\PY{p}{:} \\PY{n}{completion\\PYZus{}dict}\\PY{p}{[}\\PY{l+s+s2}{\\PYZdq{}}\\PY{l+s+s2}{avg\\PYZus{}logprob}\\PY{l+s+s2}{\\PYZdq{}}\\PY{p}{]}\\PY{p}{\\PYZcb{}}\n",
       "\n",
       "    \\PY{k}{def} \\PY{n+nf}{deduplicate\\PYZus{}repairs\\PYZus{}}\\PY{p}{(}\n",
       "            \\PY{n+nb+bp}{self}\\PY{p}{,} \\PY{n}{repair\\PYZus{}dicts}\\PY{p}{:} \\PY{n}{List}\\PY{p}{[}\\PY{n}{Dict}\\PY{p}{[}\\PY{n+nb}{str}\\PY{p}{,} \\PY{n}{Any}\\PY{p}{]}\\PY{p}{]}\\PY{p}{)} \\PY{o}{\\PYZhy{}}\\PY{o}{\\PYZgt{}} \\PY{n}{List}\\PY{p}{[}\\PY{n}{Dict}\\PY{p}{[}\\PY{n+nb}{str}\\PY{p}{,} \\PY{n}{Any}\\PY{p}{]}\\PY{p}{]}\\PY{p}{:}\n",
       "        \\PY{n}{unique\\PYZus{}repair\\PYZus{}dicts} \\PY{o}{=} \\PY{p}{[}\\PY{p}{]}\n",
       "        \\PY{n}{already\\PYZus{}included} \\PY{o}{=} \\PY{n+nb}{set}\\PY{p}{(}\\PY{p}{)}\n",
       "        \\PY{k}{for} \\PY{n}{rd} \\PY{o+ow}{in} \\PY{n}{repair\\PYZus{}dicts}\\PY{p}{:}\n",
       "            \\PY{n}{repair\\PYZus{}str} \\PY{o}{=} \\PY{n}{rd}\\PY{p}{[}\\PY{l+s+s2}{\\PYZdq{}}\\PY{l+s+s2}{repair}\\PY{l+s+s2}{\\PYZdq{}}\\PY{p}{]}\n",
       "            \\PY{k}{if} \\PY{n}{repair\\PYZus{}str} \\PY{o+ow}{not} \\PY{o+ow}{in} \\PY{n}{already\\PYZus{}included}\\PY{p}{:}\n",
       "                \\PY{n}{unique\\PYZus{}repair\\PYZus{}dicts}\\PY{o}{.}\\PY{n}{append}\\PY{p}{(}\\PY{n}{rd}\\PY{p}{)}\n",
       "                \\PY{n}{already\\PYZus{}included}\\PY{o}{.}\\PY{n}{add}\\PY{p}{(}\\PY{n}{repair\\PYZus{}str}\\PY{p}{)}\n",
       "        \\PY{k}{return} \\PY{n}{unique\\PYZus{}repair\\PYZus{}dicts}\n",
       "\n",
       "    \\PY{k}{def} \\PY{n+nf}{repair}\\PY{p}{(}\\PY{n+nb+bp}{self}\\PY{p}{,} \\PY{n}{code}\\PY{p}{:} \\PY{n+nb}{str}\\PY{p}{,} \\PY{o}{*}\\PY{o}{*}\\PY{n}{kwargs}\\PY{p}{)}\\PY{p}{:}\n",
       "        \\PY{c+c1}{\\PYZsh{} FIXME: warn if number of tokens too few for length of code}\n",
       "        \\PY{c+c1}{\\PYZsh{} or set to num tokens + K}\n",
       "        \\PY{c+c1}{\\PYZsh{} Use: https://github.com/openai/tiktoken , which is fast openai tokenizer}\n",
       "        \\PY{c+c1}{\\PYZsh{} to estimate tokens for code and pass in as maxtokens=\\PYZlt{}val\\PYZgt{}}\n",
       "        \\PY{n}{prompt} \\PY{o}{=} \\PY{n+nb+bp}{self}\\PY{o}{.}\\PY{n}{get\\PYZus{}prompt}\\PY{p}{(}\\PY{n}{code}\\PY{p}{,} \\PY{o}{*}\\PY{o}{*}\\PY{n}{kwargs}\\PY{p}{)}\n",
       "        \\PY{n}{completion\\PYZus{}dicts} \\PY{o}{=} \\PY{n+nb+bp}{self}\\PY{o}{.}\\PY{n}{codex}\\PY{o}{.}\\PY{n}{complete}\\PY{p}{(}\\PY{n}{prompt}\\PY{p}{,} \\PY{o}{*}\\PY{o}{*}\\PY{n}{kwargs}\\PY{p}{)}\n",
       "        \\PY{k}{if} \\PY{n}{completion\\PYZus{}dicts} \\PY{o+ow}{is} \\PY{k+kc}{None}\\PY{p}{:}\n",
       "            \\PY{k}{return} \\PY{p}{[}\\PY{p}{]}\n",
       "\n",
       "        \\PY{n}{repair\\PYZus{}dicts} \\PY{o}{=} \\PY{p}{[}\n",
       "            \\PY{n+nb+bp}{self}\\PY{o}{.}\\PY{n}{get\\PYZus{}repair\\PYZus{}from\\PYZus{}completion\\PYZus{}}\\PY{p}{(}\\PY{n}{c}\\PY{p}{)} \\PY{k}{for} \\PY{n}{c} \\PY{o+ow}{in} \\PY{n}{completion\\PYZus{}dicts}\n",
       "        \\PY{p}{]}\n",
       "        \\PY{n}{repair\\PYZus{}dicts} \\PY{o}{=} \\PY{n+nb+bp}{self}\\PY{o}{.}\\PY{n}{deduplicate\\PYZus{}repairs\\PYZus{}}\\PY{p}{(}\\PY{n}{repair\\PYZus{}dicts}\\PY{p}{)}\n",
       "        \\PY{k}{return} \\PY{n}{repair\\PYZus{}dicts}\n",
       "\\end{Verbatim}\n"
      ],
      "text/plain": [
       "class CodexBaseRepair(CodexRepair):\n",
       "    \"\"\"\n",
       "    Based on https://beta.openai.com/examples/default-fix-python-bugs\n",
       "    \"\"\"\n",
       "\n",
       "    def __init__(self, *args, **kwargs):\n",
       "        self.codex = CodexEngine(*args, **kwargs)\n",
       "\n",
       "    def get_prompt(self, code: str, **kwargs) -> str:\n",
       "        # Based on https://beta.openai.com/examples/default-fix-python-bugs\n",
       "        prompt = \"\"\"//// Fix bugs in the below code\\n\"\"\"\n",
       "        prompt += f\"/// Buggy C\\n{code}\\n\\n\"\n",
       "        prompt += \"/// Fixed C\"\n",
       "        if 'fixed' in kwargs and kwargs['fixed'] is not None:\n",
       "            prompt += f\"\\n{kwargs['fixed']}\\n\\n\"\n",
       "\n",
       "        return prompt\n",
       "\n",
       "    def get_repair_from_completion_(\n",
       "            self, completion_dict: Dict[str, Any]) -> Dict[str, Any]:\n",
       "        comp = completion_dict[\"completion\"]\n",
       "        # remove first \\n and last \\n, result from our prompt style\n",
       "        if comp[0] == \"\\n\":\n",
       "            comp = comp[1:]\n",
       "        if comp[-1] == \"\\n\":\n",
       "            comp = comp[:-1]\n",
       "        return {\"repair\": comp, \"score\": completion_dict[\"avg_logprob\"]}\n",
       "\n",
       "    def deduplicate_repairs_(\n",
       "            self, repair_dicts: List[Dict[str, Any]]) -> List[Dict[str, Any]]:\n",
       "        unique_repair_dicts = []\n",
       "        already_included = set()\n",
       "        for rd in repair_dicts:\n",
       "            repair_str = rd[\"repair\"]\n",
       "            if repair_str not in already_included:\n",
       "                unique_repair_dicts.append(rd)\n",
       "                already_included.add(repair_str)\n",
       "        return unique_repair_dicts\n",
       "\n",
       "    def repair(self, code: str, **kwargs):\n",
       "        # FIXME: warn if number of tokens too few for length of code\n",
       "        # or set to num tokens + K\n",
       "        # Use: https://github.com/openai/tiktoken , which is fast openai tokenizer\n",
       "        # to estimate tokens for code and pass in as maxtokens=<val>\n",
       "        prompt = self.get_prompt(code, **kwargs)\n",
       "        completion_dicts = self.codex.complete(prompt, **kwargs)\n",
       "        if completion_dicts is None:\n",
       "            return []\n",
       "\n",
       "        repair_dicts = [\n",
       "            self.get_repair_from_completion_(c) for c in completion_dicts\n",
       "        ]\n",
       "        repair_dicts = self.deduplicate_repairs_(repair_dicts)\n",
       "        return repair_dicts"
      ]
     },
     "execution_count": 160,
     "metadata": {},
     "output_type": "execute_result"
    }
   ],
   "source": [
    "from repair import tutorial_utils\n",
    "tutorial_utils.show_code(codex.CodexBaseRepair)"
   ]
  },
  {
   "cell_type": "code",
   "execution_count": 100,
   "metadata": {},
   "outputs": [],
   "source": [
    "from importlib import reload\n",
    "from repair.engines import codex\n",
    "from repair import utils\n",
    "codex = reload(codex)\n",
    "utils = reload(utils)\n",
    "codex_base = codex.CodexBaseRepair(openai.api_key)"
   ]
  },
  {
   "cell_type": "code",
   "execution_count": 101,
   "metadata": {},
   "outputs": [],
   "source": [
    "test = utils.get_test_data()"
   ]
  },
  {
   "cell_type": "code",
   "execution_count": 102,
   "metadata": {},
   "outputs": [
    {
     "data": {
      "text/plain": [
       "5"
      ]
     },
     "execution_count": 102,
     "metadata": {},
     "output_type": "execute_result"
    }
   ],
   "source": [
    "len(test)"
   ]
  },
  {
   "cell_type": "code",
   "execution_count": 97,
   "metadata": {},
   "outputs": [],
   "source": [
    "pred = codex_base.repair(test[0].source, n=1)"
   ]
  },
  {
   "cell_type": "code",
   "execution_count": 103,
   "metadata": {},
   "outputs": [
    {
     "name": "stderr",
     "output_type": "stream",
     "text": [
      "100%|██████████| 5/5 [00:44<00:00,  8.85s/it]\n"
     ]
    }
   ],
   "source": [
    "res = utils.run_benchmark(codex_base, n=1)"
   ]
  },
  {
   "attachments": {},
   "cell_type": "markdown",
   "metadata": {},
   "source": [
    "### Add error message to improve error localization"
   ]
  },
  {
   "cell_type": "code",
   "execution_count": 110,
   "metadata": {},
   "outputs": [
    {
     "name": "stdout",
     "output_type": "stream",
     "text": [
      "class CodexWithErrorInfo(CodexBaseRepair):\n",
      "\n",
      "    def __init__(self, *args, **kwargs):\n",
      "        super().__init__(*args, **kwargs)\n",
      "        self.error_cache = {}\n",
      "\n",
      "    def _get_error_info(self, code: str) -> str:\n",
      "        if code not in self.error_cache:\n",
      "            self.error_cache[code] = gcc_compile(code).error\n",
      "        return self.error_cache[code]\n",
      "\n",
      "    def get_prompt(self, code: str, **kwargs):\n",
      "        prompt = \"\"\"//// Fix bugs in the below code\\n\"\"\"\n",
      "        prompt += f\"/// Buggy C\\n{code}\\n\\n\"\n",
      "        error_msg = self._get_error_info(code)\n",
      "        prompt += f\"/// Error Message\\n{error_msg}\\n\\n\"\n",
      "        prompt += \"/// Fixed C\"\n",
      "        if 'fixed' in kwargs and kwargs['fixed'] is not None:\n",
      "            prompt += f\"\\n{kwargs['fixed']}\\n\\n\"\n",
      "\n",
      "        return prompt\n",
      "\n"
     ]
    }
   ],
   "source": [
    "import inspect\n",
    "print(inspect.getsource(codex.CodexWithErrorInfo))"
   ]
  },
  {
   "cell_type": "code",
   "execution_count": 111,
   "metadata": {},
   "outputs": [],
   "source": [
    "codex_msg = codex.CodexWithErrorInfo(openai.api_key)"
   ]
  },
  {
   "cell_type": "code",
   "execution_count": 114,
   "metadata": {},
   "outputs": [
    {
     "name": "stdout",
     "output_type": "stream",
     "text": [
      "//// Fix bugs in the below code\n",
      "/// Buggy C\n",
      "int main( {return 0;}\n",
      "\n",
      "/// Error Message\n",
      "/tmp/tmp2av57t37.c:1:11: error: expected declaration specifiers or ‘...’ before ‘{’ token\n",
      "    1 | int main( {return 0;}\n",
      "      |           ^\n",
      "\n",
      "\n",
      "/// Fixed C\n"
     ]
    }
   ],
   "source": [
    "print(codex_msg.get_prompt(bad_simple))"
   ]
  },
  {
   "cell_type": "code",
   "execution_count": 115,
   "metadata": {},
   "outputs": [
    {
     "data": {
      "text/plain": [
       "[{'repair': 'int main() {return 0;}\\n', 'score': -0.33848194814375}]"
      ]
     },
     "execution_count": 115,
     "metadata": {},
     "output_type": "execute_result"
    }
   ],
   "source": [
    "codex_msg.repair(bad_simple, maxtokens=100, n=1)"
   ]
  },
  {
   "cell_type": "code",
   "execution_count": 116,
   "metadata": {},
   "outputs": [
    {
     "name": "stderr",
     "output_type": "stream",
     "text": [
      "100%|██████████| 5/5 [00:38<00:00,  7.61s/it]\n"
     ]
    }
   ],
   "source": [
    "res2 =  utils.run_benchmark(codex_msg, n=1)"
   ]
  },
  {
   "cell_type": "code",
   "execution_count": 118,
   "metadata": {},
   "outputs": [
    {
     "data": {
      "text/html": [
       "<div>\n",
       "<style scoped>\n",
       "    .dataframe tbody tr th:only-of-type {\n",
       "        vertical-align: middle;\n",
       "    }\n",
       "\n",
       "    .dataframe tbody tr th {\n",
       "        vertical-align: top;\n",
       "    }\n",
       "\n",
       "    .dataframe thead th {\n",
       "        text-align: right;\n",
       "    }\n",
       "</style>\n",
       "<table border=\"1\" class=\"dataframe\">\n",
       "  <thead>\n",
       "    <tr style=\"text-align: right;\">\n",
       "      <th>cutoff</th>\n",
       "      <th>stat</th>\n",
       "      <th>top-1</th>\n",
       "      <th>top-3</th>\n",
       "      <th>top-5</th>\n",
       "    </tr>\n",
       "  </thead>\n",
       "  <tbody>\n",
       "    <tr>\n",
       "      <th>0</th>\n",
       "      <td>compile</td>\n",
       "      <td>0.2</td>\n",
       "      <td>0.2</td>\n",
       "      <td>0.2</td>\n",
       "    </tr>\n",
       "    <tr>\n",
       "      <th>1</th>\n",
       "      <td>compile+distance</td>\n",
       "      <td>0.2</td>\n",
       "      <td>0.2</td>\n",
       "      <td>0.2</td>\n",
       "    </tr>\n",
       "  </tbody>\n",
       "</table>\n",
       "</div>"
      ],
      "text/plain": [
       "cutoff              stat  top-1  top-3  top-5\n",
       "0                compile    0.2    0.2    0.2\n",
       "1       compile+distance    0.2    0.2    0.2"
      ]
     },
     "execution_count": 118,
     "metadata": {},
     "output_type": "execute_result"
    }
   ],
   "source": [
    "res2[0]"
   ]
  },
  {
   "attachments": {},
   "cell_type": "markdown",
   "metadata": {},
   "source": [
    "### Add few-shots to help show what kind of edits may be needed"
   ]
  },
  {
   "cell_type": "code",
   "execution_count": 121,
   "metadata": {},
   "outputs": [
    {
     "name": "stdout",
     "output_type": "stream",
     "text": [
      "class CodexWithFewShots(CodexBaseRepair):\n",
      "\n",
      "    def __init__(self, shot_selector: FewShotSelector, *args, **kwargs):\n",
      "        super().__init__(*args, **kwargs)\n",
      "        self.shot_selector = shot_selector\n",
      "        self.prompt_helper = CodexWithErrorInfo(*args, **kwargs)\n",
      "\n",
      "    def get_prompt(self, code: str, **kwargs):\n",
      "        few_shots = self.shot_selector.select_shots(code)\n",
      "        prompt = \"\"\n",
      "        for (buggy_shot, fixed_shot) in few_shots:\n",
      "            prompt += self.prompt_helper.get_prompt(buggy_shot,\n",
      "                                                    fixed=fixed_shot)\n",
      "\n",
      "        prompt += self.prompt_helper.get_prompt(code)\n",
      "        return prompt\n",
      "\n"
     ]
    }
   ],
   "source": [
    "codex = reload(codex)\n",
    "print(inspect.getsource(codex.CodexWithFewShots))"
   ]
  },
  {
   "cell_type": "code",
   "execution_count": 138,
   "metadata": {},
   "outputs": [],
   "source": [
    "codex = reload(codex)\n",
    "utils = reload(utils)"
   ]
  },
  {
   "cell_type": "code",
   "execution_count": 139,
   "metadata": {},
   "outputs": [],
   "source": [
    "fixed_shot_selector = codex.FixedFewShots(train[:5])\n",
    "codex_shots = codex.CodexWithFewShots(fixed_shot_selector, openai.api_key)"
   ]
  },
  {
   "cell_type": "code",
   "execution_count": 135,
   "metadata": {},
   "outputs": [
    {
     "data": {
      "text/plain": [
       "[{'repair': 'int main() {return 0;}\\n', 'score': -0.09847468290307693}]"
      ]
     },
     "execution_count": 135,
     "metadata": {},
     "output_type": "execute_result"
    }
   ],
   "source": [
    "codex_shots.repair(bad_simple, n=1, k=2)"
   ]
  },
  {
   "cell_type": "code",
   "execution_count": 142,
   "metadata": {},
   "outputs": [
    {
     "name": "stderr",
     "output_type": "stream",
     "text": [
      "100%|██████████| 5/5 [00:34<00:00,  6.94s/it]\n"
     ]
    }
   ],
   "source": [
    "utils = reload(utils)\n",
    "res3 =  utils.run_benchmark(codex_shots, n=1, k=2)"
   ]
  },
  {
   "cell_type": "code",
   "execution_count": 143,
   "metadata": {},
   "outputs": [
    {
     "data": {
      "text/html": [
       "<div>\n",
       "<style scoped>\n",
       "    .dataframe tbody tr th:only-of-type {\n",
       "        vertical-align: middle;\n",
       "    }\n",
       "\n",
       "    .dataframe tbody tr th {\n",
       "        vertical-align: top;\n",
       "    }\n",
       "\n",
       "    .dataframe thead th {\n",
       "        text-align: right;\n",
       "    }\n",
       "</style>\n",
       "<table border=\"1\" class=\"dataframe\">\n",
       "  <thead>\n",
       "    <tr style=\"text-align: right;\">\n",
       "      <th>cutoff</th>\n",
       "      <th>stat</th>\n",
       "      <th>top-1</th>\n",
       "      <th>top-3</th>\n",
       "      <th>top-5</th>\n",
       "    </tr>\n",
       "  </thead>\n",
       "  <tbody>\n",
       "    <tr>\n",
       "      <th>0</th>\n",
       "      <td>compile</td>\n",
       "      <td>0.2</td>\n",
       "      <td>0.2</td>\n",
       "      <td>0.2</td>\n",
       "    </tr>\n",
       "    <tr>\n",
       "      <th>1</th>\n",
       "      <td>compile+distance</td>\n",
       "      <td>0.2</td>\n",
       "      <td>0.2</td>\n",
       "      <td>0.2</td>\n",
       "    </tr>\n",
       "  </tbody>\n",
       "</table>\n",
       "</div>"
      ],
      "text/plain": [
       "cutoff              stat  top-1  top-3  top-5\n",
       "0                compile    0.2    0.2    0.2\n",
       "1       compile+distance    0.2    0.2    0.2"
      ]
     },
     "execution_count": 143,
     "metadata": {},
     "output_type": "execute_result"
    }
   ],
   "source": [
    "res3[0]"
   ]
  },
  {
   "cell_type": "code",
   "execution_count": 146,
   "metadata": {},
   "outputs": [],
   "source": [
    "random_shot_selector = codex.RandomFewShots(train[:5])\n",
    "codex_shots = codex.CodexWithFewShots(random_shot_selector, openai.api_key)"
   ]
  },
  {
   "cell_type": "code",
   "execution_count": 147,
   "metadata": {},
   "outputs": [
    {
     "name": "stderr",
     "output_type": "stream",
     "text": [
      "100%|██████████| 5/5 [00:37<00:00,  7.52s/it]\n"
     ]
    },
    {
     "data": {
      "text/html": [
       "<div>\n",
       "<style scoped>\n",
       "    .dataframe tbody tr th:only-of-type {\n",
       "        vertical-align: middle;\n",
       "    }\n",
       "\n",
       "    .dataframe tbody tr th {\n",
       "        vertical-align: top;\n",
       "    }\n",
       "\n",
       "    .dataframe thead th {\n",
       "        text-align: right;\n",
       "    }\n",
       "</style>\n",
       "<table border=\"1\" class=\"dataframe\">\n",
       "  <thead>\n",
       "    <tr style=\"text-align: right;\">\n",
       "      <th>cutoff</th>\n",
       "      <th>stat</th>\n",
       "      <th>top-1</th>\n",
       "      <th>top-3</th>\n",
       "      <th>top-5</th>\n",
       "    </tr>\n",
       "  </thead>\n",
       "  <tbody>\n",
       "    <tr>\n",
       "      <th>0</th>\n",
       "      <td>compile</td>\n",
       "      <td>0.2</td>\n",
       "      <td>0.2</td>\n",
       "      <td>0.2</td>\n",
       "    </tr>\n",
       "    <tr>\n",
       "      <th>1</th>\n",
       "      <td>compile+distance</td>\n",
       "      <td>0.2</td>\n",
       "      <td>0.2</td>\n",
       "      <td>0.2</td>\n",
       "    </tr>\n",
       "  </tbody>\n",
       "</table>\n",
       "</div>"
      ],
      "text/plain": [
       "cutoff              stat  top-1  top-3  top-5\n",
       "0                compile    0.2    0.2    0.2\n",
       "1       compile+distance    0.2    0.2    0.2"
      ]
     },
     "execution_count": 147,
     "metadata": {},
     "output_type": "execute_result"
    }
   ],
   "source": [
    "utils = reload(utils)\n",
    "res3 =  utils.run_benchmark(codex_shots, n=1, k=2, t=0.7)\n",
    "res3[0]"
   ]
  },
  {
   "cell_type": "code",
   "execution_count": 153,
   "metadata": {},
   "outputs": [
    {
     "data": {
      "text/html": [
       "<div>\n",
       "<style scoped>\n",
       "    .dataframe tbody tr th:only-of-type {\n",
       "        vertical-align: middle;\n",
       "    }\n",
       "\n",
       "    .dataframe tbody tr th {\n",
       "        vertical-align: top;\n",
       "    }\n",
       "\n",
       "    .dataframe thead th {\n",
       "        text-align: right;\n",
       "    }\n",
       "</style>\n",
       "<table border=\"1\" class=\"dataframe\">\n",
       "  <thead>\n",
       "    <tr style=\"text-align: right;\">\n",
       "      <th></th>\n",
       "      <th>stat</th>\n",
       "      <th>top-1</th>\n",
       "      <th>top-3</th>\n",
       "      <th>top-5</th>\n",
       "    </tr>\n",
       "  </thead>\n",
       "  <tbody>\n",
       "    <tr>\n",
       "      <th>0</th>\n",
       "      <td>compile</td>\n",
       "      <td>0.2</td>\n",
       "      <td>0.2</td>\n",
       "      <td>0.2</td>\n",
       "    </tr>\n",
       "    <tr>\n",
       "      <th>1</th>\n",
       "      <td>compile+distance</td>\n",
       "      <td>0.2</td>\n",
       "      <td>0.2</td>\n",
       "      <td>0.2</td>\n",
       "    </tr>\n",
       "  </tbody>\n",
       "</table>\n",
       "</div>"
      ],
      "text/plain": [
       "               stat  top-1  top-3  top-5\n",
       "0           compile    0.2    0.2    0.2\n",
       "1  compile+distance    0.2    0.2    0.2"
      ]
     },
     "execution_count": 153,
     "metadata": {},
     "output_type": "execute_result"
    }
   ],
   "source": [
    "utils = reload(utils)\n",
    "utils.basic_results_table(res3[1])\n"
   ]
  },
  {
   "cell_type": "code",
   "execution_count": null,
   "metadata": {},
   "outputs": [],
   "source": [
    "print(codex_shots.repair(bad_simple, fewshots=[('void main(a{}', 'void main(a){}')], n=10))"
   ]
  },
  {
   "attachments": {},
   "cell_type": "markdown",
   "metadata": {},
   "source": [
    "### How to create an initial example bank?"
   ]
  },
  {
   "attachments": {},
   "cell_type": "markdown",
   "metadata": {},
   "source": [
    "## Synthetic noise in good data"
   ]
  },
  {
   "cell_type": "code",
   "execution_count": null,
   "metadata": {},
   "outputs": [],
   "source": [
    "### Generate data using Codex (or other model) to fix real broken programs and then add pairs to data (cite bifi)"
   ]
  },
  {
   "cell_type": "code",
   "execution_count": null,
   "metadata": {},
   "outputs": [],
   "source": [
    "# bootstap it yourself with \n",
    "codex = reload(codex)\n",
    "example_bank = codex.generate_basic_example_bank(benchmark, size=100)"
   ]
  },
  {
   "attachments": {},
   "cell_type": "markdown",
   "metadata": {},
   "source": [
    "### Picking Few-shots"
   ]
  },
  {
   "attachments": {},
   "cell_type": "markdown",
   "metadata": {},
   "source": [
    "* Fixed (cover some basic examples by hand)\n",
    "* Random (sample from other programs you have)\n",
    "* Similar (what does it mean to be similar?)"
   ]
  },
  {
   "attachments": {},
   "cell_type": "markdown",
   "metadata": {},
   "source": [
    "(Some) Parameters that affect repair"
   ]
  },
  {
   "cell_type": "markdown",
   "metadata": {},
   "source": []
  }
 ],
 "metadata": {
  "kernelspec": {
   "display_name": "env",
   "language": "python",
   "name": "python3"
  },
  "language_info": {
   "codemirror_mode": {
    "name": "ipython",
    "version": 3
   },
   "file_extension": ".py",
   "mimetype": "text/x-python",
   "name": "python",
   "nbconvert_exporter": "python",
   "pygments_lexer": "ipython3",
   "version": "3.8.10"
  },
  "orig_nbformat": 4,
  "vscode": {
   "interpreter": {
    "hash": "5fa6738201d192cf71d154704895d806151bfc23d5269ad7830abd20e918bf78"
   }
  }
 },
 "nbformat": 4,
 "nbformat_minor": 2
}
