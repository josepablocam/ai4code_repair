{
 "cells": [
  {
   "cell_type": "markdown",
   "metadata": {},
   "source": [
    "#### Preliminary setup"
   ]
  },
  {
   "cell_type": "code",
   "execution_count": null,
   "metadata": {},
   "outputs": [],
   "source": [
    "!echo \"Running from colab\"\n",
    "!git clone https://github.com/josepablocam/ai4code_repair.git\n",
    "!cd ai4code_repair && source install.sh"
   ]
  },
  {
   "cell_type": "code",
   "execution_count": null,
   "metadata": {},
   "outputs": [],
   "source": [
    "cd ai4code_repair"
   ]
  },
  {
   "cell_type": "code",
   "execution_count": null,
   "metadata": {},
   "outputs": [],
   "source": [
    "!source download_data.sh"
   ]
  },
  {
   "cell_type": "code",
   "execution_count": null,
   "metadata": {},
   "outputs": [],
   "source": [
    "from repair.tutorial_utils import show_code"
   ]
  },
  {
   "cell_type": "code",
   "execution_count": null,
   "metadata": {},
   "outputs": [],
   "source": [
    "# make sure environment variable are setup in notebook for grmtools\n",
    "import os\n",
    "grmtools_release_path = os.path.join(os.getcwd(), \"resources\", \"grmtools\", \"target\", \"release\")\n",
    "os.environ[\"PATH\"] = os.environ[\"PATH\"] + \":\" + grmtools_release_path"
   ]
  },
  {
   "cell_type": "code",
   "execution_count": null,
   "metadata": {},
   "outputs": [],
   "source": [
    "%load_ext tensorboard"
   ]
  },
  {
   "attachments": {},
   "cell_type": "markdown",
   "metadata": {},
   "source": [
    "# Automated C Compiler Error Repair"
   ]
  },
  {
   "attachments": {},
   "cell_type": "markdown",
   "metadata": {},
   "source": [
    "In this tutorial we'll cover three different approaches to automatically repairing compiler errors in C. We'll scope this repair task to the education setting, where we have real C programs written by students in an introductory programming class.\n",
    "\n",
    "**What this tutorial is**: An overview of different ideas, ranging from neural to symbolic, meant to introduce newcomers to the area of automatically repairing compiler mistakes. You will come away with a basic understanding of this research area, as well as with setup for some common approaches and ideas for extending these.\n",
    "\n",
    "**What this tutorial is not**: This is not meant to provide the reader with state-of-the-art repair systems. While the approaches presented here can be developed further to reach SOTA performance, doing so requires more time/engineering/data than what we will be working with in this tutorial. However, as mentioned before, you can take these ideas and grow them.\n",
    "\n",
    "This tutorial is also not meant to be an exhaustive survey of the area of automated program repair (compiler errors or otherwise). There is a long history of some amazing research in this area with contributions from a diverse community coming from programming languages, software enginering, systems, machine learning, and others. This tutorial is much too short to do that body of work justice."
   ]
  },
  {
   "attachments": {},
   "cell_type": "markdown",
   "metadata": {},
   "source": [
    "### Guide\n",
    "Some general remarks:\n",
    "* All the code used in this notebook has been written in the `repair` library. In general the notebook just excersises this code. You may want to make changes in the `repair` library and then run cells, rather than try to write code directly in the cells.\n",
    "* I have marked various points in the codebase with `FIXME`. These are opportunities for those interested in extending this tutorial further for their own learning.\n",
    "* Throughout the tutorial I have listed *Extension Task* that are meant to be additional exercises (some related to `FIXME`, others independent). For both, I recommend going through the full tutorial and then coming back to the ones you found interesting."
   ]
  },
  {
   "cell_type": "markdown",
   "metadata": {},
   "source": [
    "## Problem statement"
   ]
  },
  {
   "attachments": {},
   "cell_type": "markdown",
   "metadata": {},
   "source": [
    "Let $P$ be an initial program intended to be in our target language $T$. Let $O$ be a language oracle that judges the well-formedness of programs in $T$.\n",
    "Let $D$ be a distance function between pairs of programs in our language $T$. Let $\\delta$ be a distance threshold.\n",
    "\n",
    "If $P$ does not satisfy $O$ (i.e. it is not in $T$), our goal is to produce a program $P'$ that satisfies $O$ and $D(P, P') \\le \\delta$."
   ]
  },
  {
   "attachments": {},
   "cell_type": "markdown",
   "metadata": {},
   "source": [
    "In our case, programs are drawn from a student collection, $O$ is defined to be `gcc -w -std=c99 -pedantic`, $D$ is a token-edit distance function\n",
    " (we'll also discuss other variants), and $\\delta=5$."
   ]
  },
  {
   "cell_type": "markdown",
   "metadata": {},
   "source": [
    "### DeepFix Dataset"
   ]
  },
  {
   "attachments": {},
   "cell_type": "markdown",
   "metadata": {},
   "source": [
    "DeepFix[1] introduced one the first neural-based C compiler error repair systems. DeepFix, like many systems since, frame the task as a neural machine translation task\n",
    "where the network translates from the domain of buggy C programs to the domain of correct C programs. Their implementation used RNNs for the translation task. I highly recommend reading the full paper [here](https://ojs.aaai.org/index.php/AAAI/article/view/10742).\n",
    "\n",
    "As part of their research contribution, the authors released a collection 53,478 programs written by real students in an introductory C programming class in India.\n",
    "We'll use this dataset as our tutorial dataset. Let's explore it."
   ]
  },
  {
   "attachments": {},
   "cell_type": "markdown",
   "metadata": {},
   "source": [
    "The dataset was released as a SQLITE database, so we can get some quick facts about it rather easily."
   ]
  },
  {
   "attachments": {},
   "cell_type": "markdown",
   "metadata": {},
   "source": [
    "#"
   ]
  },
  {
   "cell_type": "code",
   "execution_count": null,
   "metadata": {},
   "outputs": [],
   "source": [
    "!sqlite3 ./data/prutor-deepfix-09-12-2017.db \".schema Code\""
   ]
  },
  {
   "cell_type": "code",
   "execution_count": null,
   "metadata": {},
   "outputs": [],
   "source": [
    "!sqlite3 ./data/prutor-deepfix-09-12-2017.db \"select count(*) from Code\""
   ]
  },
  {
   "cell_type": "code",
   "execution_count": null,
   "metadata": {},
   "outputs": [],
   "source": [
    "!sqlite3 ./data/prutor-deepfix-09-12-2017.db \"select count(distinct(user_id)) from Code\""
   ]
  },
  {
   "cell_type": "code",
   "execution_count": null,
   "metadata": {},
   "outputs": [],
   "source": [
    "!sqlite3 ./data/prutor-deepfix-09-12-2017.db \"select errorcount > 0, count(*) from Code group by errorcount > 0\""
   ]
  },
  {
   "attachments": {},
   "cell_type": "markdown",
   "metadata": {},
   "source": [
    "## Preparing a dataset"
   ]
  },
  {
   "attachments": {},
   "cell_type": "markdown",
   "metadata": {},
   "source": [
    "Much like the case for other research problems, we have to start our journey by preparing an appropriate dataset. In this case, we will build on the DeepFix dataset, but we still have to do some preparation.\n",
    "\n",
    "First, we need to create some training data. Not all the methods we'll survey have a learning aspect to them, but those that do, will need some data to actually learn from. In the area of automated program repair, there are typically two (broadly speaking) approaches to collecting this kind of data.\n",
    "\n",
    "* **Synthetic data**: You can often collect large amount of code from public source such as Github. In fact, other researchers have already prepared such corpora for tasks like [code search](https://github.com/github/CodeSearchNet). However, this data typically tends to focus on well-formed programs. The vast majority of programs on, for example GitHub, won't have the type of compiler errors we want to fix because people may avoid committing these changes to begin with. One natural way to mitigate this issues is to create synthetically buggy programs -- and a particularly popular way of doing that is to *break* existing well-formed programs to create related (but buggy) programs. In this setting, the original correct program is now a target for learning and the (synthetic) buggy program is a learning input. We'll talk more about this later.\n",
    "\n",
    "* **Telemetry data**: If you have access to a platform with a large number of users (e.g. a programming class of appropriate size), you may also want to consider telemetry as a way of collecting training data. In this setup, you'll likely write a plugin for your platform of choice (e.g. VS Code, Visual Studio) that logs user code. Some nuances to consider here are 1) what information can you collect that respects users privacy? 2) have you ensured that the user can opt-out as necessary? 3) have you setup properly so that you can distinguish meaningful edits from transient noise? Very often telemetry datasets will only log code after the user tries to carry out a particular task (e.g. compile, run test suite, submit solution -- if a student) to avoid this issue. \n",
    "\n",
    "And then you can of course combine these approaches. You may be able to collect/generate a large volume of synthetic data, which may be useful to train your approach initially, and then you may evaluate or train further on telemetry data."
   ]
  },
  {
   "attachments": {},
   "cell_type": "markdown",
   "metadata": {},
   "source": [
    "### Synthetically breaking correct programs"
   ]
  },
  {
   "attachments": {},
   "cell_type": "markdown",
   "metadata": {},
   "source": [
    "As mentioned, breaking programs to produce synthetic data is particularly popular. So here we'll go with that approach and show a simple breaker."
   ]
  },
  {
   "cell_type": "code",
   "execution_count": null,
   "metadata": {},
   "outputs": [],
   "source": [
    "from repair.tutorial_utils import show_code\n",
    "from scripts.create_data import add_noise\n",
    "show_code(add_noise)"
   ]
  },
  {
   "attachments": {},
   "cell_type": "markdown",
   "metadata": {},
   "source": [
    "The code above shows our noise function. Given a code snippet, this function randomly applies one of 5 different \"noise\" operations. For purposes of this tutorial, we've kept these simple. But consider how you might make these more sophisticated. For example, if you wanted to focus on fixing type errors, you might want to have a noise operation that will induce type errors only (e.g. relabel the type of a variable to a type that cannot implicitly cast to it, perform operations between incompatible types, remove a variable declaration). Depending on the class of noise you want to introduce you may be better suited with a structured representation of your program, like an AST."
   ]
  },
  {
   "attachments": {},
   "cell_type": "markdown",
   "metadata": {},
   "source": [
    "[Break-It-Fix-It](https://arxiv.org/abs/2106.06600) [8] showed that you can actually *learn* to break programs in a more realistic fashion and this in turn leads the training of a code fixed to achieve better performance. In their setup, they collected a large set of well-formed prorams and a large-set of ill-formed programs. Then have a fixer model that they can initialize with synthetic data (like we are doing), and they have a breaker that can be similarly initialized (just swap the directions). They can then apply the fixer to the real ill-formed programs and any predictions that are judged correct can be paired with the original *real* broken code to create new labeled pairs (if the repair succeeds), similarly (in the other direction) for the breaker. After a few iteration of this, their fixer shows a clear performance improvement over a traditional training setup.\n",
    "\n",
    "* **Extension Task**: Improve the noise operations to include other real mistake categories"
   ]
  },
  {
   "cell_type": "code",
   "execution_count": null,
   "metadata": {},
   "outputs": [],
   "source": [
    "from repair import utils\n",
    "train = utils.get_train_data()\n",
    "test = utils.get_test_data()"
   ]
  },
  {
   "attachments": {},
   "cell_type": "markdown",
   "metadata": {},
   "source": [
    "Using our noise function we produced a total of 30k paired examples."
   ]
  },
  {
   "cell_type": "code",
   "execution_count": null,
   "metadata": {},
   "outputs": [],
   "source": [
    "# number of buggy programs in training split\n",
    "len(train)"
   ]
  },
  {
   "attachments": {},
   "cell_type": "markdown",
   "metadata": {},
   "source": [
    "For our test (benchmark) data we will take programs from the DeepFix dataset that have at least one mistake. We exclude any other programs written by these students for these problems from our training dataset. Note that this doesn't exclude other programs written by the same student (as long as they are for a different problem), or programs written by other students for the same problems. This is a notably different setup from what you might encounter in a professional developer scenario, where you may not have multiple people working on the same problem. "
   ]
  },
  {
   "cell_type": "code",
   "execution_count": null,
   "metadata": {},
   "outputs": [],
   "source": [
    "# number of programs in our test split (for benchmarking)\n",
    "len(test)"
   ]
  },
  {
   "attachments": {},
   "cell_type": "markdown",
   "metadata": {},
   "source": [
    "We now take a look at some basic characteristics of our training data. We typically care about the number of tokens (token limits may matter for different approaches), number of mistakes (more mistakes may be harder to fix within our distance bound), and possibly whether there is any relation between these two (i.e. do longer programs have more mistakes -- in our setting that should not be the case, since we introduce noise randomly)."
   ]
  },
  {
   "cell_type": "code",
   "execution_count": null,
   "metadata": {},
   "outputs": [],
   "source": [
    "from repair import utils\n",
    "import tqdm\n",
    "# distribution of length in terms of  program tokens (lexer --- note this is different from the underlying model tokenizers)\n",
    "num_tokens = [len(utils.tokenize(b.source)) for b in tqdm.tqdm(train)]\n"
   ]
  },
  {
   "cell_type": "code",
   "execution_count": null,
   "metadata": {},
   "outputs": [],
   "source": [
    "import seaborn as sns\n",
    "ax = sns.histplot(num_tokens)\n",
    "ax.set_xlabel(\"Number of tokens\")\n",
    "ax.set_ylabel(\"Count of cases\")"
   ]
  },
  {
   "cell_type": "code",
   "execution_count": null,
   "metadata": {},
   "outputs": [],
   "source": [
    "# distribution of number of compile errors\n",
    "errorcounts = [b.errorcount for b in train]\n",
    "ax = sns.histplot(errorcounts)\n",
    "ax.set_xlabel(\"Number of errors\")\n",
    "ax.set_ylabel(\"Count of cases\")\n",
    "ax.set_xlim(0, 15)"
   ]
  },
  {
   "cell_type": "code",
   "execution_count": null,
   "metadata": {},
   "outputs": [],
   "source": [
    "# Relationship between length and errors\n",
    "ax = sns.scatterplot(x=num_tokens, y=errorcounts, alpha=0.5)\n",
    "ax.set_xlabel(\"Number of tokens\")\n",
    "ax.set_ylabel(\"Number of compilation errors\")"
   ]
  },
  {
   "attachments": {},
   "cell_type": "markdown",
   "metadata": {},
   "source": [
    "Below we show a couple of examples of the types of noise we introduced. In the first example, the buggy program has a typo (`inlude` instead of `include`)\n",
    "which results in an unknown preprocessor directive. In the second example, the buggy program also has a typo (`nr` instead of `n`), however, in this case\n",
    "the error that results is an undeclared variable (`n` was a function parameter, but `nr` is nowhere to be found)."
   ]
  },
  {
   "cell_type": "code",
   "execution_count": null,
   "metadata": {},
   "outputs": [],
   "source": [
    "# sample of k compile errors in training split\n",
    "k = 2\n",
    "sampled = train[:k]\n",
    "for i, case in enumerate(sampled):\n",
    "    print(\"Sample\", i)\n",
    "    print(case.source)\n",
    "    print(\"Error:\", case.error)\n",
    "    print(\"--------------\")"
   ]
  },
  {
   "cell_type": "code",
   "execution_count": null,
   "metadata": {},
   "outputs": [],
   "source": [
    "# random sample of k compile errors in test split\n",
    "test = utils.get_test_data()\n",
    "k = 2\n",
    "sampled = test[:k]\n",
    "for i, case in enumerate(sampled):\n",
    "    print(\"Sample\", i)\n",
    "    print(case.source)\n",
    "    print(\"Error:\", case.error)\n",
    "    print(\"--------------\")"
   ]
  },
  {
   "attachments": {},
   "cell_type": "markdown",
   "metadata": {},
   "source": [
    "## Metrics"
   ]
  },
  {
   "attachments": {},
   "cell_type": "markdown",
   "metadata": {},
   "source": [
    "In our problem statement, we defined two important components: a language oracle $O$ that judges the well-formednes of a program, and $D$ our distance function. We'll look at these in turn. And we'll use the two toy programs below to illustrate. `bad_simple` is ill-formed as it is missing the closing parenthesis in the function parameter list. `ok_simple` is a well-formed program."
   ]
  },
  {
   "cell_type": "code",
   "execution_count": null,
   "metadata": {},
   "outputs": [],
   "source": [
    "bad_simple = \"\"\"\n",
    "int main( \n",
    "{\n",
    "    return 0;\n",
    "}\n",
    "\"\"\"\n",
    "ok_simple = \"\"\"\n",
    "int main()\n",
    "{\n",
    "    return 0;\n",
    "}\"\"\" "
   ]
  },
  {
   "attachments": {},
   "cell_type": "markdown",
   "metadata": {},
   "source": [
    "You can use our `utils` to run the oracle (i.e. `gcc` with the flags described) and get back a `CompileResult`. If the program is well-formed, then the `.ok` member should be `True`, `.errorcount` should be `0`, and `.error` should be `None`. If the program is ill-formed, then you should observe opposite."
   ]
  },
  {
   "cell_type": "code",
   "execution_count": null,
   "metadata": {},
   "outputs": [],
   "source": [
    "utils.gcc_compile(bad_simple)"
   ]
  },
  {
   "cell_type": "code",
   "execution_count": null,
   "metadata": {},
   "outputs": [],
   "source": [
    "utils.gcc_compile(ok_simple)"
   ]
  },
  {
   "attachments": {},
   "cell_type": "markdown",
   "metadata": {},
   "source": [
    "Our problem statement introduces a distance function $D$ and a threshold $\\delta$. This is quite common in this area, particularly when we don't have user solutions to a problem. The core idea is we want to make sure that the derived program is not too *far* from the original, otherwise we can produce trivial fixes (e.g. remove entire function containing bug). Very often $D$ is defined to be some form of edit distance, and a popular choice is the edit distance over sequence of lexer tokens rather than strings -- ultimately the choice depends on your use-case (e.g. should a typo that requires two key-strokes count more than a typo that requires 1 key-stroke?).\n",
    "\n",
    "In our `utils` you can use `token_edit_distance` to compute a version of this distance function that also ignores white-space (in most cases)."
   ]
  },
  {
   "cell_type": "code",
   "execution_count": null,
   "metadata": {},
   "outputs": [],
   "source": [
    "# typically: satisfy oracle (i.e. compiler) but also need to limit edit distance (e.g. deleting everything yields compilable unit)\n",
    "# token edit distance: standard levenshtein distance but on lexer outputs (better than simple string distance)\n",
    "utils.token_edit_distance(\n",
    "    bad_simple,\n",
    "    ok_simple\n",
    ")"
   ]
  },
  {
   "attachments": {},
   "cell_type": "markdown",
   "metadata": {},
   "source": [
    "While we won't use it, `utils` also includes a `tree_edit_distance` function (which uses the tree-sitter parser library, which can represent syntactically invalid programs in many cases as well). This distance function may more accurately reflect structural changes such as swapping statements, while the same change might be \"overinflated\" in a \"flat\" distance function like token edit distance."
   ]
  },
  {
   "cell_type": "code",
   "execution_count": null,
   "metadata": {},
   "outputs": [],
   "source": [
    "# can also use tree edit distance with parse tree that maintains syntax errors\n",
    "utils.tree_edit_distance(\n",
    "    bad_simple,\n",
    "    ok_simple\n",
    ")"
   ]
  },
  {
   "attachments": {},
   "cell_type": "markdown",
   "metadata": {},
   "source": [
    "In this case, both distance functions result in the same edit distance. But it's good to think about examples where this is not the case.\n",
    "\n",
    "* **Extension task**: Find/create some examples where `utils.token_edit_distance` and `utils.tree_edit_distance` result in different values. What use-case can you envision for each?"
   ]
  },
  {
   "attachments": {},
   "cell_type": "markdown",
   "metadata": {},
   "source": [
    "## Running benchmarks"
   ]
  },
  {
   "attachments": {},
   "cell_type": "markdown",
   "metadata": {},
   "source": [
    "We've created some utilities for you to be able to run benchmarks easily and get summarized results. `utils.run_benchmark` will run the full benchmark for you. You simply need to provide an instance of a `BenchmarkRunner` class that has a `run_benchmark` method."
   ]
  },
  {
   "cell_type": "code",
   "execution_count": null,
   "metadata": {},
   "outputs": [],
   "source": [
    "show_code(utils.run_benchmark)"
   ]
  },
  {
   "attachments": {},
   "cell_type": "markdown",
   "metadata": {},
   "source": [
    "The `BenchmarkRunner` works a list of benchmarks, each of which is represented as a `RepairTaskRecord`. For simplicity, we use the same class for both training and test data, for the latter the `target` program is `None`."
   ]
  },
  {
   "cell_type": "code",
   "execution_count": null,
   "metadata": {},
   "outputs": [],
   "source": [
    "train[0]"
   ]
  },
  {
   "attachments": {},
   "cell_type": "markdown",
   "metadata": {},
   "source": [
    "To illustrate how you can make your own `BenchmarkRunner` class, here is a toy class that just returns the same (well-formed) canned program every time."
   ]
  },
  {
   "cell_type": "code",
   "execution_count": null,
   "metadata": {},
   "outputs": [],
   "source": [
    "# Dummy run\n",
    "from typing import List\n",
    "from repair.utils import BenchmarkRunner, RepairTaskRecord\n",
    "class JoseBadRepair(utils.BenchmarkRunner):\n",
    "    def run_benchmark(self, cases: List[RepairTaskRecord]):\n",
    "        # single dummy repair for each case\n",
    "        return [[\"int main(){return 0;}\"]] * len(cases)"
   ]
  },
  {
   "cell_type": "code",
   "execution_count": null,
   "metadata": {},
   "outputs": [],
   "source": [
    "result = utils.run_benchmark(JoseBadRepair())"
   ]
  },
  {
   "attachments": {},
   "cell_type": "markdown",
   "metadata": {},
   "source": [
    "The `result` is a tuple, where the first element is a summary table, and the second is a list of lists, where each list is an annotated prediction (`PredictionAnnotation`). We'll look at these in turn.\n",
    "\n",
    "The table has two rows, one which just checks the fraction of benchmarks for which we produced a prediction that compiled (i.e. passed $O$), and the other row checks the fraction that also satisfied our distance threshold (i.e. $D(P, P') \\le \\delta$). As is often done in this research area, we consider the predictions at different cutoffs (top-1, -3, and -5). Most research stops at top-5 as it is unlikely that users would ever consider more candidates if presented with repair results interactively -- other scenarios (e.g. where you may feed repair into a different system) may consider other cutoffs.\n",
    "\n",
    "In practice, you would always prune out candidates that fail our check before providing results to the user -- here we keep them since looking at mistakes is useful and actually important for improving these approaches.\n",
    "\n",
    "As expected, our toy class has 100% for the compilability goal, but fails in every case once we consider the distance."
   ]
  },
  {
   "cell_type": "code",
   "execution_count": null,
   "metadata": {},
   "outputs": [],
   "source": [
    "result[0]"
   ]
  },
  {
   "attachments": {},
   "cell_type": "markdown",
   "metadata": {},
   "source": [
    "Below we have an instance of a `PredictionAnnotation`, which is just convenience class to combine the original buggy program, our prediction, the compiler, and distance results. Prediction annotations are grouped (as a list) for each benchmark task, since some methods may return multiple predictions."
   ]
  },
  {
   "cell_type": "code",
   "execution_count": null,
   "metadata": {},
   "outputs": [],
   "source": [
    "result[1][0][0]"
   ]
  },
  {
   "attachments": {},
   "cell_type": "markdown",
   "metadata": {},
   "source": [
    "You can view a line-level diff (using `*nix`'s `diff`) between the buggy and predicted program using `utils.diff`."
   ]
  },
  {
   "cell_type": "code",
   "execution_count": null,
   "metadata": {},
   "outputs": [],
   "source": [
    "annot = result[1][0][0]\n",
    "print(utils.diff(annot.buggy, annot.prediction))"
   ]
  },
  {
   "attachments": {},
   "cell_type": "markdown",
   "metadata": {},
   "source": [
    "As mentioned before, in this case the program completely changes, so the diff is not that interesting, but consider the same setup with our simple toy examples"
   ]
  },
  {
   "cell_type": "code",
   "execution_count": null,
   "metadata": {},
   "outputs": [],
   "source": [
    "print(utils.diff(bad_simple, ok_simple))"
   ]
  },
  {
   "attachments": {},
   "cell_type": "markdown",
   "metadata": {},
   "source": [
    "## Repairing compile errors with CodeT5"
   ]
  },
  {
   "attachments": {},
   "cell_type": "markdown",
   "metadata": {},
   "source": [
    "### CodeT5 Overview\n",
    "\n",
    "CodeT5 [2] is a version of T5 [3] trained on code and natural language. Their key idea is that with an encoder-decoder setup they can do well both at \"code understanding\" and \"code generation\" tasks. To do this effectively they have pretraining goals that relate to code specifically.\n",
    "\n",
    "\n",
    "The figure below (borrowed from the CodeT5 paper) demonstrates some of the tasks that can be carried out with their model.\n",
    "\n",
    "![CodeT5 Figure 1](./resources/images/codet5-figure-1.png)\n",
    "\n",
    "And this other figure (also from the CodeT5 paper) illustrates their pretraining objectives.\n",
    "\n",
    "![CodeT5 Figure 2](./resources/images/codet5-figure-2.png)\n",
    "\n",
    "For details, please read the full CodeT5 paper [here](https://arxiv.org/abs/2109.00859)\n"
   ]
  },
  {
   "attachments": {},
   "cell_type": "markdown",
   "metadata": {},
   "source": [
    "### Zero-shot repair with CodeT5"
   ]
  },
  {
   "attachments": {},
   "cell_type": "markdown",
   "metadata": {},
   "source": [
    "We can carry out repair using the pretrained version of CodeT5 by framing repair as a cloze-style task (https://arxiv.org/pdf/2207.08281.pdf). A cloze-style task answers a question (fill-in-the-blank style) based on the context. The paper referenced provides a variety of different masking strategies that they use to then fill in predictions with CodeBert. In our case, we perform a single (simple) masking strategy: we mask the entire buggy line (as reported by the compiler) and we replace it with a single mask token (`extra_id_<k>`). We don't need multiple mask tokens per line, as CodeT5 can generate multiple tokens per mask. \n",
    "\n",
    "After we have masked-out the buggy lines, we can run CodeT5 on the input, collect the values predicted for each mask token, and replace them in the original buggy program."
   ]
  },
  {
   "cell_type": "code",
   "execution_count": null,
   "metadata": {},
   "outputs": [],
   "source": [
    "from repair.engines import codet5"
   ]
  },
  {
   "cell_type": "code",
   "execution_count": null,
   "metadata": {},
   "outputs": [],
   "source": [
    "show_code(codet5.CodeT5ClozeRepair)"
   ]
  },
  {
   "attachments": {},
   "cell_type": "markdown",
   "metadata": {},
   "source": [
    "We'll run a version of this approach using the base (200M parameter) model."
   ]
  },
  {
   "cell_type": "code",
   "execution_count": null,
   "metadata": {},
   "outputs": [],
   "source": [
    "cloze_t5 = codet5.CodeT5ClozeRepair(\"Salesforce/codet5-base\")"
   ]
  },
  {
   "cell_type": "code",
   "execution_count": null,
   "metadata": {},
   "outputs": [],
   "source": [
    "c5_cloze_res = utils.run_benchmark(cloze_t5, verbose=True)\n",
    "print(c5_cloze_res[0])"
   ]
  },
  {
   "attachments": {},
   "cell_type": "markdown",
   "metadata": {},
   "source": [
    "And here is an example of what some of these successful repairs look like"
   ]
  },
  {
   "cell_type": "code",
   "execution_count": null,
   "metadata": {},
   "outputs": [],
   "source": [
    "ex = [pred for task in c5_cloze_res[1] for pred in task if pred.compile_result.ok and pred.distance < utils.MAX_TOKEN_EDIT_DISTANCE][0]\n",
    "print(utils.diff(ex.buggy, ex.prediction))"
   ]
  },
  {
   "attachments": {},
   "cell_type": "markdown",
   "metadata": {},
   "source": [
    "In this, and other cases, we'll see that while the model satisfied our two constraints (compiler and distance), the new generated code line does not necessarily relate to the prior (buggy) version. This is a direct result of our simplistic masking strategy (we mask the whole buggy line). As an extension, consider masking just the suffix of the line from the error location reported by the compiler onwards. Are the results better? Another idea is to comment out the buggy line and place the mask as a prefix,  does that work?\n",
    "\n",
    "* **Extension Task**: Implement a better masking strategy for the cloze-repair task. You can take inspiration from the strategies implemented in the paper referenced at the start of this section"
   ]
  },
  {
   "attachments": {},
   "cell_type": "markdown",
   "metadata": {},
   "source": [
    "Like other popular open source language models, there are different variants of CodeT5 based on the number of parameters. We used `codet5-base` previously, which has 220M parameters. Now we will try the same set of benchmarks with `codet5-small`, which has 60M parameters and see what the performance difference is."
   ]
  },
  {
   "cell_type": "code",
   "execution_count": null,
   "metadata": {},
   "outputs": [],
   "source": [
    "## smaller model\n",
    "cloze_t5_small = codet5.CodeT5ClozeRepair(\"Salesforce/codet5-small\")\n",
    "c5_cloze_small_res = utils.run_benchmark(cloze_t5_small, verbose=True)\n",
    "print(c5_cloze_small_res[0])"
   ]
  },
  {
   "attachments": {},
   "cell_type": "markdown",
   "metadata": {},
   "source": [
    "As expected, there is a drop in performance across both metrics and all cut-offs, though the largest drop appears to be in the compile+distance metric."
   ]
  },
  {
   "attachments": {},
   "cell_type": "markdown",
   "metadata": {},
   "source": [
    "### Fine-Tuned repair with CodeT5"
   ]
  },
  {
   "attachments": {},
   "cell_type": "markdown",
   "metadata": {},
   "source": [
    "We have been using the pretrained version of CodeT5 and framed repair as a cloze task. Now we'll instead fine-tune CodeT5 with our training data of buggy/fixed (i.e. original well-formed) programs.\n",
    "Below is a very basic method to finetune the CodeT5. Note that we aren't stopping based on a validation set, we'll just train for a fixed number of epochs. This code is a slight simplification of the original `CodeT5` finetuning scripts. In the interest of time/resources, we'll finetune the smaller model size."
   ]
  },
  {
   "cell_type": "code",
   "execution_count": null,
   "metadata": {},
   "outputs": [],
   "source": [
    "show_code(codet5.CodeT5FineTunedRepair.finetune)"
   ]
  },
  {
   "attachments": {},
   "cell_type": "markdown",
   "metadata": {},
   "source": [
    "One important thing to note is that for our finetuning task, we'll augment our input slightly by prepend the prefix `\"FIX C: \"`. The idea is that when we use this at inference time, we can prepend the same leading text so that it's clear we are trying to perform the task we fine-tuned for, rather than other tasks. This is a common approach -- the original T5 paper [3] uses this to perform multi-task learning, as shown in diagram below. \n",
    "\n",
    "![T5 Figure 1](./resources/images/t5-figure-1.png)\n"
   ]
  },
  {
   "cell_type": "code",
   "execution_count": null,
   "metadata": {},
   "outputs": [],
   "source": [
    "checkpoint_path = \"resources/c5.finetuned.bin\"\n",
    "# change to True to actually run finetuning -- this will take a while, so don't do it during the tutorial (try it afterwards or reduce training\n",
    "# data and epochs to give it a run)\n",
    "RUN_FINETUNE = False\n",
    "c5_finetuned = None\n",
    "if RUN_FINETUNE:\n",
    "    c5_finetuned = codet5.CodeT5FineTunedRepair(\"Salesforce/codet5-small\")\n",
    "    c5_finetuned.finetune(\n",
    "        train,\n",
    "        batch_size=8,\n",
    "        num_epochs=4,\n",
    "        checkpoint_path=checkpoint_path,\n",
    "        log_dir=\"logs/\"\n",
    "    )\n",
    "else:\n",
    "    # load up the model we have finetuned in advance\n",
    "    c5_finetuned = codet5.CodeT5FineTunedRepair(\"Salesforce/codet5-small\", fine_tuned_path=checkpoint_path)\n",
    "assert c5_finetuned is not None, \"Load or finetune model\""
   ]
  },
  {
   "cell_type": "code",
   "execution_count": null,
   "metadata": {},
   "outputs": [],
   "source": [
    "c5_finetuned_res = utils.run_benchmark(c5_finetuned, verbose=True, num_beams=3)\n",
    "c5_finetuned_res[0]"
   ]
  },
  {
   "attachments": {},
   "cell_type": "markdown",
   "metadata": {},
   "source": [
    "* **Extension task:** Continue fine-tuning from the latest checkpoint, see if performance improves\n",
    "* **Extension task:** Fine-tune a version with data augmented with examples produced by your new noise operators (see data section previously)\n",
    "* **Extension task:** Fine-tune a version that also uses the error message from `gcc` (`utils.gcc_compile` and access the `.error` field)."
   ]
  },
  {
   "attachments": {},
   "cell_type": "markdown",
   "metadata": {},
   "source": [
    "In general, given a collection of repair systems, it can be helpful to see what benchmark tasks all systems solve, what tasks each system individually solved, and then the union of all solutions. It is very often the case that different approaches are complementary and you can get better performance by combining them (if you have an oracle, like we do, you could always check if a task has been solved by a particular system before trying the next one).\n",
    "\n",
    "You can use the `utils.compare_results` to get a report of these comparisons. It takes a dictionary, where each entry is a system name and the value is the annotated predictions (second element in the result tuple of `utils.run_benchmark`)."
   ]
  },
  {
   "cell_type": "code",
   "execution_count": null,
   "metadata": {},
   "outputs": [],
   "source": [
    "# we'll just check the compilation outcome for top prediction\n",
    "c5_comparison = utils.compare_results({\n",
    "    \"c5-cloze-base\": c5_cloze_res[1], \n",
    "    \"c5-cloze-small\": c5_cloze_small_res[1],\n",
    "    \"c5-finetune\": c5_finetuned_res[1],\n",
    "}, top_k=1, criteria=lambda p: p.compile_result.ok and p.distance <= utils.MAX_TOKEN_EDIT_DISTANCE)\n",
    "# and summarize as counts\n",
    "{k:len(v) for k, v in c5_comparison.items()}"
   ]
  },
  {
   "attachments": {},
   "cell_type": "markdown",
   "metadata": {},
   "source": [
    "## Parser Error Recovery: GRMTOOLS"
   ]
  },
  {
   "attachments": {},
   "cell_type": "markdown",
   "metadata": {},
   "source": [
    "\n",
    "In this section we'll switch gears completely and explore a purely symbolic approach to repair the programs in our benchmark. Specifically, we'll take a parser that implements a state-of-the-art parser error recovery mechanism, as described [here](https://arxiv.org/abs/1804.07133), feed in our buggy programs, and then take its edit sequences and apply them to produce a derived (and hopefully fixed) program. We'll start out by covering some basic background on the topic."
   ]
  },
  {
   "attachments": {},
   "cell_type": "markdown",
   "metadata": {},
   "source": [
    "### Grammars and parser generators\n",
    "\n",
    "GRMTOOLs [4] is a library for parsing implemented in Rust. If you're not familiar with parsing, the topic is quite broad (and still an active area of research), but we'll do a brief recap for what's needed here.\n",
    "\n",
    "First, the syntax of a programming language can typically be described using a context-free grammar (CFG). A good reference for this topic can be found [here](https://suif.stanford.edu/dragonbook/). The core idea is the CFG describes the strings that belong to our language (i.e. is this a string a syntactically valid C program?). Not every property of a well-formed program can be captured by a CFG, for example, type correctness is not typically something you would be able to express in a CFG since it typically requires a lot more context. \n",
    "\n",
    "A CFG consists of a starting symbol, a set of *non-terminal* symbols, a set of *terminal* symbols, and a set of rules that expand a non terminal symbol into zero or more terminal/non-terminal symbols. A string is in the language described the CFG if you can *derive* it by applying the rules beginning from the starting symbol."
   ]
  },
  {
   "attachments": {},
   "cell_type": "markdown",
   "metadata": {},
   "source": [
    "We've prepared a (very simplified) grammar that should capture a lot of the subset of C that we care about for this tutorial (but not all -- more on this later). Here is a quick subset. `program` is our starting symbol. Lower case terms are non-terminals, and upper case quoted strings are our terminals. "
   ]
  },
  {
   "cell_type": "code",
   "execution_count": null,
   "metadata": {},
   "outputs": [],
   "source": [
    "with open(\"resources/mini-c99.y\") as fin:\n",
    "    print(\"\\n\".join(fin.read().splitlines()[36:55]))"
   ]
  },
  {
   "attachments": {},
   "cell_type": "markdown",
   "metadata": {},
   "source": [
    "These terminals in turn are defined in a separate file, which describes each terminal symbol using a regular expression. When parsing, the initial string is transformed into a stream of tokens (i.e. terminals) by a *lexer*, which are then processed based on the grammar rules."
   ]
  },
  {
   "cell_type": "code",
   "execution_count": null,
   "metadata": {},
   "outputs": [],
   "source": [
    "with open(\"resources/mini-c99.l\") as fin:\n",
    "    print(\"\\n\".join(fin.read().splitlines()[:10]))"
   ]
  },
  {
   "attachments": {},
   "cell_type": "markdown",
   "metadata": {},
   "source": [
    "GRMTOOLs has a *parser generator*, which takes our lexer definitions (`.l`) and our grammar definition (`.y`), and generates a module that can parse strings accordingly. In some parser generators, such as `bison` you can define actions associated with each parsing rule (e.g. to build up your AST). However, GRMTOOLs does not support this, and there are a few other differences. See [here](https://softdevteam.github.io/grmtools/master/book/yacccompatibility.html) for list of the differences between GRMTOOLs `.y` and `.l` files and those typically used in other tools."
   ]
  },
  {
   "attachments": {},
   "cell_type": "markdown",
   "metadata": {},
   "source": [
    "We'll use `nimbleparse`, part of the GRMTOOLs tool-kit, which takes our two definition files and program file and produces a derivation (i.e. the application of rules used to parse it) if it satisfies the grammar, and otherwise (if it can find one) a sequence of one or more edits that can be made to satisfy the grammar."
   ]
  },
  {
   "attachments": {},
   "cell_type": "markdown",
   "metadata": {},
   "source": [
    "### Parser recovery for repairing our tasks\n",
    "We'll use `nimbleparse` to attempt to fix our programs. In contrast to other approaches, this will only fix syntax mistakes -- so other error like undefined variables will persist. However, it is still helpful to understand this approach since 1) syntax errors are quite common in some settings (e.g. intro programming), 2) syntactically repaired programs can be an input for another downstream repair tool.\n",
    "\n",
    "One important difference between traditional parsing and our use of this tool for repair is that our grammar does not actually cover *all* of C. As a result, syntactically valid C programs may actually be rejected (and some syntactically invalid programs may actually be captured in our grammar). This is a deliberate choice: it is often easy to write a core of the grammar you want to cover but covering all programs may require more engineering effort. Furthermore, the more complex your grammar is, the more work the recovery mechanism may need to do to produce edit candidates -- this can be detrimental in cases where you want to produce repairs online. In general, a productive approach is to define small portion of your grammar, make sure it covers most well-formed programs you are interested in, and can fix common mistakes in the ill-formed programs."
   ]
  },
  {
   "attachments": {},
   "cell_type": "markdown",
   "metadata": {},
   "source": [
    "Let's validate that our grammar covers a substantial portion of the well-formed programs we want to work with. We'll take the first 200 training examples and apply `nimbleparse` to the well-formed program. If no stderr message is produced, the program satisfies our parser."
   ]
  },
  {
   "cell_type": "code",
   "execution_count": null,
   "metadata": {},
   "outputs": [],
   "source": [
    "from repair.engines import grmtools\n",
    "parsed = [grmtools._run_nimbleparse(task.target) for task in tqdm.tqdm(train[:200])]\n",
    "no_error = [len(p.strip()) == 0 for p in parsed]\n",
    "print(\"Parsed with our approx grammar:\", sum(no_error) / len(parsed))"
   ]
  },
  {
   "attachments": {},
   "cell_type": "markdown",
   "metadata": {},
   "source": [
    "* **Extension task**: Extend the `.l` and `.y` files (or even rewrite them) to cover more of the student's well-formed programs. As you change these, consider re-running the benchmark and seeing if these changes lead to more/less fixes and how long this takes (note that this timing is not reflective of production use of GRMTOOLs, which is super fast, as we are calling `nimbleparse` with `subprocess` and doing a lot of mangling of stderr logs. A production approach would implement the parser directly in `rust` using GRMTOOLs.)"
   ]
  },
  {
   "attachments": {},
   "cell_type": "markdown",
   "metadata": {},
   "source": [
    "Now we'll go ahead and use this tool to try to repair our student benchmark."
   ]
  },
  {
   "cell_type": "code",
   "execution_count": null,
   "metadata": {},
   "outputs": [],
   "source": [
    "grmt_repair = grmtools.GRMTRepair()"
   ]
  },
  {
   "cell_type": "code",
   "execution_count": null,
   "metadata": {},
   "outputs": [],
   "source": [
    "show_code(grmt_repair.repair)"
   ]
  },
  {
   "cell_type": "code",
   "execution_count": null,
   "metadata": {},
   "outputs": [],
   "source": [
    "grmt_res = utils.run_benchmark(grmt_repair, verbose=True)\n",
    "grmt_res[0]"
   ]
  },
  {
   "attachments": {},
   "cell_type": "markdown",
   "metadata": {},
   "source": [
    "In this case, our approach with `GRMTRepair` yielded fewer fixes, but note that the gap between `compile` and `compile+distance` is (unsurprisingly) much smaller than what we found when applying our cloze-style and fine-tuned repair with CodeT5. One advantage of symbolic approaches is that we have some guarantees -- in this case that whatever we return will satisfy *our* grammar (which in turn should be closely related to the real grammar used by `gcc`) and it is a minimal set of edits to adhere to that grammar. With more engineering effort we could continue to raise this number. For example, we currently produce a single candidate repair (by taking the top edit sequence for each error location), but you could create more diversity by combining suggested edits. GRMTOOLs returns the minimal distance edits for each error location, and locations are dependent.\n",
    "\n",
    "Let's look at how many tasks we returned a candidate (i.e. a repair that was not just equivalent to the original input buggy program -- which we return as a default if we can't fix anything to facilitate composition with other tools.)"
   ]
  },
  {
   "cell_type": "code",
   "execution_count": null,
   "metadata": {},
   "outputs": [],
   "source": [
    "sum([task[0].prediction != task[0].buggy for task in grmt_res[1]]) / len(grmt_res[1])"
   ]
  },
  {
   "attachments": {},
   "cell_type": "markdown",
   "metadata": {},
   "source": [
    "While we produce a candidate for 76\\% of programs, we notice that the portion that satisfies the compiler is substantially lower, so let's take a look at the set that did not satisfy that check."
   ]
  },
  {
   "cell_type": "code",
   "execution_count": null,
   "metadata": {},
   "outputs": [],
   "source": [
    "grmt_failed = [task[0] for task in grmt_res[1] if task[0].prediction != task[0].buggy and not task[0].compile_result.ok]\n",
    "len(grmt_failed)"
   ]
  },
  {
   "attachments": {},
   "cell_type": "markdown",
   "metadata": {},
   "source": [
    "It can be quite helpful to see what some of these failures are to understand some of the tradeoffs involved in using `GRMTRepair`. You'll find that many of these errors relate to undeclared variables and other type errors,\n",
    "which we *know* we can't fix with a syntax-only repair strategy. \n",
    "\n",
    "* **Extension Task**: Combine `GRMTRepair` with one of our other repair strategies and see if the overall metrics improve."
   ]
  },
  {
   "cell_type": "code",
   "execution_count": null,
   "metadata": {},
   "outputs": [],
   "source": [
    "i = 1\n",
    "print(grmt_failed[i].prediction)\n",
    "print(grmt_failed[i].compile_result.error)"
   ]
  },
  {
   "cell_type": "code",
   "execution_count": null,
   "metadata": {},
   "outputs": [],
   "source": [
    "len([fail for fail in grmt_failed if \"undeclared\" in fail.compile_result.error or \"invalid type\" in fail.compile_result.error])"
   ]
  },
  {
   "attachments": {},
   "cell_type": "markdown",
   "metadata": {},
   "source": [
    "Remaining failures are due to our approximate grammar, which can also result in edits that are in fact not valid C. How much you invest in refining your grammar depends on your use case."
   ]
  },
  {
   "cell_type": "code",
   "execution_count": null,
   "metadata": {},
   "outputs": [],
   "source": [
    "other_failed = [\n",
    "    fail for fail in grmt_failed \n",
    "    if not(\"undeclared\" in fail.compile_result.error or \"invalid type\" in fail.compile_result.error)\n",
    "]"
   ]
  },
  {
   "cell_type": "code",
   "execution_count": null,
   "metadata": {},
   "outputs": [],
   "source": [
    "print(other_failed[0].compile_result.error)"
   ]
  },
  {
   "attachments": {},
   "cell_type": "markdown",
   "metadata": {},
   "source": [
    "## Fixing Syntax Errors with Codex\n",
    "\n",
    "The remainder of this tutorial is optional as it requires an OpenAI key to execute. You can apply for an OpenAI trial account (and upgrade to a paid account afterwards) at [https://openai.com/](https://openai.com/). If you do so, I recommend setting up soft and hard spending limits to avoid overusing the API -- I set mine to about $5, which I am comfortable using.\n",
    "\n",
    "You should set your API key by exporting it as an environment variable `export OPENAI_API_KEY=<key>` or executing the code below which uses `os.environ` to set the same variable.\n",
    "\n",
    "However, note that the API does perform rate-limiting, and we have not implemented any rate-limit waiting/retries in the code below, so you won't be able to really run benchmarks. Instead, you should just play around with one-off examples to get a sense of how this would work in practice."
   ]
  },
  {
   "attachments": {},
   "cell_type": "markdown",
   "metadata": {},
   "source": [
    "### Codex Overview\n",
    "\n",
    "As many are probably aware, Codex [5] is a large (Davinci=175B parameters) language model that has been trained on both code and natural language. It has been shown to be effective for a wide range of code-related tasks, such as code generation from natural language, code translation between programming languages, program repair, and more.\n",
    "\n",
    "In the code below, you'll see a quick convenience wrapper around the `openai` API."
   ]
  },
  {
   "cell_type": "code",
   "execution_count": 1,
   "metadata": {},
   "outputs": [],
   "source": [
    "import os\n",
    "os.environ[\"OPENAI_API_KEY\"] = \"<key>\""
   ]
  },
  {
   "cell_type": "code",
   "execution_count": 5,
   "metadata": {},
   "outputs": [],
   "source": [
    "from repair.engines import codex"
   ]
  },
  {
   "cell_type": "code",
   "execution_count": 6,
   "metadata": {},
   "outputs": [
    {
     "data": {
      "text/html": [
       "<style>pre { line-height: 125%; }\n",
       "td.linenos .normal { color: inherit; background-color: transparent; padding-left: 5px; padding-right: 5px; }\n",
       "span.linenos { color: inherit; background-color: transparent; padding-left: 5px; padding-right: 5px; }\n",
       "td.linenos .special { color: #000000; background-color: #ffffc0; padding-left: 5px; padding-right: 5px; }\n",
       "span.linenos.special { color: #000000; background-color: #ffffc0; padding-left: 5px; padding-right: 5px; }\n",
       ".output_html .hll { background-color: #ffffcc }\n",
       ".output_html { background: #f8f8f8; }\n",
       ".output_html .c { color: #3D7B7B; font-style: italic } /* Comment */\n",
       ".output_html .err { border: 1px solid #FF0000 } /* Error */\n",
       ".output_html .k { color: #008000; font-weight: bold } /* Keyword */\n",
       ".output_html .o { color: #666666 } /* Operator */\n",
       ".output_html .ch { color: #3D7B7B; font-style: italic } /* Comment.Hashbang */\n",
       ".output_html .cm { color: #3D7B7B; font-style: italic } /* Comment.Multiline */\n",
       ".output_html .cp { color: #9C6500 } /* Comment.Preproc */\n",
       ".output_html .cpf { color: #3D7B7B; font-style: italic } /* Comment.PreprocFile */\n",
       ".output_html .c1 { color: #3D7B7B; font-style: italic } /* Comment.Single */\n",
       ".output_html .cs { color: #3D7B7B; font-style: italic } /* Comment.Special */\n",
       ".output_html .gd { color: #A00000 } /* Generic.Deleted */\n",
       ".output_html .ge { font-style: italic } /* Generic.Emph */\n",
       ".output_html .gr { color: #E40000 } /* Generic.Error */\n",
       ".output_html .gh { color: #000080; font-weight: bold } /* Generic.Heading */\n",
       ".output_html .gi { color: #008400 } /* Generic.Inserted */\n",
       ".output_html .go { color: #717171 } /* Generic.Output */\n",
       ".output_html .gp { color: #000080; font-weight: bold } /* Generic.Prompt */\n",
       ".output_html .gs { font-weight: bold } /* Generic.Strong */\n",
       ".output_html .gu { color: #800080; font-weight: bold } /* Generic.Subheading */\n",
       ".output_html .gt { color: #0044DD } /* Generic.Traceback */\n",
       ".output_html .kc { color: #008000; font-weight: bold } /* Keyword.Constant */\n",
       ".output_html .kd { color: #008000; font-weight: bold } /* Keyword.Declaration */\n",
       ".output_html .kn { color: #008000; font-weight: bold } /* Keyword.Namespace */\n",
       ".output_html .kp { color: #008000 } /* Keyword.Pseudo */\n",
       ".output_html .kr { color: #008000; font-weight: bold } /* Keyword.Reserved */\n",
       ".output_html .kt { color: #B00040 } /* Keyword.Type */\n",
       ".output_html .m { color: #666666 } /* Literal.Number */\n",
       ".output_html .s { color: #BA2121 } /* Literal.String */\n",
       ".output_html .na { color: #687822 } /* Name.Attribute */\n",
       ".output_html .nb { color: #008000 } /* Name.Builtin */\n",
       ".output_html .nc { color: #0000FF; font-weight: bold } /* Name.Class */\n",
       ".output_html .no { color: #880000 } /* Name.Constant */\n",
       ".output_html .nd { color: #AA22FF } /* Name.Decorator */\n",
       ".output_html .ni { color: #717171; font-weight: bold } /* Name.Entity */\n",
       ".output_html .ne { color: #CB3F38; font-weight: bold } /* Name.Exception */\n",
       ".output_html .nf { color: #0000FF } /* Name.Function */\n",
       ".output_html .nl { color: #767600 } /* Name.Label */\n",
       ".output_html .nn { color: #0000FF; font-weight: bold } /* Name.Namespace */\n",
       ".output_html .nt { color: #008000; font-weight: bold } /* Name.Tag */\n",
       ".output_html .nv { color: #19177C } /* Name.Variable */\n",
       ".output_html .ow { color: #AA22FF; font-weight: bold } /* Operator.Word */\n",
       ".output_html .w { color: #bbbbbb } /* Text.Whitespace */\n",
       ".output_html .mb { color: #666666 } /* Literal.Number.Bin */\n",
       ".output_html .mf { color: #666666 } /* Literal.Number.Float */\n",
       ".output_html .mh { color: #666666 } /* Literal.Number.Hex */\n",
       ".output_html .mi { color: #666666 } /* Literal.Number.Integer */\n",
       ".output_html .mo { color: #666666 } /* Literal.Number.Oct */\n",
       ".output_html .sa { color: #BA2121 } /* Literal.String.Affix */\n",
       ".output_html .sb { color: #BA2121 } /* Literal.String.Backtick */\n",
       ".output_html .sc { color: #BA2121 } /* Literal.String.Char */\n",
       ".output_html .dl { color: #BA2121 } /* Literal.String.Delimiter */\n",
       ".output_html .sd { color: #BA2121; font-style: italic } /* Literal.String.Doc */\n",
       ".output_html .s2 { color: #BA2121 } /* Literal.String.Double */\n",
       ".output_html .se { color: #AA5D1F; font-weight: bold } /* Literal.String.Escape */\n",
       ".output_html .sh { color: #BA2121 } /* Literal.String.Heredoc */\n",
       ".output_html .si { color: #A45A77; font-weight: bold } /* Literal.String.Interpol */\n",
       ".output_html .sx { color: #008000 } /* Literal.String.Other */\n",
       ".output_html .sr { color: #A45A77 } /* Literal.String.Regex */\n",
       ".output_html .s1 { color: #BA2121 } /* Literal.String.Single */\n",
       ".output_html .ss { color: #19177C } /* Literal.String.Symbol */\n",
       ".output_html .bp { color: #008000 } /* Name.Builtin.Pseudo */\n",
       ".output_html .fm { color: #0000FF } /* Name.Function.Magic */\n",
       ".output_html .vc { color: #19177C } /* Name.Variable.Class */\n",
       ".output_html .vg { color: #19177C } /* Name.Variable.Global */\n",
       ".output_html .vi { color: #19177C } /* Name.Variable.Instance */\n",
       ".output_html .vm { color: #19177C } /* Name.Variable.Magic */\n",
       ".output_html .il { color: #666666 } /* Literal.Number.Integer.Long */</style><div class=\"highlight\"><pre><span></span><span class=\"k\">class</span> <span class=\"nc\">CodexEngine</span><span class=\"p\">(</span><span class=\"nb\">object</span><span class=\"p\">):</span>\n",
       "\n",
       "    <span class=\"k\">def</span> <span class=\"fm\">__init__</span><span class=\"p\">(</span>\n",
       "        <span class=\"bp\">self</span><span class=\"p\">,</span>\n",
       "        <span class=\"n\">openai_key</span><span class=\"p\">:</span> <span class=\"nb\">str</span><span class=\"p\">,</span>\n",
       "        <span class=\"n\">temperature</span><span class=\"p\">:</span> <span class=\"nb\">float</span> <span class=\"o\">=</span> <span class=\"mi\">0</span><span class=\"p\">,</span>\n",
       "        <span class=\"n\">n</span><span class=\"p\">:</span> <span class=\"nb\">int</span> <span class=\"o\">=</span> <span class=\"mi\">1</span><span class=\"p\">,</span>\n",
       "        <span class=\"n\">maxtokens</span><span class=\"p\">:</span> <span class=\"nb\">int</span> <span class=\"o\">=</span> <span class=\"mi\">200</span><span class=\"p\">,</span>\n",
       "        <span class=\"n\">stop</span><span class=\"p\">:</span> <span class=\"nb\">str</span> <span class=\"o\">=</span> <span class=\"s2\">&quot;///&quot;</span><span class=\"p\">,</span>\n",
       "        <span class=\"n\">engine</span><span class=\"p\">:</span> <span class=\"nb\">str</span> <span class=\"o\">=</span> <span class=\"s2\">&quot;code-davinci-002&quot;</span><span class=\"p\">,</span>\n",
       "    <span class=\"p\">):</span>\n",
       "        <span class=\"n\">openai</span><span class=\"o\">.</span><span class=\"n\">api_key</span> <span class=\"o\">=</span> <span class=\"n\">openai_key</span>\n",
       "        <span class=\"bp\">self</span><span class=\"o\">.</span><span class=\"n\">temperature</span> <span class=\"o\">=</span> <span class=\"n\">temperature</span>\n",
       "        <span class=\"bp\">self</span><span class=\"o\">.</span><span class=\"n\">maxtokens</span> <span class=\"o\">=</span> <span class=\"n\">maxtokens</span>\n",
       "        <span class=\"bp\">self</span><span class=\"o\">.</span><span class=\"n\">n</span> <span class=\"o\">=</span> <span class=\"n\">n</span>\n",
       "        <span class=\"bp\">self</span><span class=\"o\">.</span><span class=\"n\">top_p</span> <span class=\"o\">=</span> <span class=\"mf\">1.0</span>\n",
       "        <span class=\"bp\">self</span><span class=\"o\">.</span><span class=\"n\">presence_penalty</span> <span class=\"o\">=</span> <span class=\"mf\">0.0</span>\n",
       "        <span class=\"bp\">self</span><span class=\"o\">.</span><span class=\"n\">frequency_penalty</span> <span class=\"o\">=</span> <span class=\"mf\">0.0</span>\n",
       "        <span class=\"bp\">self</span><span class=\"o\">.</span><span class=\"n\">stop</span> <span class=\"o\">=</span> <span class=\"n\">stop</span>\n",
       "        <span class=\"bp\">self</span><span class=\"o\">.</span><span class=\"n\">engine</span> <span class=\"o\">=</span> <span class=\"n\">engine</span>\n",
       "\n",
       "    <span class=\"k\">def</span> <span class=\"nf\">complete</span><span class=\"p\">(</span><span class=\"bp\">self</span><span class=\"p\">,</span> <span class=\"n\">prompt</span><span class=\"p\">:</span> <span class=\"nb\">str</span><span class=\"p\">,</span> <span class=\"o\">**</span><span class=\"n\">kwargs</span><span class=\"p\">):</span>\n",
       "        <span class=\"k\">try</span><span class=\"p\">:</span>\n",
       "            <span class=\"n\">response</span> <span class=\"o\">=</span> <span class=\"n\">openai</span><span class=\"o\">.</span><span class=\"n\">Completion</span><span class=\"o\">.</span><span class=\"n\">create</span><span class=\"p\">(</span>\n",
       "                <span class=\"n\">engine</span><span class=\"o\">=</span><span class=\"bp\">self</span><span class=\"o\">.</span><span class=\"n\">engine</span><span class=\"p\">,</span>\n",
       "                <span class=\"n\">prompt</span><span class=\"o\">=</span><span class=\"n\">prompt</span><span class=\"p\">,</span>\n",
       "                <span class=\"n\">max_tokens</span><span class=\"o\">=</span><span class=\"n\">kwargs</span><span class=\"o\">.</span><span class=\"n\">get</span><span class=\"p\">(</span><span class=\"s2\">&quot;maxtokens&quot;</span><span class=\"p\">,</span> <span class=\"bp\">self</span><span class=\"o\">.</span><span class=\"n\">maxtokens</span><span class=\"p\">),</span>\n",
       "                <span class=\"n\">temperature</span><span class=\"o\">=</span><span class=\"n\">kwargs</span><span class=\"o\">.</span><span class=\"n\">get</span><span class=\"p\">(</span><span class=\"s2\">&quot;temperature&quot;</span><span class=\"p\">,</span> <span class=\"bp\">self</span><span class=\"o\">.</span><span class=\"n\">temperature</span><span class=\"p\">),</span>\n",
       "                <span class=\"n\">top_p</span><span class=\"o\">=</span><span class=\"n\">kwargs</span><span class=\"o\">.</span><span class=\"n\">get</span><span class=\"p\">(</span><span class=\"s2\">&quot;top_p&quot;</span><span class=\"p\">,</span> <span class=\"bp\">self</span><span class=\"o\">.</span><span class=\"n\">top_p</span><span class=\"p\">),</span>\n",
       "                <span class=\"n\">presence_penalty</span><span class=\"o\">=</span><span class=\"n\">kwargs</span><span class=\"o\">.</span><span class=\"n\">get</span><span class=\"p\">(</span><span class=\"s2\">&quot;presence_penalty&quot;</span><span class=\"p\">,</span>\n",
       "                                            <span class=\"bp\">self</span><span class=\"o\">.</span><span class=\"n\">presence_penalty</span><span class=\"p\">),</span>\n",
       "                <span class=\"n\">frequency_penalty</span><span class=\"o\">=</span><span class=\"n\">kwargs</span><span class=\"o\">.</span><span class=\"n\">get</span><span class=\"p\">(</span><span class=\"s2\">&quot;frequency_penalty&quot;</span><span class=\"p\">,</span>\n",
       "                                             <span class=\"bp\">self</span><span class=\"o\">.</span><span class=\"n\">frequency_penalty</span><span class=\"p\">),</span>\n",
       "                <span class=\"n\">stop</span><span class=\"o\">=</span><span class=\"n\">kwargs</span><span class=\"o\">.</span><span class=\"n\">get</span><span class=\"p\">(</span><span class=\"s2\">&quot;stop&quot;</span><span class=\"p\">,</span> <span class=\"bp\">self</span><span class=\"o\">.</span><span class=\"n\">stop</span><span class=\"p\">),</span>\n",
       "                <span class=\"n\">n</span><span class=\"o\">=</span><span class=\"n\">kwargs</span><span class=\"o\">.</span><span class=\"n\">get</span><span class=\"p\">(</span><span class=\"s2\">&quot;n&quot;</span><span class=\"p\">,</span> <span class=\"bp\">self</span><span class=\"o\">.</span><span class=\"n\">n</span><span class=\"p\">),</span>\n",
       "                <span class=\"n\">logprobs</span><span class=\"o\">=</span><span class=\"mi\">1</span><span class=\"p\">,</span>\n",
       "            <span class=\"p\">)</span>\n",
       "            <span class=\"n\">unsorted_completions</span> <span class=\"o\">=</span> <span class=\"p\">[</span>\n",
       "                <span class=\"p\">(</span><span class=\"n\">completion</span><span class=\"p\">[</span><span class=\"s2\">&quot;text&quot;</span><span class=\"p\">],</span>\n",
       "                 <span class=\"n\">np</span><span class=\"o\">.</span><span class=\"n\">mean</span><span class=\"p\">(</span><span class=\"n\">completion</span><span class=\"p\">[</span><span class=\"s2\">&quot;logprobs&quot;</span><span class=\"p\">][</span><span class=\"s2\">&quot;token_logprobs&quot;</span><span class=\"p\">]))</span>\n",
       "                <span class=\"k\">for</span> <span class=\"n\">completion</span> <span class=\"ow\">in</span> <span class=\"n\">response</span><span class=\"p\">[</span><span class=\"s2\">&quot;choices&quot;</span><span class=\"p\">]</span>\n",
       "            <span class=\"p\">]</span>\n",
       "\n",
       "            <span class=\"c1\"># higher average prob should come first</span>\n",
       "            <span class=\"n\">sorted_completions</span> <span class=\"o\">=</span> <span class=\"nb\">sorted</span><span class=\"p\">(</span><span class=\"n\">unsorted_completions</span><span class=\"p\">,</span>\n",
       "                                        <span class=\"n\">key</span><span class=\"o\">=</span><span class=\"k\">lambda</span> <span class=\"n\">x</span><span class=\"p\">:</span> <span class=\"n\">x</span><span class=\"p\">[</span><span class=\"mi\">1</span><span class=\"p\">],</span>\n",
       "                                        <span class=\"n\">reverse</span><span class=\"o\">=</span><span class=\"kc\">True</span><span class=\"p\">)</span>\n",
       "            <span class=\"n\">result_dicts</span> <span class=\"o\">=</span> <span class=\"p\">[]</span>\n",
       "            <span class=\"k\">for</span> <span class=\"n\">completion_txt</span><span class=\"p\">,</span> <span class=\"n\">avg_logprob</span> <span class=\"ow\">in</span> <span class=\"n\">sorted_completions</span><span class=\"p\">:</span>\n",
       "                <span class=\"n\">result_dicts</span><span class=\"o\">.</span><span class=\"n\">append</span><span class=\"p\">({</span>\n",
       "                    <span class=\"s2\">&quot;completion&quot;</span><span class=\"p\">:</span> <span class=\"n\">completion_txt</span><span class=\"p\">,</span>\n",
       "                    <span class=\"s2\">&quot;avg_logprob&quot;</span><span class=\"p\">:</span> <span class=\"n\">avg_logprob</span><span class=\"p\">,</span>\n",
       "                <span class=\"p\">})</span>\n",
       "            <span class=\"k\">return</span> <span class=\"n\">result_dicts</span>\n",
       "        <span class=\"k\">except</span> <span class=\"ne\">Exception</span> <span class=\"k\">as</span> <span class=\"n\">e</span><span class=\"p\">:</span>\n",
       "            <span class=\"nb\">print</span><span class=\"p\">(</span><span class=\"s2\">&quot;Skipping exception&quot;</span><span class=\"p\">)</span>\n",
       "            <span class=\"nb\">print</span><span class=\"p\">(</span><span class=\"n\">e</span><span class=\"p\">)</span>\n",
       "            <span class=\"k\">return</span> <span class=\"kc\">None</span>\n",
       "</pre></div>\n"
      ],
      "text/latex": [
       "\\begin{Verbatim}[commandchars=\\\\\\{\\}]\n",
       "\\PY{k}{class} \\PY{n+nc}{CodexEngine}\\PY{p}{(}\\PY{n+nb}{object}\\PY{p}{)}\\PY{p}{:}\n",
       "\n",
       "    \\PY{k}{def} \\PY{n+nf+fm}{\\PYZus{}\\PYZus{}init\\PYZus{}\\PYZus{}}\\PY{p}{(}\n",
       "        \\PY{n+nb+bp}{self}\\PY{p}{,}\n",
       "        \\PY{n}{openai\\PYZus{}key}\\PY{p}{:} \\PY{n+nb}{str}\\PY{p}{,}\n",
       "        \\PY{n}{temperature}\\PY{p}{:} \\PY{n+nb}{float} \\PY{o}{=} \\PY{l+m+mi}{0}\\PY{p}{,}\n",
       "        \\PY{n}{n}\\PY{p}{:} \\PY{n+nb}{int} \\PY{o}{=} \\PY{l+m+mi}{1}\\PY{p}{,}\n",
       "        \\PY{n}{maxtokens}\\PY{p}{:} \\PY{n+nb}{int} \\PY{o}{=} \\PY{l+m+mi}{200}\\PY{p}{,}\n",
       "        \\PY{n}{stop}\\PY{p}{:} \\PY{n+nb}{str} \\PY{o}{=} \\PY{l+s+s2}{\\PYZdq{}}\\PY{l+s+s2}{///}\\PY{l+s+s2}{\\PYZdq{}}\\PY{p}{,}\n",
       "        \\PY{n}{engine}\\PY{p}{:} \\PY{n+nb}{str} \\PY{o}{=} \\PY{l+s+s2}{\\PYZdq{}}\\PY{l+s+s2}{code\\PYZhy{}davinci\\PYZhy{}002}\\PY{l+s+s2}{\\PYZdq{}}\\PY{p}{,}\n",
       "    \\PY{p}{)}\\PY{p}{:}\n",
       "        \\PY{n}{openai}\\PY{o}{.}\\PY{n}{api\\PYZus{}key} \\PY{o}{=} \\PY{n}{openai\\PYZus{}key}\n",
       "        \\PY{n+nb+bp}{self}\\PY{o}{.}\\PY{n}{temperature} \\PY{o}{=} \\PY{n}{temperature}\n",
       "        \\PY{n+nb+bp}{self}\\PY{o}{.}\\PY{n}{maxtokens} \\PY{o}{=} \\PY{n}{maxtokens}\n",
       "        \\PY{n+nb+bp}{self}\\PY{o}{.}\\PY{n}{n} \\PY{o}{=} \\PY{n}{n}\n",
       "        \\PY{n+nb+bp}{self}\\PY{o}{.}\\PY{n}{top\\PYZus{}p} \\PY{o}{=} \\PY{l+m+mf}{1.0}\n",
       "        \\PY{n+nb+bp}{self}\\PY{o}{.}\\PY{n}{presence\\PYZus{}penalty} \\PY{o}{=} \\PY{l+m+mf}{0.0}\n",
       "        \\PY{n+nb+bp}{self}\\PY{o}{.}\\PY{n}{frequency\\PYZus{}penalty} \\PY{o}{=} \\PY{l+m+mf}{0.0}\n",
       "        \\PY{n+nb+bp}{self}\\PY{o}{.}\\PY{n}{stop} \\PY{o}{=} \\PY{n}{stop}\n",
       "        \\PY{n+nb+bp}{self}\\PY{o}{.}\\PY{n}{engine} \\PY{o}{=} \\PY{n}{engine}\n",
       "\n",
       "    \\PY{k}{def} \\PY{n+nf}{complete}\\PY{p}{(}\\PY{n+nb+bp}{self}\\PY{p}{,} \\PY{n}{prompt}\\PY{p}{:} \\PY{n+nb}{str}\\PY{p}{,} \\PY{o}{*}\\PY{o}{*}\\PY{n}{kwargs}\\PY{p}{)}\\PY{p}{:}\n",
       "        \\PY{k}{try}\\PY{p}{:}\n",
       "            \\PY{n}{response} \\PY{o}{=} \\PY{n}{openai}\\PY{o}{.}\\PY{n}{Completion}\\PY{o}{.}\\PY{n}{create}\\PY{p}{(}\n",
       "                \\PY{n}{engine}\\PY{o}{=}\\PY{n+nb+bp}{self}\\PY{o}{.}\\PY{n}{engine}\\PY{p}{,}\n",
       "                \\PY{n}{prompt}\\PY{o}{=}\\PY{n}{prompt}\\PY{p}{,}\n",
       "                \\PY{n}{max\\PYZus{}tokens}\\PY{o}{=}\\PY{n}{kwargs}\\PY{o}{.}\\PY{n}{get}\\PY{p}{(}\\PY{l+s+s2}{\\PYZdq{}}\\PY{l+s+s2}{maxtokens}\\PY{l+s+s2}{\\PYZdq{}}\\PY{p}{,} \\PY{n+nb+bp}{self}\\PY{o}{.}\\PY{n}{maxtokens}\\PY{p}{)}\\PY{p}{,}\n",
       "                \\PY{n}{temperature}\\PY{o}{=}\\PY{n}{kwargs}\\PY{o}{.}\\PY{n}{get}\\PY{p}{(}\\PY{l+s+s2}{\\PYZdq{}}\\PY{l+s+s2}{temperature}\\PY{l+s+s2}{\\PYZdq{}}\\PY{p}{,} \\PY{n+nb+bp}{self}\\PY{o}{.}\\PY{n}{temperature}\\PY{p}{)}\\PY{p}{,}\n",
       "                \\PY{n}{top\\PYZus{}p}\\PY{o}{=}\\PY{n}{kwargs}\\PY{o}{.}\\PY{n}{get}\\PY{p}{(}\\PY{l+s+s2}{\\PYZdq{}}\\PY{l+s+s2}{top\\PYZus{}p}\\PY{l+s+s2}{\\PYZdq{}}\\PY{p}{,} \\PY{n+nb+bp}{self}\\PY{o}{.}\\PY{n}{top\\PYZus{}p}\\PY{p}{)}\\PY{p}{,}\n",
       "                \\PY{n}{presence\\PYZus{}penalty}\\PY{o}{=}\\PY{n}{kwargs}\\PY{o}{.}\\PY{n}{get}\\PY{p}{(}\\PY{l+s+s2}{\\PYZdq{}}\\PY{l+s+s2}{presence\\PYZus{}penalty}\\PY{l+s+s2}{\\PYZdq{}}\\PY{p}{,}\n",
       "                                            \\PY{n+nb+bp}{self}\\PY{o}{.}\\PY{n}{presence\\PYZus{}penalty}\\PY{p}{)}\\PY{p}{,}\n",
       "                \\PY{n}{frequency\\PYZus{}penalty}\\PY{o}{=}\\PY{n}{kwargs}\\PY{o}{.}\\PY{n}{get}\\PY{p}{(}\\PY{l+s+s2}{\\PYZdq{}}\\PY{l+s+s2}{frequency\\PYZus{}penalty}\\PY{l+s+s2}{\\PYZdq{}}\\PY{p}{,}\n",
       "                                             \\PY{n+nb+bp}{self}\\PY{o}{.}\\PY{n}{frequency\\PYZus{}penalty}\\PY{p}{)}\\PY{p}{,}\n",
       "                \\PY{n}{stop}\\PY{o}{=}\\PY{n}{kwargs}\\PY{o}{.}\\PY{n}{get}\\PY{p}{(}\\PY{l+s+s2}{\\PYZdq{}}\\PY{l+s+s2}{stop}\\PY{l+s+s2}{\\PYZdq{}}\\PY{p}{,} \\PY{n+nb+bp}{self}\\PY{o}{.}\\PY{n}{stop}\\PY{p}{)}\\PY{p}{,}\n",
       "                \\PY{n}{n}\\PY{o}{=}\\PY{n}{kwargs}\\PY{o}{.}\\PY{n}{get}\\PY{p}{(}\\PY{l+s+s2}{\\PYZdq{}}\\PY{l+s+s2}{n}\\PY{l+s+s2}{\\PYZdq{}}\\PY{p}{,} \\PY{n+nb+bp}{self}\\PY{o}{.}\\PY{n}{n}\\PY{p}{)}\\PY{p}{,}\n",
       "                \\PY{n}{logprobs}\\PY{o}{=}\\PY{l+m+mi}{1}\\PY{p}{,}\n",
       "            \\PY{p}{)}\n",
       "            \\PY{n}{unsorted\\PYZus{}completions} \\PY{o}{=} \\PY{p}{[}\n",
       "                \\PY{p}{(}\\PY{n}{completion}\\PY{p}{[}\\PY{l+s+s2}{\\PYZdq{}}\\PY{l+s+s2}{text}\\PY{l+s+s2}{\\PYZdq{}}\\PY{p}{]}\\PY{p}{,}\n",
       "                 \\PY{n}{np}\\PY{o}{.}\\PY{n}{mean}\\PY{p}{(}\\PY{n}{completion}\\PY{p}{[}\\PY{l+s+s2}{\\PYZdq{}}\\PY{l+s+s2}{logprobs}\\PY{l+s+s2}{\\PYZdq{}}\\PY{p}{]}\\PY{p}{[}\\PY{l+s+s2}{\\PYZdq{}}\\PY{l+s+s2}{token\\PYZus{}logprobs}\\PY{l+s+s2}{\\PYZdq{}}\\PY{p}{]}\\PY{p}{)}\\PY{p}{)}\n",
       "                \\PY{k}{for} \\PY{n}{completion} \\PY{o+ow}{in} \\PY{n}{response}\\PY{p}{[}\\PY{l+s+s2}{\\PYZdq{}}\\PY{l+s+s2}{choices}\\PY{l+s+s2}{\\PYZdq{}}\\PY{p}{]}\n",
       "            \\PY{p}{]}\n",
       "\n",
       "            \\PY{c+c1}{\\PYZsh{} higher average prob should come first}\n",
       "            \\PY{n}{sorted\\PYZus{}completions} \\PY{o}{=} \\PY{n+nb}{sorted}\\PY{p}{(}\\PY{n}{unsorted\\PYZus{}completions}\\PY{p}{,}\n",
       "                                        \\PY{n}{key}\\PY{o}{=}\\PY{k}{lambda} \\PY{n}{x}\\PY{p}{:} \\PY{n}{x}\\PY{p}{[}\\PY{l+m+mi}{1}\\PY{p}{]}\\PY{p}{,}\n",
       "                                        \\PY{n}{reverse}\\PY{o}{=}\\PY{k+kc}{True}\\PY{p}{)}\n",
       "            \\PY{n}{result\\PYZus{}dicts} \\PY{o}{=} \\PY{p}{[}\\PY{p}{]}\n",
       "            \\PY{k}{for} \\PY{n}{completion\\PYZus{}txt}\\PY{p}{,} \\PY{n}{avg\\PYZus{}logprob} \\PY{o+ow}{in} \\PY{n}{sorted\\PYZus{}completions}\\PY{p}{:}\n",
       "                \\PY{n}{result\\PYZus{}dicts}\\PY{o}{.}\\PY{n}{append}\\PY{p}{(}\\PY{p}{\\PYZob{}}\n",
       "                    \\PY{l+s+s2}{\\PYZdq{}}\\PY{l+s+s2}{completion}\\PY{l+s+s2}{\\PYZdq{}}\\PY{p}{:} \\PY{n}{completion\\PYZus{}txt}\\PY{p}{,}\n",
       "                    \\PY{l+s+s2}{\\PYZdq{}}\\PY{l+s+s2}{avg\\PYZus{}logprob}\\PY{l+s+s2}{\\PYZdq{}}\\PY{p}{:} \\PY{n}{avg\\PYZus{}logprob}\\PY{p}{,}\n",
       "                \\PY{p}{\\PYZcb{}}\\PY{p}{)}\n",
       "            \\PY{k}{return} \\PY{n}{result\\PYZus{}dicts}\n",
       "        \\PY{k}{except} \\PY{n+ne}{Exception} \\PY{k}{as} \\PY{n}{e}\\PY{p}{:}\n",
       "            \\PY{n+nb}{print}\\PY{p}{(}\\PY{l+s+s2}{\\PYZdq{}}\\PY{l+s+s2}{Skipping exception}\\PY{l+s+s2}{\\PYZdq{}}\\PY{p}{)}\n",
       "            \\PY{n+nb}{print}\\PY{p}{(}\\PY{n}{e}\\PY{p}{)}\n",
       "            \\PY{k}{return} \\PY{k+kc}{None}\n",
       "\\end{Verbatim}\n"
      ],
      "text/plain": [
       "class CodexEngine(object):\n",
       "\n",
       "    def __init__(\n",
       "        self,\n",
       "        openai_key: str,\n",
       "        temperature: float = 0,\n",
       "        n: int = 1,\n",
       "        maxtokens: int = 200,\n",
       "        stop: str = \"///\",\n",
       "        engine: str = \"code-davinci-002\",\n",
       "    ):\n",
       "        openai.api_key = openai_key\n",
       "        self.temperature = temperature\n",
       "        self.maxtokens = maxtokens\n",
       "        self.n = n\n",
       "        self.top_p = 1.0\n",
       "        self.presence_penalty = 0.0\n",
       "        self.frequency_penalty = 0.0\n",
       "        self.stop = stop\n",
       "        self.engine = engine\n",
       "\n",
       "    def complete(self, prompt: str, **kwargs):\n",
       "        try:\n",
       "            response = openai.Completion.create(\n",
       "                engine=self.engine,\n",
       "                prompt=prompt,\n",
       "                max_tokens=kwargs.get(\"maxtokens\", self.maxtokens),\n",
       "                temperature=kwargs.get(\"temperature\", self.temperature),\n",
       "                top_p=kwargs.get(\"top_p\", self.top_p),\n",
       "                presence_penalty=kwargs.get(\"presence_penalty\",\n",
       "                                            self.presence_penalty),\n",
       "                frequency_penalty=kwargs.get(\"frequency_penalty\",\n",
       "                                             self.frequency_penalty),\n",
       "                stop=kwargs.get(\"stop\", self.stop),\n",
       "                n=kwargs.get(\"n\", self.n),\n",
       "                logprobs=1,\n",
       "            )\n",
       "            unsorted_completions = [\n",
       "                (completion[\"text\"],\n",
       "                 np.mean(completion[\"logprobs\"][\"token_logprobs\"]))\n",
       "                for completion in response[\"choices\"]\n",
       "            ]\n",
       "\n",
       "            # higher average prob should come first\n",
       "            sorted_completions = sorted(unsorted_completions,\n",
       "                                        key=lambda x: x[1],\n",
       "                                        reverse=True)\n",
       "            result_dicts = []\n",
       "            for completion_txt, avg_logprob in sorted_completions:\n",
       "                result_dicts.append({\n",
       "                    \"completion\": completion_txt,\n",
       "                    \"avg_logprob\": avg_logprob,\n",
       "                })\n",
       "            return result_dicts\n",
       "        except Exception as e:\n",
       "            print(\"Skipping exception\")\n",
       "            print(e)\n",
       "            return None"
      ]
     },
     "execution_count": 6,
     "metadata": {},
     "output_type": "execute_result"
    }
   ],
   "source": [
    "show_code(codex.CodexEngine)"
   ]
  },
  {
   "attachments": {},
   "cell_type": "markdown",
   "metadata": {},
   "source": [
    "### Base Codex: simple prompt and buggy program\n",
    "\n",
    "The absolute simplest place to start is to provide Codex with a basic prompt that includes the buggy program, an instruction to fix it, and a prefix for the completion that will bias the model towards the task we want to complete."
   ]
  },
  {
   "cell_type": "code",
   "execution_count": 7,
   "metadata": {},
   "outputs": [
    {
     "data": {
      "text/html": [
       "<style>pre { line-height: 125%; }\n",
       "td.linenos .normal { color: inherit; background-color: transparent; padding-left: 5px; padding-right: 5px; }\n",
       "span.linenos { color: inherit; background-color: transparent; padding-left: 5px; padding-right: 5px; }\n",
       "td.linenos .special { color: #000000; background-color: #ffffc0; padding-left: 5px; padding-right: 5px; }\n",
       "span.linenos.special { color: #000000; background-color: #ffffc0; padding-left: 5px; padding-right: 5px; }\n",
       ".output_html .hll { background-color: #ffffcc }\n",
       ".output_html { background: #f8f8f8; }\n",
       ".output_html .c { color: #3D7B7B; font-style: italic } /* Comment */\n",
       ".output_html .err { border: 1px solid #FF0000 } /* Error */\n",
       ".output_html .k { color: #008000; font-weight: bold } /* Keyword */\n",
       ".output_html .o { color: #666666 } /* Operator */\n",
       ".output_html .ch { color: #3D7B7B; font-style: italic } /* Comment.Hashbang */\n",
       ".output_html .cm { color: #3D7B7B; font-style: italic } /* Comment.Multiline */\n",
       ".output_html .cp { color: #9C6500 } /* Comment.Preproc */\n",
       ".output_html .cpf { color: #3D7B7B; font-style: italic } /* Comment.PreprocFile */\n",
       ".output_html .c1 { color: #3D7B7B; font-style: italic } /* Comment.Single */\n",
       ".output_html .cs { color: #3D7B7B; font-style: italic } /* Comment.Special */\n",
       ".output_html .gd { color: #A00000 } /* Generic.Deleted */\n",
       ".output_html .ge { font-style: italic } /* Generic.Emph */\n",
       ".output_html .gr { color: #E40000 } /* Generic.Error */\n",
       ".output_html .gh { color: #000080; font-weight: bold } /* Generic.Heading */\n",
       ".output_html .gi { color: #008400 } /* Generic.Inserted */\n",
       ".output_html .go { color: #717171 } /* Generic.Output */\n",
       ".output_html .gp { color: #000080; font-weight: bold } /* Generic.Prompt */\n",
       ".output_html .gs { font-weight: bold } /* Generic.Strong */\n",
       ".output_html .gu { color: #800080; font-weight: bold } /* Generic.Subheading */\n",
       ".output_html .gt { color: #0044DD } /* Generic.Traceback */\n",
       ".output_html .kc { color: #008000; font-weight: bold } /* Keyword.Constant */\n",
       ".output_html .kd { color: #008000; font-weight: bold } /* Keyword.Declaration */\n",
       ".output_html .kn { color: #008000; font-weight: bold } /* Keyword.Namespace */\n",
       ".output_html .kp { color: #008000 } /* Keyword.Pseudo */\n",
       ".output_html .kr { color: #008000; font-weight: bold } /* Keyword.Reserved */\n",
       ".output_html .kt { color: #B00040 } /* Keyword.Type */\n",
       ".output_html .m { color: #666666 } /* Literal.Number */\n",
       ".output_html .s { color: #BA2121 } /* Literal.String */\n",
       ".output_html .na { color: #687822 } /* Name.Attribute */\n",
       ".output_html .nb { color: #008000 } /* Name.Builtin */\n",
       ".output_html .nc { color: #0000FF; font-weight: bold } /* Name.Class */\n",
       ".output_html .no { color: #880000 } /* Name.Constant */\n",
       ".output_html .nd { color: #AA22FF } /* Name.Decorator */\n",
       ".output_html .ni { color: #717171; font-weight: bold } /* Name.Entity */\n",
       ".output_html .ne { color: #CB3F38; font-weight: bold } /* Name.Exception */\n",
       ".output_html .nf { color: #0000FF } /* Name.Function */\n",
       ".output_html .nl { color: #767600 } /* Name.Label */\n",
       ".output_html .nn { color: #0000FF; font-weight: bold } /* Name.Namespace */\n",
       ".output_html .nt { color: #008000; font-weight: bold } /* Name.Tag */\n",
       ".output_html .nv { color: #19177C } /* Name.Variable */\n",
       ".output_html .ow { color: #AA22FF; font-weight: bold } /* Operator.Word */\n",
       ".output_html .w { color: #bbbbbb } /* Text.Whitespace */\n",
       ".output_html .mb { color: #666666 } /* Literal.Number.Bin */\n",
       ".output_html .mf { color: #666666 } /* Literal.Number.Float */\n",
       ".output_html .mh { color: #666666 } /* Literal.Number.Hex */\n",
       ".output_html .mi { color: #666666 } /* Literal.Number.Integer */\n",
       ".output_html .mo { color: #666666 } /* Literal.Number.Oct */\n",
       ".output_html .sa { color: #BA2121 } /* Literal.String.Affix */\n",
       ".output_html .sb { color: #BA2121 } /* Literal.String.Backtick */\n",
       ".output_html .sc { color: #BA2121 } /* Literal.String.Char */\n",
       ".output_html .dl { color: #BA2121 } /* Literal.String.Delimiter */\n",
       ".output_html .sd { color: #BA2121; font-style: italic } /* Literal.String.Doc */\n",
       ".output_html .s2 { color: #BA2121 } /* Literal.String.Double */\n",
       ".output_html .se { color: #AA5D1F; font-weight: bold } /* Literal.String.Escape */\n",
       ".output_html .sh { color: #BA2121 } /* Literal.String.Heredoc */\n",
       ".output_html .si { color: #A45A77; font-weight: bold } /* Literal.String.Interpol */\n",
       ".output_html .sx { color: #008000 } /* Literal.String.Other */\n",
       ".output_html .sr { color: #A45A77 } /* Literal.String.Regex */\n",
       ".output_html .s1 { color: #BA2121 } /* Literal.String.Single */\n",
       ".output_html .ss { color: #19177C } /* Literal.String.Symbol */\n",
       ".output_html .bp { color: #008000 } /* Name.Builtin.Pseudo */\n",
       ".output_html .fm { color: #0000FF } /* Name.Function.Magic */\n",
       ".output_html .vc { color: #19177C } /* Name.Variable.Class */\n",
       ".output_html .vg { color: #19177C } /* Name.Variable.Global */\n",
       ".output_html .vi { color: #19177C } /* Name.Variable.Instance */\n",
       ".output_html .vm { color: #19177C } /* Name.Variable.Magic */\n",
       ".output_html .il { color: #666666 } /* Literal.Number.Integer.Long */</style><div class=\"highlight\"><pre><span></span><span class=\"k\">class</span> <span class=\"nc\">CodexBaseRepair</span><span class=\"p\">(</span><span class=\"n\">CodexRepair</span><span class=\"p\">):</span>\n",
       "<span class=\"w\">    </span><span class=\"sd\">&quot;&quot;&quot;</span>\n",
       "<span class=\"sd\">    Based on https://beta.openai.com/examples/default-fix-python-bugs</span>\n",
       "<span class=\"sd\">    &quot;&quot;&quot;</span>\n",
       "\n",
       "    <span class=\"k\">def</span> <span class=\"fm\">__init__</span><span class=\"p\">(</span><span class=\"bp\">self</span><span class=\"p\">,</span> <span class=\"o\">*</span><span class=\"n\">args</span><span class=\"p\">,</span> <span class=\"o\">**</span><span class=\"n\">kwargs</span><span class=\"p\">):</span>\n",
       "        <span class=\"bp\">self</span><span class=\"o\">.</span><span class=\"n\">codex</span> <span class=\"o\">=</span> <span class=\"n\">CodexEngine</span><span class=\"p\">(</span><span class=\"o\">*</span><span class=\"n\">args</span><span class=\"p\">,</span> <span class=\"o\">**</span><span class=\"n\">kwargs</span><span class=\"p\">)</span>\n",
       "\n",
       "    <span class=\"k\">def</span> <span class=\"nf\">get_prompt</span><span class=\"p\">(</span><span class=\"bp\">self</span><span class=\"p\">,</span> <span class=\"n\">code</span><span class=\"p\">:</span> <span class=\"nb\">str</span><span class=\"p\">,</span> <span class=\"o\">**</span><span class=\"n\">kwargs</span><span class=\"p\">)</span> <span class=\"o\">-&gt;</span> <span class=\"nb\">str</span><span class=\"p\">:</span>\n",
       "        <span class=\"c1\"># Based on https://beta.openai.com/examples/default-fix-python-bugs</span>\n",
       "        <span class=\"n\">prompt</span> <span class=\"o\">=</span> <span class=\"s2\">&quot;&quot;&quot;//// Fix bugs in the below code</span><span class=\"se\">\\n</span><span class=\"s2\">&quot;&quot;&quot;</span>\n",
       "        <span class=\"n\">prompt</span> <span class=\"o\">+=</span> <span class=\"sa\">f</span><span class=\"s2\">&quot;/// Buggy C</span><span class=\"se\">\\n</span><span class=\"si\">{</span><span class=\"n\">code</span><span class=\"si\">}</span><span class=\"se\">\\n\\n</span><span class=\"s2\">&quot;</span>\n",
       "        <span class=\"n\">prompt</span> <span class=\"o\">+=</span> <span class=\"s2\">&quot;/// Fixed C&quot;</span>\n",
       "        <span class=\"k\">if</span> <span class=\"s1\">&#39;fixed&#39;</span> <span class=\"ow\">in</span> <span class=\"n\">kwargs</span> <span class=\"ow\">and</span> <span class=\"n\">kwargs</span><span class=\"p\">[</span><span class=\"s1\">&#39;fixed&#39;</span><span class=\"p\">]</span> <span class=\"ow\">is</span> <span class=\"ow\">not</span> <span class=\"kc\">None</span><span class=\"p\">:</span>\n",
       "            <span class=\"n\">prompt</span> <span class=\"o\">+=</span> <span class=\"sa\">f</span><span class=\"s2\">&quot;</span><span class=\"se\">\\n</span><span class=\"si\">{</span><span class=\"n\">kwargs</span><span class=\"p\">[</span><span class=\"s1\">&#39;fixed&#39;</span><span class=\"p\">]</span><span class=\"si\">}</span><span class=\"se\">\\n\\n</span><span class=\"s2\">&quot;</span>\n",
       "\n",
       "        <span class=\"k\">return</span> <span class=\"n\">prompt</span>\n",
       "\n",
       "    <span class=\"k\">def</span> <span class=\"nf\">get_repair_from_completion_</span><span class=\"p\">(</span>\n",
       "            <span class=\"bp\">self</span><span class=\"p\">,</span> <span class=\"n\">completion_dict</span><span class=\"p\">:</span> <span class=\"n\">Dict</span><span class=\"p\">[</span><span class=\"nb\">str</span><span class=\"p\">,</span> <span class=\"n\">Any</span><span class=\"p\">])</span> <span class=\"o\">-&gt;</span> <span class=\"n\">Dict</span><span class=\"p\">[</span><span class=\"nb\">str</span><span class=\"p\">,</span> <span class=\"n\">Any</span><span class=\"p\">]:</span>\n",
       "        <span class=\"n\">comp</span> <span class=\"o\">=</span> <span class=\"n\">completion_dict</span><span class=\"p\">[</span><span class=\"s2\">&quot;completion&quot;</span><span class=\"p\">]</span>\n",
       "        <span class=\"c1\"># remove first \\n and last \\n, result from our prompt style</span>\n",
       "        <span class=\"k\">if</span> <span class=\"n\">comp</span><span class=\"p\">[</span><span class=\"mi\">0</span><span class=\"p\">]</span> <span class=\"o\">==</span> <span class=\"s2\">&quot;</span><span class=\"se\">\\n</span><span class=\"s2\">&quot;</span><span class=\"p\">:</span>\n",
       "            <span class=\"n\">comp</span> <span class=\"o\">=</span> <span class=\"n\">comp</span><span class=\"p\">[</span><span class=\"mi\">1</span><span class=\"p\">:]</span>\n",
       "        <span class=\"k\">if</span> <span class=\"n\">comp</span><span class=\"p\">[</span><span class=\"o\">-</span><span class=\"mi\">1</span><span class=\"p\">]</span> <span class=\"o\">==</span> <span class=\"s2\">&quot;</span><span class=\"se\">\\n</span><span class=\"s2\">&quot;</span><span class=\"p\">:</span>\n",
       "            <span class=\"n\">comp</span> <span class=\"o\">=</span> <span class=\"n\">comp</span><span class=\"p\">[:</span><span class=\"o\">-</span><span class=\"mi\">1</span><span class=\"p\">]</span>\n",
       "        <span class=\"k\">return</span> <span class=\"p\">{</span><span class=\"s2\">&quot;repair&quot;</span><span class=\"p\">:</span> <span class=\"n\">comp</span><span class=\"p\">,</span> <span class=\"s2\">&quot;score&quot;</span><span class=\"p\">:</span> <span class=\"n\">completion_dict</span><span class=\"p\">[</span><span class=\"s2\">&quot;avg_logprob&quot;</span><span class=\"p\">]}</span>\n",
       "\n",
       "    <span class=\"k\">def</span> <span class=\"nf\">deduplicate_repairs_</span><span class=\"p\">(</span>\n",
       "            <span class=\"bp\">self</span><span class=\"p\">,</span> <span class=\"n\">repair_dicts</span><span class=\"p\">:</span> <span class=\"n\">List</span><span class=\"p\">[</span><span class=\"n\">Dict</span><span class=\"p\">[</span><span class=\"nb\">str</span><span class=\"p\">,</span> <span class=\"n\">Any</span><span class=\"p\">]])</span> <span class=\"o\">-&gt;</span> <span class=\"n\">List</span><span class=\"p\">[</span><span class=\"n\">Dict</span><span class=\"p\">[</span><span class=\"nb\">str</span><span class=\"p\">,</span> <span class=\"n\">Any</span><span class=\"p\">]]:</span>\n",
       "        <span class=\"n\">unique_repair_dicts</span> <span class=\"o\">=</span> <span class=\"p\">[]</span>\n",
       "        <span class=\"n\">already_included</span> <span class=\"o\">=</span> <span class=\"nb\">set</span><span class=\"p\">()</span>\n",
       "        <span class=\"k\">for</span> <span class=\"n\">rd</span> <span class=\"ow\">in</span> <span class=\"n\">repair_dicts</span><span class=\"p\">:</span>\n",
       "            <span class=\"n\">repair_str</span> <span class=\"o\">=</span> <span class=\"n\">rd</span><span class=\"p\">[</span><span class=\"s2\">&quot;repair&quot;</span><span class=\"p\">]</span>\n",
       "            <span class=\"k\">if</span> <span class=\"n\">repair_str</span> <span class=\"ow\">not</span> <span class=\"ow\">in</span> <span class=\"n\">already_included</span><span class=\"p\">:</span>\n",
       "                <span class=\"n\">unique_repair_dicts</span><span class=\"o\">.</span><span class=\"n\">append</span><span class=\"p\">(</span><span class=\"n\">rd</span><span class=\"p\">)</span>\n",
       "                <span class=\"n\">already_included</span><span class=\"o\">.</span><span class=\"n\">add</span><span class=\"p\">(</span><span class=\"n\">repair_str</span><span class=\"p\">)</span>\n",
       "        <span class=\"k\">return</span> <span class=\"n\">unique_repair_dicts</span>\n",
       "\n",
       "    <span class=\"k\">def</span> <span class=\"nf\">repair</span><span class=\"p\">(</span><span class=\"bp\">self</span><span class=\"p\">,</span> <span class=\"n\">code</span><span class=\"p\">:</span> <span class=\"nb\">str</span><span class=\"p\">,</span> <span class=\"o\">**</span><span class=\"n\">kwargs</span><span class=\"p\">):</span>\n",
       "        <span class=\"c1\"># FIXME: warn if number of tokens too few for length of code</span>\n",
       "        <span class=\"c1\"># or set to num tokens + K</span>\n",
       "        <span class=\"c1\"># Use: https://github.com/openai/tiktoken , which is fast openai tokenizer</span>\n",
       "        <span class=\"c1\"># to estimate tokens for code and pass in as maxtokens=&lt;val&gt;</span>\n",
       "        <span class=\"n\">prompt</span> <span class=\"o\">=</span> <span class=\"bp\">self</span><span class=\"o\">.</span><span class=\"n\">get_prompt</span><span class=\"p\">(</span><span class=\"n\">code</span><span class=\"p\">,</span> <span class=\"o\">**</span><span class=\"n\">kwargs</span><span class=\"p\">)</span>\n",
       "        <span class=\"n\">completion_dicts</span> <span class=\"o\">=</span> <span class=\"bp\">self</span><span class=\"o\">.</span><span class=\"n\">codex</span><span class=\"o\">.</span><span class=\"n\">complete</span><span class=\"p\">(</span><span class=\"n\">prompt</span><span class=\"p\">,</span> <span class=\"o\">**</span><span class=\"n\">kwargs</span><span class=\"p\">)</span>\n",
       "        <span class=\"k\">if</span> <span class=\"n\">completion_dicts</span> <span class=\"ow\">is</span> <span class=\"kc\">None</span><span class=\"p\">:</span>\n",
       "            <span class=\"k\">return</span> <span class=\"p\">[]</span>\n",
       "\n",
       "        <span class=\"n\">repair_dicts</span> <span class=\"o\">=</span> <span class=\"p\">[</span>\n",
       "            <span class=\"bp\">self</span><span class=\"o\">.</span><span class=\"n\">get_repair_from_completion_</span><span class=\"p\">(</span><span class=\"n\">c</span><span class=\"p\">)</span> <span class=\"k\">for</span> <span class=\"n\">c</span> <span class=\"ow\">in</span> <span class=\"n\">completion_dicts</span>\n",
       "        <span class=\"p\">]</span>\n",
       "        <span class=\"n\">repair_dicts</span> <span class=\"o\">=</span> <span class=\"bp\">self</span><span class=\"o\">.</span><span class=\"n\">deduplicate_repairs_</span><span class=\"p\">(</span><span class=\"n\">repair_dicts</span><span class=\"p\">)</span>\n",
       "        <span class=\"k\">return</span> <span class=\"n\">repair_dicts</span>\n",
       "</pre></div>\n"
      ],
      "text/latex": [
       "\\begin{Verbatim}[commandchars=\\\\\\{\\}]\n",
       "\\PY{k}{class} \\PY{n+nc}{CodexBaseRepair}\\PY{p}{(}\\PY{n}{CodexRepair}\\PY{p}{)}\\PY{p}{:}\n",
       "\\PY{+w}{    }\\PY{l+s+sd}{\\PYZdq{}\\PYZdq{}\\PYZdq{}}\n",
       "\\PY{l+s+sd}{    Based on https://beta.openai.com/examples/default\\PYZhy{}fix\\PYZhy{}python\\PYZhy{}bugs}\n",
       "\\PY{l+s+sd}{    \\PYZdq{}\\PYZdq{}\\PYZdq{}}\n",
       "\n",
       "    \\PY{k}{def} \\PY{n+nf+fm}{\\PYZus{}\\PYZus{}init\\PYZus{}\\PYZus{}}\\PY{p}{(}\\PY{n+nb+bp}{self}\\PY{p}{,} \\PY{o}{*}\\PY{n}{args}\\PY{p}{,} \\PY{o}{*}\\PY{o}{*}\\PY{n}{kwargs}\\PY{p}{)}\\PY{p}{:}\n",
       "        \\PY{n+nb+bp}{self}\\PY{o}{.}\\PY{n}{codex} \\PY{o}{=} \\PY{n}{CodexEngine}\\PY{p}{(}\\PY{o}{*}\\PY{n}{args}\\PY{p}{,} \\PY{o}{*}\\PY{o}{*}\\PY{n}{kwargs}\\PY{p}{)}\n",
       "\n",
       "    \\PY{k}{def} \\PY{n+nf}{get\\PYZus{}prompt}\\PY{p}{(}\\PY{n+nb+bp}{self}\\PY{p}{,} \\PY{n}{code}\\PY{p}{:} \\PY{n+nb}{str}\\PY{p}{,} \\PY{o}{*}\\PY{o}{*}\\PY{n}{kwargs}\\PY{p}{)} \\PY{o}{\\PYZhy{}}\\PY{o}{\\PYZgt{}} \\PY{n+nb}{str}\\PY{p}{:}\n",
       "        \\PY{c+c1}{\\PYZsh{} Based on https://beta.openai.com/examples/default\\PYZhy{}fix\\PYZhy{}python\\PYZhy{}bugs}\n",
       "        \\PY{n}{prompt} \\PY{o}{=} \\PY{l+s+s2}{\\PYZdq{}\\PYZdq{}\\PYZdq{}}\\PY{l+s+s2}{//// Fix bugs in the below code}\\PY{l+s+se}{\\PYZbs{}n}\\PY{l+s+s2}{\\PYZdq{}\\PYZdq{}\\PYZdq{}}\n",
       "        \\PY{n}{prompt} \\PY{o}{+}\\PY{o}{=} \\PY{l+s+sa}{f}\\PY{l+s+s2}{\\PYZdq{}}\\PY{l+s+s2}{/// Buggy C}\\PY{l+s+se}{\\PYZbs{}n}\\PY{l+s+si}{\\PYZob{}}\\PY{n}{code}\\PY{l+s+si}{\\PYZcb{}}\\PY{l+s+se}{\\PYZbs{}n}\\PY{l+s+se}{\\PYZbs{}n}\\PY{l+s+s2}{\\PYZdq{}}\n",
       "        \\PY{n}{prompt} \\PY{o}{+}\\PY{o}{=} \\PY{l+s+s2}{\\PYZdq{}}\\PY{l+s+s2}{/// Fixed C}\\PY{l+s+s2}{\\PYZdq{}}\n",
       "        \\PY{k}{if} \\PY{l+s+s1}{\\PYZsq{}}\\PY{l+s+s1}{fixed}\\PY{l+s+s1}{\\PYZsq{}} \\PY{o+ow}{in} \\PY{n}{kwargs} \\PY{o+ow}{and} \\PY{n}{kwargs}\\PY{p}{[}\\PY{l+s+s1}{\\PYZsq{}}\\PY{l+s+s1}{fixed}\\PY{l+s+s1}{\\PYZsq{}}\\PY{p}{]} \\PY{o+ow}{is} \\PY{o+ow}{not} \\PY{k+kc}{None}\\PY{p}{:}\n",
       "            \\PY{n}{prompt} \\PY{o}{+}\\PY{o}{=} \\PY{l+s+sa}{f}\\PY{l+s+s2}{\\PYZdq{}}\\PY{l+s+se}{\\PYZbs{}n}\\PY{l+s+si}{\\PYZob{}}\\PY{n}{kwargs}\\PY{p}{[}\\PY{l+s+s1}{\\PYZsq{}}\\PY{l+s+s1}{fixed}\\PY{l+s+s1}{\\PYZsq{}}\\PY{p}{]}\\PY{l+s+si}{\\PYZcb{}}\\PY{l+s+se}{\\PYZbs{}n}\\PY{l+s+se}{\\PYZbs{}n}\\PY{l+s+s2}{\\PYZdq{}}\n",
       "\n",
       "        \\PY{k}{return} \\PY{n}{prompt}\n",
       "\n",
       "    \\PY{k}{def} \\PY{n+nf}{get\\PYZus{}repair\\PYZus{}from\\PYZus{}completion\\PYZus{}}\\PY{p}{(}\n",
       "            \\PY{n+nb+bp}{self}\\PY{p}{,} \\PY{n}{completion\\PYZus{}dict}\\PY{p}{:} \\PY{n}{Dict}\\PY{p}{[}\\PY{n+nb}{str}\\PY{p}{,} \\PY{n}{Any}\\PY{p}{]}\\PY{p}{)} \\PY{o}{\\PYZhy{}}\\PY{o}{\\PYZgt{}} \\PY{n}{Dict}\\PY{p}{[}\\PY{n+nb}{str}\\PY{p}{,} \\PY{n}{Any}\\PY{p}{]}\\PY{p}{:}\n",
       "        \\PY{n}{comp} \\PY{o}{=} \\PY{n}{completion\\PYZus{}dict}\\PY{p}{[}\\PY{l+s+s2}{\\PYZdq{}}\\PY{l+s+s2}{completion}\\PY{l+s+s2}{\\PYZdq{}}\\PY{p}{]}\n",
       "        \\PY{c+c1}{\\PYZsh{} remove first \\PYZbs{}n and last \\PYZbs{}n, result from our prompt style}\n",
       "        \\PY{k}{if} \\PY{n}{comp}\\PY{p}{[}\\PY{l+m+mi}{0}\\PY{p}{]} \\PY{o}{==} \\PY{l+s+s2}{\\PYZdq{}}\\PY{l+s+se}{\\PYZbs{}n}\\PY{l+s+s2}{\\PYZdq{}}\\PY{p}{:}\n",
       "            \\PY{n}{comp} \\PY{o}{=} \\PY{n}{comp}\\PY{p}{[}\\PY{l+m+mi}{1}\\PY{p}{:}\\PY{p}{]}\n",
       "        \\PY{k}{if} \\PY{n}{comp}\\PY{p}{[}\\PY{o}{\\PYZhy{}}\\PY{l+m+mi}{1}\\PY{p}{]} \\PY{o}{==} \\PY{l+s+s2}{\\PYZdq{}}\\PY{l+s+se}{\\PYZbs{}n}\\PY{l+s+s2}{\\PYZdq{}}\\PY{p}{:}\n",
       "            \\PY{n}{comp} \\PY{o}{=} \\PY{n}{comp}\\PY{p}{[}\\PY{p}{:}\\PY{o}{\\PYZhy{}}\\PY{l+m+mi}{1}\\PY{p}{]}\n",
       "        \\PY{k}{return} \\PY{p}{\\PYZob{}}\\PY{l+s+s2}{\\PYZdq{}}\\PY{l+s+s2}{repair}\\PY{l+s+s2}{\\PYZdq{}}\\PY{p}{:} \\PY{n}{comp}\\PY{p}{,} \\PY{l+s+s2}{\\PYZdq{}}\\PY{l+s+s2}{score}\\PY{l+s+s2}{\\PYZdq{}}\\PY{p}{:} \\PY{n}{completion\\PYZus{}dict}\\PY{p}{[}\\PY{l+s+s2}{\\PYZdq{}}\\PY{l+s+s2}{avg\\PYZus{}logprob}\\PY{l+s+s2}{\\PYZdq{}}\\PY{p}{]}\\PY{p}{\\PYZcb{}}\n",
       "\n",
       "    \\PY{k}{def} \\PY{n+nf}{deduplicate\\PYZus{}repairs\\PYZus{}}\\PY{p}{(}\n",
       "            \\PY{n+nb+bp}{self}\\PY{p}{,} \\PY{n}{repair\\PYZus{}dicts}\\PY{p}{:} \\PY{n}{List}\\PY{p}{[}\\PY{n}{Dict}\\PY{p}{[}\\PY{n+nb}{str}\\PY{p}{,} \\PY{n}{Any}\\PY{p}{]}\\PY{p}{]}\\PY{p}{)} \\PY{o}{\\PYZhy{}}\\PY{o}{\\PYZgt{}} \\PY{n}{List}\\PY{p}{[}\\PY{n}{Dict}\\PY{p}{[}\\PY{n+nb}{str}\\PY{p}{,} \\PY{n}{Any}\\PY{p}{]}\\PY{p}{]}\\PY{p}{:}\n",
       "        \\PY{n}{unique\\PYZus{}repair\\PYZus{}dicts} \\PY{o}{=} \\PY{p}{[}\\PY{p}{]}\n",
       "        \\PY{n}{already\\PYZus{}included} \\PY{o}{=} \\PY{n+nb}{set}\\PY{p}{(}\\PY{p}{)}\n",
       "        \\PY{k}{for} \\PY{n}{rd} \\PY{o+ow}{in} \\PY{n}{repair\\PYZus{}dicts}\\PY{p}{:}\n",
       "            \\PY{n}{repair\\PYZus{}str} \\PY{o}{=} \\PY{n}{rd}\\PY{p}{[}\\PY{l+s+s2}{\\PYZdq{}}\\PY{l+s+s2}{repair}\\PY{l+s+s2}{\\PYZdq{}}\\PY{p}{]}\n",
       "            \\PY{k}{if} \\PY{n}{repair\\PYZus{}str} \\PY{o+ow}{not} \\PY{o+ow}{in} \\PY{n}{already\\PYZus{}included}\\PY{p}{:}\n",
       "                \\PY{n}{unique\\PYZus{}repair\\PYZus{}dicts}\\PY{o}{.}\\PY{n}{append}\\PY{p}{(}\\PY{n}{rd}\\PY{p}{)}\n",
       "                \\PY{n}{already\\PYZus{}included}\\PY{o}{.}\\PY{n}{add}\\PY{p}{(}\\PY{n}{repair\\PYZus{}str}\\PY{p}{)}\n",
       "        \\PY{k}{return} \\PY{n}{unique\\PYZus{}repair\\PYZus{}dicts}\n",
       "\n",
       "    \\PY{k}{def} \\PY{n+nf}{repair}\\PY{p}{(}\\PY{n+nb+bp}{self}\\PY{p}{,} \\PY{n}{code}\\PY{p}{:} \\PY{n+nb}{str}\\PY{p}{,} \\PY{o}{*}\\PY{o}{*}\\PY{n}{kwargs}\\PY{p}{)}\\PY{p}{:}\n",
       "        \\PY{c+c1}{\\PYZsh{} FIXME: warn if number of tokens too few for length of code}\n",
       "        \\PY{c+c1}{\\PYZsh{} or set to num tokens + K}\n",
       "        \\PY{c+c1}{\\PYZsh{} Use: https://github.com/openai/tiktoken , which is fast openai tokenizer}\n",
       "        \\PY{c+c1}{\\PYZsh{} to estimate tokens for code and pass in as maxtokens=\\PYZlt{}val\\PYZgt{}}\n",
       "        \\PY{n}{prompt} \\PY{o}{=} \\PY{n+nb+bp}{self}\\PY{o}{.}\\PY{n}{get\\PYZus{}prompt}\\PY{p}{(}\\PY{n}{code}\\PY{p}{,} \\PY{o}{*}\\PY{o}{*}\\PY{n}{kwargs}\\PY{p}{)}\n",
       "        \\PY{n}{completion\\PYZus{}dicts} \\PY{o}{=} \\PY{n+nb+bp}{self}\\PY{o}{.}\\PY{n}{codex}\\PY{o}{.}\\PY{n}{complete}\\PY{p}{(}\\PY{n}{prompt}\\PY{p}{,} \\PY{o}{*}\\PY{o}{*}\\PY{n}{kwargs}\\PY{p}{)}\n",
       "        \\PY{k}{if} \\PY{n}{completion\\PYZus{}dicts} \\PY{o+ow}{is} \\PY{k+kc}{None}\\PY{p}{:}\n",
       "            \\PY{k}{return} \\PY{p}{[}\\PY{p}{]}\n",
       "\n",
       "        \\PY{n}{repair\\PYZus{}dicts} \\PY{o}{=} \\PY{p}{[}\n",
       "            \\PY{n+nb+bp}{self}\\PY{o}{.}\\PY{n}{get\\PYZus{}repair\\PYZus{}from\\PYZus{}completion\\PYZus{}}\\PY{p}{(}\\PY{n}{c}\\PY{p}{)} \\PY{k}{for} \\PY{n}{c} \\PY{o+ow}{in} \\PY{n}{completion\\PYZus{}dicts}\n",
       "        \\PY{p}{]}\n",
       "        \\PY{n}{repair\\PYZus{}dicts} \\PY{o}{=} \\PY{n+nb+bp}{self}\\PY{o}{.}\\PY{n}{deduplicate\\PYZus{}repairs\\PYZus{}}\\PY{p}{(}\\PY{n}{repair\\PYZus{}dicts}\\PY{p}{)}\n",
       "        \\PY{k}{return} \\PY{n}{repair\\PYZus{}dicts}\n",
       "\\end{Verbatim}\n"
      ],
      "text/plain": [
       "class CodexBaseRepair(CodexRepair):\n",
       "    \"\"\"\n",
       "    Based on https://beta.openai.com/examples/default-fix-python-bugs\n",
       "    \"\"\"\n",
       "\n",
       "    def __init__(self, *args, **kwargs):\n",
       "        self.codex = CodexEngine(*args, **kwargs)\n",
       "\n",
       "    def get_prompt(self, code: str, **kwargs) -> str:\n",
       "        # Based on https://beta.openai.com/examples/default-fix-python-bugs\n",
       "        prompt = \"\"\"//// Fix bugs in the below code\\n\"\"\"\n",
       "        prompt += f\"/// Buggy C\\n{code}\\n\\n\"\n",
       "        prompt += \"/// Fixed C\"\n",
       "        if 'fixed' in kwargs and kwargs['fixed'] is not None:\n",
       "            prompt += f\"\\n{kwargs['fixed']}\\n\\n\"\n",
       "\n",
       "        return prompt\n",
       "\n",
       "    def get_repair_from_completion_(\n",
       "            self, completion_dict: Dict[str, Any]) -> Dict[str, Any]:\n",
       "        comp = completion_dict[\"completion\"]\n",
       "        # remove first \\n and last \\n, result from our prompt style\n",
       "        if comp[0] == \"\\n\":\n",
       "            comp = comp[1:]\n",
       "        if comp[-1] == \"\\n\":\n",
       "            comp = comp[:-1]\n",
       "        return {\"repair\": comp, \"score\": completion_dict[\"avg_logprob\"]}\n",
       "\n",
       "    def deduplicate_repairs_(\n",
       "            self, repair_dicts: List[Dict[str, Any]]) -> List[Dict[str, Any]]:\n",
       "        unique_repair_dicts = []\n",
       "        already_included = set()\n",
       "        for rd in repair_dicts:\n",
       "            repair_str = rd[\"repair\"]\n",
       "            if repair_str not in already_included:\n",
       "                unique_repair_dicts.append(rd)\n",
       "                already_included.add(repair_str)\n",
       "        return unique_repair_dicts\n",
       "\n",
       "    def repair(self, code: str, **kwargs):\n",
       "        # FIXME: warn if number of tokens too few for length of code\n",
       "        # or set to num tokens + K\n",
       "        # Use: https://github.com/openai/tiktoken , which is fast openai tokenizer\n",
       "        # to estimate tokens for code and pass in as maxtokens=<val>\n",
       "        prompt = self.get_prompt(code, **kwargs)\n",
       "        completion_dicts = self.codex.complete(prompt, **kwargs)\n",
       "        if completion_dicts is None:\n",
       "            return []\n",
       "\n",
       "        repair_dicts = [\n",
       "            self.get_repair_from_completion_(c) for c in completion_dicts\n",
       "        ]\n",
       "        repair_dicts = self.deduplicate_repairs_(repair_dicts)\n",
       "        return repair_dicts"
      ]
     },
     "execution_count": 7,
     "metadata": {},
     "output_type": "execute_result"
    }
   ],
   "source": [
    "show_code(codex.CodexBaseRepair)"
   ]
  },
  {
   "cell_type": "code",
   "execution_count": 8,
   "metadata": {},
   "outputs": [],
   "source": [
    "OPENAI_API_KEY = os.getenv(\"OPENAI_API_KEY\")\n",
    "codex_base = codex.CodexBaseRepair(OPENAI_API_KEY)"
   ]
  },
  {
   "attachments": {},
   "cell_type": "markdown",
   "metadata": {},
   "source": [
    "We'll run a single query for a task in our benchmark and request a single completion."
   ]
  },
  {
   "cell_type": "code",
   "execution_count": 12,
   "metadata": {},
   "outputs": [],
   "source": [
    "codex_base_pred = codex_base.repair(test[1].source, n=1)[0]['repair']"
   ]
  },
  {
   "attachments": {},
   "cell_type": "markdown",
   "metadata": {},
   "source": [
    "This task had multiple issues: the user incorrectly wrote an addition expression in the function parameter list, they forgot to declare the loop variable `i`, and they missed a comma in a `printf`\n",
    "call between the format string and the following argument. In fact, note that there is actually also a mistake at the second `scanf` call where the user also forgot a `,`, but the compiler doesn't report this mistake."
   ]
  },
  {
   "cell_type": "code",
   "execution_count": 13,
   "metadata": {},
   "outputs": [
    {
     "name": "stdout",
     "output_type": "stream",
     "text": [
      "#include <stdio.h>\n",
      "#include <stdlib.h>\n",
      "int catalan(int (n+1))\n",
      "{\n",
      "  if(n+1==0) return 1;\n",
      "  else return 2*(2*n+1)/n+2*catalan(n)\n",
      "}\n",
      "int main()\n",
      "{\n",
      "\tint t;\n",
      "\tint k[100];\n",
      "\tscanf(\"%d\\n\",&t);\n",
      "\tfor(i=0;i<t;i++)\n",
      "\t{\n",
      "\t    scanf(\"%d\\n\"&k[i]);   \n",
      "\t}\n",
      "\t\tfor(i=0;i<t;i++)\n",
      "\t{\n",
      "\t    printf(\"%d\\n\"catalan(k[i]));   \n",
      "\t}\n",
      "\treturn 0;\n",
      "}\n",
      "3:19: error: expected ‘)’ before ‘+’ token\n",
      " int catalan(int (n+1))\n",
      "                   ^\n",
      "In function ‘main’:\n",
      "13:6: error: ‘i’ undeclared (first use in this function)\n",
      "  for(i=0;i<t;i++)\n",
      "      ^\n",
      "13:6: note: each undeclared identifier is reported only once for each function it appears in\n",
      "19:19: error: expected ‘)’ before ‘catalan’\n",
      "      printf(\"%d\\n\"catalan(k[i]));   \n",
      "                   ^\n"
     ]
    }
   ],
   "source": [
    "print(test[1].source)\n",
    "print(test[1].error)"
   ]
  },
  {
   "attachments": {},
   "cell_type": "markdown",
   "metadata": {},
   "source": [
    "We can see that the repair Codex suggests in fact solves these three issues."
   ]
  },
  {
   "cell_type": "code",
   "execution_count": 14,
   "metadata": {},
   "outputs": [
    {
     "name": "stdout",
     "output_type": "stream",
     "text": [
      "#include <stdio.h>\n",
      "#include <stdlib.h>\n",
      "int catalan(int n)\n",
      "{\n",
      "  if(n==0) return 1;\n",
      "  else return 2*(2*n+1)*catalan(n-1)/(n+2);\n",
      "}\n",
      "int main()\n",
      "{\n",
      "\tint t;\n",
      "\tint k[100];\n",
      "\tscanf(\"%d\\n\",&t);\n",
      "\tfor(int i=0;i<t;i++)\n",
      "\t{\n",
      "\t    scanf(\"%d\\n\",&k[i]);   \n",
      "\t}\n",
      "\t\tfor(int i=0;i<t;i++)\n",
      "\t{\n",
      "\t    printf(\"%d\\n\",catalan(k[i]));   \n",
      "\t}\n",
      "\treturn 0;\n",
      "}\n",
      "\n"
     ]
    }
   ],
   "source": [
    "print(codex_base_pred)"
   ]
  },
  {
   "cell_type": "code",
   "execution_count": 15,
   "metadata": {},
   "outputs": [
    {
     "data": {
      "text/plain": [
       "True"
      ]
     },
     "execution_count": 15,
     "metadata": {},
     "output_type": "execute_result"
    }
   ],
   "source": [
    "utils.gcc_compile(codex_base_pred).ok"
   ]
  },
  {
   "attachments": {},
   "cell_type": "markdown",
   "metadata": {},
   "source": [
    "But if we look at the edit distance for this example, we'll see that it is much larger:"
   ]
  },
  {
   "cell_type": "code",
   "execution_count": 16,
   "metadata": {},
   "outputs": [
    {
     "data": {
      "text/plain": [
       "20.0"
      ]
     },
     "execution_count": 16,
     "metadata": {},
     "output_type": "execute_result"
    }
   ],
   "source": [
    "utils.token_edit_distance(test[1].source, codex_base_pred)"
   ]
  },
  {
   "attachments": {},
   "cell_type": "markdown",
   "metadata": {},
   "source": [
    "Inspecting the `diff` we'll see that Codex actually made multiple additional changes -- particularly it changed the whole definition of the `catalan` function. The new definition fixes multiple mistakes (the base case)\n",
    "as well as incorrect order of operations in the recursive case. This behavior, where Codex (and really any language model) makes more changes than desired (for our use case of just compiler error fixes), is just another example of the tradeoff in using neural approaches (no guarantees on generation)."
   ]
  },
  {
   "cell_type": "code",
   "execution_count": 17,
   "metadata": {},
   "outputs": [
    {
     "name": "stdout",
     "output_type": "stream",
     "text": [
      "@@ -1,22 +1,22 @@\n",
      " #include <stdio.h>\n",
      " #include <stdlib.h>\n",
      "-int catalan(int (n+1))\n",
      "+int catalan(int n)\n",
      " {\n",
      "-  if(n+1==0) return 1;\n",
      "-  else return 2*(2*n+1)/n+2*catalan(n)\n",
      "+  if(n==0) return 1;\n",
      "+  else return 2*(2*n+1)*catalan(n-1)/(n+2);\n",
      " }\n",
      " int main()\n",
      " {\n",
      " \tint t;\n",
      " \tint k[100];\n",
      " \tscanf(\"%d\\n\",&t);\n",
      "-\tfor(i=0;i<t;i++)\n",
      "+\tfor(int i=0;i<t;i++)\n",
      " \t{\n",
      "-\t    scanf(\"%d\\n\"&k[i]);   \n",
      "+\t    scanf(\"%d\\n\",&k[i]);   \n",
      " \t}\n",
      "-\t\tfor(i=0;i<t;i++)\n",
      "+\t\tfor(int i=0;i<t;i++)\n",
      " \t{\n",
      "-\t    printf(\"%d\\n\"catalan(k[i]));   \n",
      "+\t    printf(\"%d\\n\",catalan(k[i]));   \n",
      " \t}\n",
      " \treturn 0;\n",
      "-}\n",
      "\\ No newline at end of file\n",
      "+}\n",
      "\n"
     ]
    }
   ],
   "source": [
    "print(utils.diff(test[1].source, codex_base_pred))"
   ]
  },
  {
   "attachments": {},
   "cell_type": "markdown",
   "metadata": {},
   "source": [
    "* **Extension Task**: Consider modifying the implementation of `codex.CodexBaseRepair` to only feed in the lines that have a compiler-reported error, and do so incrementally."
   ]
  },
  {
   "attachments": {},
   "cell_type": "markdown",
   "metadata": {},
   "source": [
    "### Add error message to improve error localization\n",
    "\n",
    "For more complex mistakes, it may help to actually include error localization explicitly in the prompt provided to Codex."
   ]
  },
  {
   "cell_type": "code",
   "execution_count": 18,
   "metadata": {},
   "outputs": [
    {
     "data": {
      "text/html": [
       "<style>pre { line-height: 125%; }\n",
       "td.linenos .normal { color: inherit; background-color: transparent; padding-left: 5px; padding-right: 5px; }\n",
       "span.linenos { color: inherit; background-color: transparent; padding-left: 5px; padding-right: 5px; }\n",
       "td.linenos .special { color: #000000; background-color: #ffffc0; padding-left: 5px; padding-right: 5px; }\n",
       "span.linenos.special { color: #000000; background-color: #ffffc0; padding-left: 5px; padding-right: 5px; }\n",
       ".output_html .hll { background-color: #ffffcc }\n",
       ".output_html { background: #f8f8f8; }\n",
       ".output_html .c { color: #3D7B7B; font-style: italic } /* Comment */\n",
       ".output_html .err { border: 1px solid #FF0000 } /* Error */\n",
       ".output_html .k { color: #008000; font-weight: bold } /* Keyword */\n",
       ".output_html .o { color: #666666 } /* Operator */\n",
       ".output_html .ch { color: #3D7B7B; font-style: italic } /* Comment.Hashbang */\n",
       ".output_html .cm { color: #3D7B7B; font-style: italic } /* Comment.Multiline */\n",
       ".output_html .cp { color: #9C6500 } /* Comment.Preproc */\n",
       ".output_html .cpf { color: #3D7B7B; font-style: italic } /* Comment.PreprocFile */\n",
       ".output_html .c1 { color: #3D7B7B; font-style: italic } /* Comment.Single */\n",
       ".output_html .cs { color: #3D7B7B; font-style: italic } /* Comment.Special */\n",
       ".output_html .gd { color: #A00000 } /* Generic.Deleted */\n",
       ".output_html .ge { font-style: italic } /* Generic.Emph */\n",
       ".output_html .gr { color: #E40000 } /* Generic.Error */\n",
       ".output_html .gh { color: #000080; font-weight: bold } /* Generic.Heading */\n",
       ".output_html .gi { color: #008400 } /* Generic.Inserted */\n",
       ".output_html .go { color: #717171 } /* Generic.Output */\n",
       ".output_html .gp { color: #000080; font-weight: bold } /* Generic.Prompt */\n",
       ".output_html .gs { font-weight: bold } /* Generic.Strong */\n",
       ".output_html .gu { color: #800080; font-weight: bold } /* Generic.Subheading */\n",
       ".output_html .gt { color: #0044DD } /* Generic.Traceback */\n",
       ".output_html .kc { color: #008000; font-weight: bold } /* Keyword.Constant */\n",
       ".output_html .kd { color: #008000; font-weight: bold } /* Keyword.Declaration */\n",
       ".output_html .kn { color: #008000; font-weight: bold } /* Keyword.Namespace */\n",
       ".output_html .kp { color: #008000 } /* Keyword.Pseudo */\n",
       ".output_html .kr { color: #008000; font-weight: bold } /* Keyword.Reserved */\n",
       ".output_html .kt { color: #B00040 } /* Keyword.Type */\n",
       ".output_html .m { color: #666666 } /* Literal.Number */\n",
       ".output_html .s { color: #BA2121 } /* Literal.String */\n",
       ".output_html .na { color: #687822 } /* Name.Attribute */\n",
       ".output_html .nb { color: #008000 } /* Name.Builtin */\n",
       ".output_html .nc { color: #0000FF; font-weight: bold } /* Name.Class */\n",
       ".output_html .no { color: #880000 } /* Name.Constant */\n",
       ".output_html .nd { color: #AA22FF } /* Name.Decorator */\n",
       ".output_html .ni { color: #717171; font-weight: bold } /* Name.Entity */\n",
       ".output_html .ne { color: #CB3F38; font-weight: bold } /* Name.Exception */\n",
       ".output_html .nf { color: #0000FF } /* Name.Function */\n",
       ".output_html .nl { color: #767600 } /* Name.Label */\n",
       ".output_html .nn { color: #0000FF; font-weight: bold } /* Name.Namespace */\n",
       ".output_html .nt { color: #008000; font-weight: bold } /* Name.Tag */\n",
       ".output_html .nv { color: #19177C } /* Name.Variable */\n",
       ".output_html .ow { color: #AA22FF; font-weight: bold } /* Operator.Word */\n",
       ".output_html .w { color: #bbbbbb } /* Text.Whitespace */\n",
       ".output_html .mb { color: #666666 } /* Literal.Number.Bin */\n",
       ".output_html .mf { color: #666666 } /* Literal.Number.Float */\n",
       ".output_html .mh { color: #666666 } /* Literal.Number.Hex */\n",
       ".output_html .mi { color: #666666 } /* Literal.Number.Integer */\n",
       ".output_html .mo { color: #666666 } /* Literal.Number.Oct */\n",
       ".output_html .sa { color: #BA2121 } /* Literal.String.Affix */\n",
       ".output_html .sb { color: #BA2121 } /* Literal.String.Backtick */\n",
       ".output_html .sc { color: #BA2121 } /* Literal.String.Char */\n",
       ".output_html .dl { color: #BA2121 } /* Literal.String.Delimiter */\n",
       ".output_html .sd { color: #BA2121; font-style: italic } /* Literal.String.Doc */\n",
       ".output_html .s2 { color: #BA2121 } /* Literal.String.Double */\n",
       ".output_html .se { color: #AA5D1F; font-weight: bold } /* Literal.String.Escape */\n",
       ".output_html .sh { color: #BA2121 } /* Literal.String.Heredoc */\n",
       ".output_html .si { color: #A45A77; font-weight: bold } /* Literal.String.Interpol */\n",
       ".output_html .sx { color: #008000 } /* Literal.String.Other */\n",
       ".output_html .sr { color: #A45A77 } /* Literal.String.Regex */\n",
       ".output_html .s1 { color: #BA2121 } /* Literal.String.Single */\n",
       ".output_html .ss { color: #19177C } /* Literal.String.Symbol */\n",
       ".output_html .bp { color: #008000 } /* Name.Builtin.Pseudo */\n",
       ".output_html .fm { color: #0000FF } /* Name.Function.Magic */\n",
       ".output_html .vc { color: #19177C } /* Name.Variable.Class */\n",
       ".output_html .vg { color: #19177C } /* Name.Variable.Global */\n",
       ".output_html .vi { color: #19177C } /* Name.Variable.Instance */\n",
       ".output_html .vm { color: #19177C } /* Name.Variable.Magic */\n",
       ".output_html .il { color: #666666 } /* Literal.Number.Integer.Long */</style><div class=\"highlight\"><pre><span></span><span class=\"k\">class</span> <span class=\"nc\">CodexWithErrorInfo</span><span class=\"p\">(</span><span class=\"n\">CodexBaseRepair</span><span class=\"p\">):</span>\n",
       "\n",
       "    <span class=\"k\">def</span> <span class=\"fm\">__init__</span><span class=\"p\">(</span><span class=\"bp\">self</span><span class=\"p\">,</span> <span class=\"o\">*</span><span class=\"n\">args</span><span class=\"p\">,</span> <span class=\"o\">**</span><span class=\"n\">kwargs</span><span class=\"p\">):</span>\n",
       "        <span class=\"nb\">super</span><span class=\"p\">()</span><span class=\"o\">.</span><span class=\"fm\">__init__</span><span class=\"p\">(</span><span class=\"o\">*</span><span class=\"n\">args</span><span class=\"p\">,</span> <span class=\"o\">**</span><span class=\"n\">kwargs</span><span class=\"p\">)</span>\n",
       "        <span class=\"bp\">self</span><span class=\"o\">.</span><span class=\"n\">error_cache</span> <span class=\"o\">=</span> <span class=\"p\">{}</span>\n",
       "\n",
       "    <span class=\"k\">def</span> <span class=\"nf\">_get_error_info</span><span class=\"p\">(</span><span class=\"bp\">self</span><span class=\"p\">,</span> <span class=\"n\">code</span><span class=\"p\">:</span> <span class=\"nb\">str</span><span class=\"p\">)</span> <span class=\"o\">-&gt;</span> <span class=\"nb\">str</span><span class=\"p\">:</span>\n",
       "        <span class=\"k\">if</span> <span class=\"n\">code</span> <span class=\"ow\">not</span> <span class=\"ow\">in</span> <span class=\"bp\">self</span><span class=\"o\">.</span><span class=\"n\">error_cache</span><span class=\"p\">:</span>\n",
       "            <span class=\"bp\">self</span><span class=\"o\">.</span><span class=\"n\">error_cache</span><span class=\"p\">[</span><span class=\"n\">code</span><span class=\"p\">]</span> <span class=\"o\">=</span> <span class=\"n\">gcc_compile</span><span class=\"p\">(</span><span class=\"n\">code</span><span class=\"p\">)</span><span class=\"o\">.</span><span class=\"n\">error</span>\n",
       "        <span class=\"k\">return</span> <span class=\"bp\">self</span><span class=\"o\">.</span><span class=\"n\">error_cache</span><span class=\"p\">[</span><span class=\"n\">code</span><span class=\"p\">]</span>\n",
       "\n",
       "    <span class=\"k\">def</span> <span class=\"nf\">get_prompt</span><span class=\"p\">(</span><span class=\"bp\">self</span><span class=\"p\">,</span> <span class=\"n\">code</span><span class=\"p\">:</span> <span class=\"nb\">str</span><span class=\"p\">,</span> <span class=\"o\">**</span><span class=\"n\">kwargs</span><span class=\"p\">):</span>\n",
       "        <span class=\"n\">prompt</span> <span class=\"o\">=</span> <span class=\"s2\">&quot;&quot;&quot;//// Fix bugs in the below code</span><span class=\"se\">\\n</span><span class=\"s2\">&quot;&quot;&quot;</span>\n",
       "        <span class=\"n\">prompt</span> <span class=\"o\">+=</span> <span class=\"sa\">f</span><span class=\"s2\">&quot;/// Buggy C</span><span class=\"se\">\\n</span><span class=\"si\">{</span><span class=\"n\">code</span><span class=\"si\">}</span><span class=\"se\">\\n\\n</span><span class=\"s2\">&quot;</span>\n",
       "        <span class=\"n\">error_msg</span> <span class=\"o\">=</span> <span class=\"bp\">self</span><span class=\"o\">.</span><span class=\"n\">_get_error_info</span><span class=\"p\">(</span><span class=\"n\">code</span><span class=\"p\">)</span>\n",
       "        <span class=\"n\">prompt</span> <span class=\"o\">+=</span> <span class=\"sa\">f</span><span class=\"s2\">&quot;/// Error Message</span><span class=\"se\">\\n</span><span class=\"si\">{</span><span class=\"n\">error_msg</span><span class=\"si\">}</span><span class=\"se\">\\n\\n</span><span class=\"s2\">&quot;</span>\n",
       "        <span class=\"n\">prompt</span> <span class=\"o\">+=</span> <span class=\"s2\">&quot;/// Fixed C&quot;</span>\n",
       "        <span class=\"k\">if</span> <span class=\"s1\">&#39;fixed&#39;</span> <span class=\"ow\">in</span> <span class=\"n\">kwargs</span> <span class=\"ow\">and</span> <span class=\"n\">kwargs</span><span class=\"p\">[</span><span class=\"s1\">&#39;fixed&#39;</span><span class=\"p\">]</span> <span class=\"ow\">is</span> <span class=\"ow\">not</span> <span class=\"kc\">None</span><span class=\"p\">:</span>\n",
       "            <span class=\"n\">prompt</span> <span class=\"o\">+=</span> <span class=\"sa\">f</span><span class=\"s2\">&quot;</span><span class=\"se\">\\n</span><span class=\"si\">{</span><span class=\"n\">kwargs</span><span class=\"p\">[</span><span class=\"s1\">&#39;fixed&#39;</span><span class=\"p\">]</span><span class=\"si\">}</span><span class=\"se\">\\n\\n</span><span class=\"s2\">&quot;</span>\n",
       "\n",
       "        <span class=\"k\">return</span> <span class=\"n\">prompt</span>\n",
       "</pre></div>\n"
      ],
      "text/latex": [
       "\\begin{Verbatim}[commandchars=\\\\\\{\\}]\n",
       "\\PY{k}{class} \\PY{n+nc}{CodexWithErrorInfo}\\PY{p}{(}\\PY{n}{CodexBaseRepair}\\PY{p}{)}\\PY{p}{:}\n",
       "\n",
       "    \\PY{k}{def} \\PY{n+nf+fm}{\\PYZus{}\\PYZus{}init\\PYZus{}\\PYZus{}}\\PY{p}{(}\\PY{n+nb+bp}{self}\\PY{p}{,} \\PY{o}{*}\\PY{n}{args}\\PY{p}{,} \\PY{o}{*}\\PY{o}{*}\\PY{n}{kwargs}\\PY{p}{)}\\PY{p}{:}\n",
       "        \\PY{n+nb}{super}\\PY{p}{(}\\PY{p}{)}\\PY{o}{.}\\PY{n+nf+fm}{\\PYZus{}\\PYZus{}init\\PYZus{}\\PYZus{}}\\PY{p}{(}\\PY{o}{*}\\PY{n}{args}\\PY{p}{,} \\PY{o}{*}\\PY{o}{*}\\PY{n}{kwargs}\\PY{p}{)}\n",
       "        \\PY{n+nb+bp}{self}\\PY{o}{.}\\PY{n}{error\\PYZus{}cache} \\PY{o}{=} \\PY{p}{\\PYZob{}}\\PY{p}{\\PYZcb{}}\n",
       "\n",
       "    \\PY{k}{def} \\PY{n+nf}{\\PYZus{}get\\PYZus{}error\\PYZus{}info}\\PY{p}{(}\\PY{n+nb+bp}{self}\\PY{p}{,} \\PY{n}{code}\\PY{p}{:} \\PY{n+nb}{str}\\PY{p}{)} \\PY{o}{\\PYZhy{}}\\PY{o}{\\PYZgt{}} \\PY{n+nb}{str}\\PY{p}{:}\n",
       "        \\PY{k}{if} \\PY{n}{code} \\PY{o+ow}{not} \\PY{o+ow}{in} \\PY{n+nb+bp}{self}\\PY{o}{.}\\PY{n}{error\\PYZus{}cache}\\PY{p}{:}\n",
       "            \\PY{n+nb+bp}{self}\\PY{o}{.}\\PY{n}{error\\PYZus{}cache}\\PY{p}{[}\\PY{n}{code}\\PY{p}{]} \\PY{o}{=} \\PY{n}{gcc\\PYZus{}compile}\\PY{p}{(}\\PY{n}{code}\\PY{p}{)}\\PY{o}{.}\\PY{n}{error}\n",
       "        \\PY{k}{return} \\PY{n+nb+bp}{self}\\PY{o}{.}\\PY{n}{error\\PYZus{}cache}\\PY{p}{[}\\PY{n}{code}\\PY{p}{]}\n",
       "\n",
       "    \\PY{k}{def} \\PY{n+nf}{get\\PYZus{}prompt}\\PY{p}{(}\\PY{n+nb+bp}{self}\\PY{p}{,} \\PY{n}{code}\\PY{p}{:} \\PY{n+nb}{str}\\PY{p}{,} \\PY{o}{*}\\PY{o}{*}\\PY{n}{kwargs}\\PY{p}{)}\\PY{p}{:}\n",
       "        \\PY{n}{prompt} \\PY{o}{=} \\PY{l+s+s2}{\\PYZdq{}\\PYZdq{}\\PYZdq{}}\\PY{l+s+s2}{//// Fix bugs in the below code}\\PY{l+s+se}{\\PYZbs{}n}\\PY{l+s+s2}{\\PYZdq{}\\PYZdq{}\\PYZdq{}}\n",
       "        \\PY{n}{prompt} \\PY{o}{+}\\PY{o}{=} \\PY{l+s+sa}{f}\\PY{l+s+s2}{\\PYZdq{}}\\PY{l+s+s2}{/// Buggy C}\\PY{l+s+se}{\\PYZbs{}n}\\PY{l+s+si}{\\PYZob{}}\\PY{n}{code}\\PY{l+s+si}{\\PYZcb{}}\\PY{l+s+se}{\\PYZbs{}n}\\PY{l+s+se}{\\PYZbs{}n}\\PY{l+s+s2}{\\PYZdq{}}\n",
       "        \\PY{n}{error\\PYZus{}msg} \\PY{o}{=} \\PY{n+nb+bp}{self}\\PY{o}{.}\\PY{n}{\\PYZus{}get\\PYZus{}error\\PYZus{}info}\\PY{p}{(}\\PY{n}{code}\\PY{p}{)}\n",
       "        \\PY{n}{prompt} \\PY{o}{+}\\PY{o}{=} \\PY{l+s+sa}{f}\\PY{l+s+s2}{\\PYZdq{}}\\PY{l+s+s2}{/// Error Message}\\PY{l+s+se}{\\PYZbs{}n}\\PY{l+s+si}{\\PYZob{}}\\PY{n}{error\\PYZus{}msg}\\PY{l+s+si}{\\PYZcb{}}\\PY{l+s+se}{\\PYZbs{}n}\\PY{l+s+se}{\\PYZbs{}n}\\PY{l+s+s2}{\\PYZdq{}}\n",
       "        \\PY{n}{prompt} \\PY{o}{+}\\PY{o}{=} \\PY{l+s+s2}{\\PYZdq{}}\\PY{l+s+s2}{/// Fixed C}\\PY{l+s+s2}{\\PYZdq{}}\n",
       "        \\PY{k}{if} \\PY{l+s+s1}{\\PYZsq{}}\\PY{l+s+s1}{fixed}\\PY{l+s+s1}{\\PYZsq{}} \\PY{o+ow}{in} \\PY{n}{kwargs} \\PY{o+ow}{and} \\PY{n}{kwargs}\\PY{p}{[}\\PY{l+s+s1}{\\PYZsq{}}\\PY{l+s+s1}{fixed}\\PY{l+s+s1}{\\PYZsq{}}\\PY{p}{]} \\PY{o+ow}{is} \\PY{o+ow}{not} \\PY{k+kc}{None}\\PY{p}{:}\n",
       "            \\PY{n}{prompt} \\PY{o}{+}\\PY{o}{=} \\PY{l+s+sa}{f}\\PY{l+s+s2}{\\PYZdq{}}\\PY{l+s+se}{\\PYZbs{}n}\\PY{l+s+si}{\\PYZob{}}\\PY{n}{kwargs}\\PY{p}{[}\\PY{l+s+s1}{\\PYZsq{}}\\PY{l+s+s1}{fixed}\\PY{l+s+s1}{\\PYZsq{}}\\PY{p}{]}\\PY{l+s+si}{\\PYZcb{}}\\PY{l+s+se}{\\PYZbs{}n}\\PY{l+s+se}{\\PYZbs{}n}\\PY{l+s+s2}{\\PYZdq{}}\n",
       "\n",
       "        \\PY{k}{return} \\PY{n}{prompt}\n",
       "\\end{Verbatim}\n"
      ],
      "text/plain": [
       "class CodexWithErrorInfo(CodexBaseRepair):\n",
       "\n",
       "    def __init__(self, *args, **kwargs):\n",
       "        super().__init__(*args, **kwargs)\n",
       "        self.error_cache = {}\n",
       "\n",
       "    def _get_error_info(self, code: str) -> str:\n",
       "        if code not in self.error_cache:\n",
       "            self.error_cache[code] = gcc_compile(code).error\n",
       "        return self.error_cache[code]\n",
       "\n",
       "    def get_prompt(self, code: str, **kwargs):\n",
       "        prompt = \"\"\"//// Fix bugs in the below code\\n\"\"\"\n",
       "        prompt += f\"/// Buggy C\\n{code}\\n\\n\"\n",
       "        error_msg = self._get_error_info(code)\n",
       "        prompt += f\"/// Error Message\\n{error_msg}\\n\\n\"\n",
       "        prompt += \"/// Fixed C\"\n",
       "        if 'fixed' in kwargs and kwargs['fixed'] is not None:\n",
       "            prompt += f\"\\n{kwargs['fixed']}\\n\\n\"\n",
       "\n",
       "        return prompt"
      ]
     },
     "execution_count": 18,
     "metadata": {},
     "output_type": "execute_result"
    }
   ],
   "source": [
    "show_code(codex.CodexWithErrorInfo)"
   ]
  },
  {
   "attachments": {},
   "cell_type": "markdown",
   "metadata": {},
   "source": [
    "In this case, we take the error information directly from `gcc`'s error message but you could replace this other approaches to error localization. To read more on this topic see [here](https://www.debuggingbook.org/) for a great guide."
   ]
  },
  {
   "attachments": {},
   "cell_type": "markdown",
   "metadata": {},
   "source": [
    "### Adding examples of related repairs\n",
    "When using a model like Codex, it is common to provide few-shots (examples) of the task to improve performance, as the model was not trained explicitly for our use case. Three simple ways to add few-shots are:\n",
    "\n",
    "* Fixed: manually curate some common errors and their fixes (particularly useful for less-common languages with a recurring mistakes -- e.g. Excel formulas)\n",
    "* Random: randomly sample from an example bank (in our case, that can be our training data -- the same point regarding synthetic/telemetry data applies as before)\n",
    "* Smart: automatically select examples from a bank that have *some* relationship to your current program. We'll explore this point in a bit more detail."
   ]
  },
  {
   "attachments": {},
   "cell_type": "markdown",
   "metadata": {},
   "source": [
    "The `CodexWithFewShots` class implements a few-shot prompt by taking examples provided by a `FewShotSelector`."
   ]
  },
  {
   "cell_type": "code",
   "execution_count": 19,
   "metadata": {},
   "outputs": [
    {
     "data": {
      "text/html": [
       "<style>pre { line-height: 125%; }\n",
       "td.linenos .normal { color: inherit; background-color: transparent; padding-left: 5px; padding-right: 5px; }\n",
       "span.linenos { color: inherit; background-color: transparent; padding-left: 5px; padding-right: 5px; }\n",
       "td.linenos .special { color: #000000; background-color: #ffffc0; padding-left: 5px; padding-right: 5px; }\n",
       "span.linenos.special { color: #000000; background-color: #ffffc0; padding-left: 5px; padding-right: 5px; }\n",
       ".output_html .hll { background-color: #ffffcc }\n",
       ".output_html { background: #f8f8f8; }\n",
       ".output_html .c { color: #3D7B7B; font-style: italic } /* Comment */\n",
       ".output_html .err { border: 1px solid #FF0000 } /* Error */\n",
       ".output_html .k { color: #008000; font-weight: bold } /* Keyword */\n",
       ".output_html .o { color: #666666 } /* Operator */\n",
       ".output_html .ch { color: #3D7B7B; font-style: italic } /* Comment.Hashbang */\n",
       ".output_html .cm { color: #3D7B7B; font-style: italic } /* Comment.Multiline */\n",
       ".output_html .cp { color: #9C6500 } /* Comment.Preproc */\n",
       ".output_html .cpf { color: #3D7B7B; font-style: italic } /* Comment.PreprocFile */\n",
       ".output_html .c1 { color: #3D7B7B; font-style: italic } /* Comment.Single */\n",
       ".output_html .cs { color: #3D7B7B; font-style: italic } /* Comment.Special */\n",
       ".output_html .gd { color: #A00000 } /* Generic.Deleted */\n",
       ".output_html .ge { font-style: italic } /* Generic.Emph */\n",
       ".output_html .gr { color: #E40000 } /* Generic.Error */\n",
       ".output_html .gh { color: #000080; font-weight: bold } /* Generic.Heading */\n",
       ".output_html .gi { color: #008400 } /* Generic.Inserted */\n",
       ".output_html .go { color: #717171 } /* Generic.Output */\n",
       ".output_html .gp { color: #000080; font-weight: bold } /* Generic.Prompt */\n",
       ".output_html .gs { font-weight: bold } /* Generic.Strong */\n",
       ".output_html .gu { color: #800080; font-weight: bold } /* Generic.Subheading */\n",
       ".output_html .gt { color: #0044DD } /* Generic.Traceback */\n",
       ".output_html .kc { color: #008000; font-weight: bold } /* Keyword.Constant */\n",
       ".output_html .kd { color: #008000; font-weight: bold } /* Keyword.Declaration */\n",
       ".output_html .kn { color: #008000; font-weight: bold } /* Keyword.Namespace */\n",
       ".output_html .kp { color: #008000 } /* Keyword.Pseudo */\n",
       ".output_html .kr { color: #008000; font-weight: bold } /* Keyword.Reserved */\n",
       ".output_html .kt { color: #B00040 } /* Keyword.Type */\n",
       ".output_html .m { color: #666666 } /* Literal.Number */\n",
       ".output_html .s { color: #BA2121 } /* Literal.String */\n",
       ".output_html .na { color: #687822 } /* Name.Attribute */\n",
       ".output_html .nb { color: #008000 } /* Name.Builtin */\n",
       ".output_html .nc { color: #0000FF; font-weight: bold } /* Name.Class */\n",
       ".output_html .no { color: #880000 } /* Name.Constant */\n",
       ".output_html .nd { color: #AA22FF } /* Name.Decorator */\n",
       ".output_html .ni { color: #717171; font-weight: bold } /* Name.Entity */\n",
       ".output_html .ne { color: #CB3F38; font-weight: bold } /* Name.Exception */\n",
       ".output_html .nf { color: #0000FF } /* Name.Function */\n",
       ".output_html .nl { color: #767600 } /* Name.Label */\n",
       ".output_html .nn { color: #0000FF; font-weight: bold } /* Name.Namespace */\n",
       ".output_html .nt { color: #008000; font-weight: bold } /* Name.Tag */\n",
       ".output_html .nv { color: #19177C } /* Name.Variable */\n",
       ".output_html .ow { color: #AA22FF; font-weight: bold } /* Operator.Word */\n",
       ".output_html .w { color: #bbbbbb } /* Text.Whitespace */\n",
       ".output_html .mb { color: #666666 } /* Literal.Number.Bin */\n",
       ".output_html .mf { color: #666666 } /* Literal.Number.Float */\n",
       ".output_html .mh { color: #666666 } /* Literal.Number.Hex */\n",
       ".output_html .mi { color: #666666 } /* Literal.Number.Integer */\n",
       ".output_html .mo { color: #666666 } /* Literal.Number.Oct */\n",
       ".output_html .sa { color: #BA2121 } /* Literal.String.Affix */\n",
       ".output_html .sb { color: #BA2121 } /* Literal.String.Backtick */\n",
       ".output_html .sc { color: #BA2121 } /* Literal.String.Char */\n",
       ".output_html .dl { color: #BA2121 } /* Literal.String.Delimiter */\n",
       ".output_html .sd { color: #BA2121; font-style: italic } /* Literal.String.Doc */\n",
       ".output_html .s2 { color: #BA2121 } /* Literal.String.Double */\n",
       ".output_html .se { color: #AA5D1F; font-weight: bold } /* Literal.String.Escape */\n",
       ".output_html .sh { color: #BA2121 } /* Literal.String.Heredoc */\n",
       ".output_html .si { color: #A45A77; font-weight: bold } /* Literal.String.Interpol */\n",
       ".output_html .sx { color: #008000 } /* Literal.String.Other */\n",
       ".output_html .sr { color: #A45A77 } /* Literal.String.Regex */\n",
       ".output_html .s1 { color: #BA2121 } /* Literal.String.Single */\n",
       ".output_html .ss { color: #19177C } /* Literal.String.Symbol */\n",
       ".output_html .bp { color: #008000 } /* Name.Builtin.Pseudo */\n",
       ".output_html .fm { color: #0000FF } /* Name.Function.Magic */\n",
       ".output_html .vc { color: #19177C } /* Name.Variable.Class */\n",
       ".output_html .vg { color: #19177C } /* Name.Variable.Global */\n",
       ".output_html .vi { color: #19177C } /* Name.Variable.Instance */\n",
       ".output_html .vm { color: #19177C } /* Name.Variable.Magic */\n",
       ".output_html .il { color: #666666 } /* Literal.Number.Integer.Long */</style><div class=\"highlight\"><pre><span></span><span class=\"k\">class</span> <span class=\"nc\">CodexWithFewShots</span><span class=\"p\">(</span><span class=\"n\">CodexBaseRepair</span><span class=\"p\">):</span>\n",
       "\n",
       "    <span class=\"k\">def</span> <span class=\"fm\">__init__</span><span class=\"p\">(</span><span class=\"bp\">self</span><span class=\"p\">,</span> <span class=\"n\">shot_selector</span><span class=\"p\">:</span> <span class=\"n\">FewShotSelector</span><span class=\"p\">,</span> <span class=\"o\">*</span><span class=\"n\">args</span><span class=\"p\">,</span> <span class=\"o\">**</span><span class=\"n\">kwargs</span><span class=\"p\">):</span>\n",
       "        <span class=\"nb\">super</span><span class=\"p\">()</span><span class=\"o\">.</span><span class=\"fm\">__init__</span><span class=\"p\">(</span><span class=\"o\">*</span><span class=\"n\">args</span><span class=\"p\">,</span> <span class=\"o\">**</span><span class=\"n\">kwargs</span><span class=\"p\">)</span>\n",
       "        <span class=\"bp\">self</span><span class=\"o\">.</span><span class=\"n\">shot_selector</span> <span class=\"o\">=</span> <span class=\"n\">shot_selector</span>\n",
       "        <span class=\"bp\">self</span><span class=\"o\">.</span><span class=\"n\">prompt_helper</span> <span class=\"o\">=</span> <span class=\"n\">CodexWithErrorInfo</span><span class=\"p\">(</span><span class=\"o\">*</span><span class=\"n\">args</span><span class=\"p\">,</span> <span class=\"o\">**</span><span class=\"n\">kwargs</span><span class=\"p\">)</span>\n",
       "\n",
       "    <span class=\"k\">def</span> <span class=\"nf\">get_prompt</span><span class=\"p\">(</span><span class=\"bp\">self</span><span class=\"p\">,</span> <span class=\"n\">code</span><span class=\"p\">:</span> <span class=\"nb\">str</span><span class=\"p\">,</span> <span class=\"o\">**</span><span class=\"n\">kwargs</span><span class=\"p\">):</span>\n",
       "        <span class=\"n\">few_shots</span> <span class=\"o\">=</span> <span class=\"bp\">self</span><span class=\"o\">.</span><span class=\"n\">shot_selector</span><span class=\"o\">.</span><span class=\"n\">select_shots</span><span class=\"p\">(</span><span class=\"n\">code</span><span class=\"p\">,</span> <span class=\"n\">kwargs</span><span class=\"o\">.</span><span class=\"n\">get</span><span class=\"p\">(</span><span class=\"s2\">&quot;k&quot;</span><span class=\"p\">,</span> <span class=\"mi\">3</span><span class=\"p\">))</span>\n",
       "        <span class=\"n\">prompt</span> <span class=\"o\">=</span> <span class=\"s2\">&quot;&quot;</span>\n",
       "        <span class=\"k\">for</span> <span class=\"n\">shot</span> <span class=\"ow\">in</span> <span class=\"n\">few_shots</span><span class=\"p\">:</span>\n",
       "            <span class=\"n\">prompt</span> <span class=\"o\">+=</span> <span class=\"bp\">self</span><span class=\"o\">.</span><span class=\"n\">prompt_helper</span><span class=\"o\">.</span><span class=\"n\">get_prompt</span><span class=\"p\">(</span><span class=\"n\">shot</span><span class=\"o\">.</span><span class=\"n\">source</span><span class=\"p\">,</span>\n",
       "                                                    <span class=\"n\">fixed</span><span class=\"o\">=</span><span class=\"n\">shot</span><span class=\"o\">.</span><span class=\"n\">target</span><span class=\"p\">)</span>\n",
       "\n",
       "        <span class=\"n\">prompt</span> <span class=\"o\">+=</span> <span class=\"bp\">self</span><span class=\"o\">.</span><span class=\"n\">prompt_helper</span><span class=\"o\">.</span><span class=\"n\">get_prompt</span><span class=\"p\">(</span><span class=\"n\">code</span><span class=\"p\">)</span>\n",
       "        <span class=\"k\">return</span> <span class=\"n\">prompt</span>\n",
       "</pre></div>\n"
      ],
      "text/latex": [
       "\\begin{Verbatim}[commandchars=\\\\\\{\\}]\n",
       "\\PY{k}{class} \\PY{n+nc}{CodexWithFewShots}\\PY{p}{(}\\PY{n}{CodexBaseRepair}\\PY{p}{)}\\PY{p}{:}\n",
       "\n",
       "    \\PY{k}{def} \\PY{n+nf+fm}{\\PYZus{}\\PYZus{}init\\PYZus{}\\PYZus{}}\\PY{p}{(}\\PY{n+nb+bp}{self}\\PY{p}{,} \\PY{n}{shot\\PYZus{}selector}\\PY{p}{:} \\PY{n}{FewShotSelector}\\PY{p}{,} \\PY{o}{*}\\PY{n}{args}\\PY{p}{,} \\PY{o}{*}\\PY{o}{*}\\PY{n}{kwargs}\\PY{p}{)}\\PY{p}{:}\n",
       "        \\PY{n+nb}{super}\\PY{p}{(}\\PY{p}{)}\\PY{o}{.}\\PY{n+nf+fm}{\\PYZus{}\\PYZus{}init\\PYZus{}\\PYZus{}}\\PY{p}{(}\\PY{o}{*}\\PY{n}{args}\\PY{p}{,} \\PY{o}{*}\\PY{o}{*}\\PY{n}{kwargs}\\PY{p}{)}\n",
       "        \\PY{n+nb+bp}{self}\\PY{o}{.}\\PY{n}{shot\\PYZus{}selector} \\PY{o}{=} \\PY{n}{shot\\PYZus{}selector}\n",
       "        \\PY{n+nb+bp}{self}\\PY{o}{.}\\PY{n}{prompt\\PYZus{}helper} \\PY{o}{=} \\PY{n}{CodexWithErrorInfo}\\PY{p}{(}\\PY{o}{*}\\PY{n}{args}\\PY{p}{,} \\PY{o}{*}\\PY{o}{*}\\PY{n}{kwargs}\\PY{p}{)}\n",
       "\n",
       "    \\PY{k}{def} \\PY{n+nf}{get\\PYZus{}prompt}\\PY{p}{(}\\PY{n+nb+bp}{self}\\PY{p}{,} \\PY{n}{code}\\PY{p}{:} \\PY{n+nb}{str}\\PY{p}{,} \\PY{o}{*}\\PY{o}{*}\\PY{n}{kwargs}\\PY{p}{)}\\PY{p}{:}\n",
       "        \\PY{n}{few\\PYZus{}shots} \\PY{o}{=} \\PY{n+nb+bp}{self}\\PY{o}{.}\\PY{n}{shot\\PYZus{}selector}\\PY{o}{.}\\PY{n}{select\\PYZus{}shots}\\PY{p}{(}\\PY{n}{code}\\PY{p}{,} \\PY{n}{kwargs}\\PY{o}{.}\\PY{n}{get}\\PY{p}{(}\\PY{l+s+s2}{\\PYZdq{}}\\PY{l+s+s2}{k}\\PY{l+s+s2}{\\PYZdq{}}\\PY{p}{,} \\PY{l+m+mi}{3}\\PY{p}{)}\\PY{p}{)}\n",
       "        \\PY{n}{prompt} \\PY{o}{=} \\PY{l+s+s2}{\\PYZdq{}}\\PY{l+s+s2}{\\PYZdq{}}\n",
       "        \\PY{k}{for} \\PY{n}{shot} \\PY{o+ow}{in} \\PY{n}{few\\PYZus{}shots}\\PY{p}{:}\n",
       "            \\PY{n}{prompt} \\PY{o}{+}\\PY{o}{=} \\PY{n+nb+bp}{self}\\PY{o}{.}\\PY{n}{prompt\\PYZus{}helper}\\PY{o}{.}\\PY{n}{get\\PYZus{}prompt}\\PY{p}{(}\\PY{n}{shot}\\PY{o}{.}\\PY{n}{source}\\PY{p}{,}\n",
       "                                                    \\PY{n}{fixed}\\PY{o}{=}\\PY{n}{shot}\\PY{o}{.}\\PY{n}{target}\\PY{p}{)}\n",
       "\n",
       "        \\PY{n}{prompt} \\PY{o}{+}\\PY{o}{=} \\PY{n+nb+bp}{self}\\PY{o}{.}\\PY{n}{prompt\\PYZus{}helper}\\PY{o}{.}\\PY{n}{get\\PYZus{}prompt}\\PY{p}{(}\\PY{n}{code}\\PY{p}{)}\n",
       "        \\PY{k}{return} \\PY{n}{prompt}\n",
       "\\end{Verbatim}\n"
      ],
      "text/plain": [
       "class CodexWithFewShots(CodexBaseRepair):\n",
       "\n",
       "    def __init__(self, shot_selector: FewShotSelector, *args, **kwargs):\n",
       "        super().__init__(*args, **kwargs)\n",
       "        self.shot_selector = shot_selector\n",
       "        self.prompt_helper = CodexWithErrorInfo(*args, **kwargs)\n",
       "\n",
       "    def get_prompt(self, code: str, **kwargs):\n",
       "        few_shots = self.shot_selector.select_shots(code, kwargs.get(\"k\", 3))\n",
       "        prompt = \"\"\n",
       "        for shot in few_shots:\n",
       "            prompt += self.prompt_helper.get_prompt(shot.source,\n",
       "                                                    fixed=shot.target)\n",
       "\n",
       "        prompt += self.prompt_helper.get_prompt(code)\n",
       "        return prompt"
      ]
     },
     "execution_count": 19,
     "metadata": {},
     "output_type": "execute_result"
    }
   ],
   "source": [
    "show_code(codex.CodexWithFewShots)"
   ]
  },
  {
   "attachments": {},
   "cell_type": "markdown",
   "metadata": {},
   "source": [
    "Below are two examples using the fixed and random strategy mentioned previously."
   ]
  },
  {
   "cell_type": "code",
   "execution_count": 20,
   "metadata": {},
   "outputs": [],
   "source": [
    "# toy example\n",
    "example_bank = train[:30]\n",
    "fixed_shot_selector = codex.FixedFewShots(example_bank)\n",
    "random_shot_selector = codex.RandomFewShots(example_bank)"
   ]
  },
  {
   "attachments": {},
   "cell_type": "markdown",
   "metadata": {},
   "source": [
    "We'll focus on the *smart* approach mentioned before. Specifically, we'll retrieve few-shots from our example bank based on the similarity of their error message to our current program's error message. In our case, we'll define the similarity between error messages to be the cosine similarity between their embeddings (produced using CodeBERT[6])."
   ]
  },
  {
   "cell_type": "code",
   "execution_count": 21,
   "metadata": {},
   "outputs": [
    {
     "data": {
      "text/html": [
       "<style>pre { line-height: 125%; }\n",
       "td.linenos .normal { color: inherit; background-color: transparent; padding-left: 5px; padding-right: 5px; }\n",
       "span.linenos { color: inherit; background-color: transparent; padding-left: 5px; padding-right: 5px; }\n",
       "td.linenos .special { color: #000000; background-color: #ffffc0; padding-left: 5px; padding-right: 5px; }\n",
       "span.linenos.special { color: #000000; background-color: #ffffc0; padding-left: 5px; padding-right: 5px; }\n",
       ".output_html .hll { background-color: #ffffcc }\n",
       ".output_html { background: #f8f8f8; }\n",
       ".output_html .c { color: #3D7B7B; font-style: italic } /* Comment */\n",
       ".output_html .err { border: 1px solid #FF0000 } /* Error */\n",
       ".output_html .k { color: #008000; font-weight: bold } /* Keyword */\n",
       ".output_html .o { color: #666666 } /* Operator */\n",
       ".output_html .ch { color: #3D7B7B; font-style: italic } /* Comment.Hashbang */\n",
       ".output_html .cm { color: #3D7B7B; font-style: italic } /* Comment.Multiline */\n",
       ".output_html .cp { color: #9C6500 } /* Comment.Preproc */\n",
       ".output_html .cpf { color: #3D7B7B; font-style: italic } /* Comment.PreprocFile */\n",
       ".output_html .c1 { color: #3D7B7B; font-style: italic } /* Comment.Single */\n",
       ".output_html .cs { color: #3D7B7B; font-style: italic } /* Comment.Special */\n",
       ".output_html .gd { color: #A00000 } /* Generic.Deleted */\n",
       ".output_html .ge { font-style: italic } /* Generic.Emph */\n",
       ".output_html .gr { color: #E40000 } /* Generic.Error */\n",
       ".output_html .gh { color: #000080; font-weight: bold } /* Generic.Heading */\n",
       ".output_html .gi { color: #008400 } /* Generic.Inserted */\n",
       ".output_html .go { color: #717171 } /* Generic.Output */\n",
       ".output_html .gp { color: #000080; font-weight: bold } /* Generic.Prompt */\n",
       ".output_html .gs { font-weight: bold } /* Generic.Strong */\n",
       ".output_html .gu { color: #800080; font-weight: bold } /* Generic.Subheading */\n",
       ".output_html .gt { color: #0044DD } /* Generic.Traceback */\n",
       ".output_html .kc { color: #008000; font-weight: bold } /* Keyword.Constant */\n",
       ".output_html .kd { color: #008000; font-weight: bold } /* Keyword.Declaration */\n",
       ".output_html .kn { color: #008000; font-weight: bold } /* Keyword.Namespace */\n",
       ".output_html .kp { color: #008000 } /* Keyword.Pseudo */\n",
       ".output_html .kr { color: #008000; font-weight: bold } /* Keyword.Reserved */\n",
       ".output_html .kt { color: #B00040 } /* Keyword.Type */\n",
       ".output_html .m { color: #666666 } /* Literal.Number */\n",
       ".output_html .s { color: #BA2121 } /* Literal.String */\n",
       ".output_html .na { color: #687822 } /* Name.Attribute */\n",
       ".output_html .nb { color: #008000 } /* Name.Builtin */\n",
       ".output_html .nc { color: #0000FF; font-weight: bold } /* Name.Class */\n",
       ".output_html .no { color: #880000 } /* Name.Constant */\n",
       ".output_html .nd { color: #AA22FF } /* Name.Decorator */\n",
       ".output_html .ni { color: #717171; font-weight: bold } /* Name.Entity */\n",
       ".output_html .ne { color: #CB3F38; font-weight: bold } /* Name.Exception */\n",
       ".output_html .nf { color: #0000FF } /* Name.Function */\n",
       ".output_html .nl { color: #767600 } /* Name.Label */\n",
       ".output_html .nn { color: #0000FF; font-weight: bold } /* Name.Namespace */\n",
       ".output_html .nt { color: #008000; font-weight: bold } /* Name.Tag */\n",
       ".output_html .nv { color: #19177C } /* Name.Variable */\n",
       ".output_html .ow { color: #AA22FF; font-weight: bold } /* Operator.Word */\n",
       ".output_html .w { color: #bbbbbb } /* Text.Whitespace */\n",
       ".output_html .mb { color: #666666 } /* Literal.Number.Bin */\n",
       ".output_html .mf { color: #666666 } /* Literal.Number.Float */\n",
       ".output_html .mh { color: #666666 } /* Literal.Number.Hex */\n",
       ".output_html .mi { color: #666666 } /* Literal.Number.Integer */\n",
       ".output_html .mo { color: #666666 } /* Literal.Number.Oct */\n",
       ".output_html .sa { color: #BA2121 } /* Literal.String.Affix */\n",
       ".output_html .sb { color: #BA2121 } /* Literal.String.Backtick */\n",
       ".output_html .sc { color: #BA2121 } /* Literal.String.Char */\n",
       ".output_html .dl { color: #BA2121 } /* Literal.String.Delimiter */\n",
       ".output_html .sd { color: #BA2121; font-style: italic } /* Literal.String.Doc */\n",
       ".output_html .s2 { color: #BA2121 } /* Literal.String.Double */\n",
       ".output_html .se { color: #AA5D1F; font-weight: bold } /* Literal.String.Escape */\n",
       ".output_html .sh { color: #BA2121 } /* Literal.String.Heredoc */\n",
       ".output_html .si { color: #A45A77; font-weight: bold } /* Literal.String.Interpol */\n",
       ".output_html .sx { color: #008000 } /* Literal.String.Other */\n",
       ".output_html .sr { color: #A45A77 } /* Literal.String.Regex */\n",
       ".output_html .s1 { color: #BA2121 } /* Literal.String.Single */\n",
       ".output_html .ss { color: #19177C } /* Literal.String.Symbol */\n",
       ".output_html .bp { color: #008000 } /* Name.Builtin.Pseudo */\n",
       ".output_html .fm { color: #0000FF } /* Name.Function.Magic */\n",
       ".output_html .vc { color: #19177C } /* Name.Variable.Class */\n",
       ".output_html .vg { color: #19177C } /* Name.Variable.Global */\n",
       ".output_html .vi { color: #19177C } /* Name.Variable.Instance */\n",
       ".output_html .vm { color: #19177C } /* Name.Variable.Magic */\n",
       ".output_html .il { color: #666666 } /* Literal.Number.Integer.Long */</style><div class=\"highlight\"><pre><span></span><span class=\"k\">class</span> <span class=\"nc\">SimilarityFewShots</span><span class=\"p\">(</span><span class=\"n\">FewShotSelector</span><span class=\"p\">):</span>\n",
       "\n",
       "    <span class=\"k\">def</span> <span class=\"fm\">__init__</span><span class=\"p\">(</span><span class=\"bp\">self</span><span class=\"p\">,</span> <span class=\"n\">example_bank</span><span class=\"p\">:</span> <span class=\"n\">List</span><span class=\"p\">[</span><span class=\"n\">RepairTaskRecord</span><span class=\"p\">],</span> <span class=\"n\">verbose</span><span class=\"o\">=</span><span class=\"kc\">False</span><span class=\"p\">):</span>\n",
       "        <span class=\"bp\">self</span><span class=\"o\">.</span><span class=\"n\">example_bank</span> <span class=\"o\">=</span> <span class=\"nb\">list</span><span class=\"p\">(</span><span class=\"n\">example_bank</span><span class=\"p\">)</span>\n",
       "        <span class=\"bp\">self</span><span class=\"o\">.</span><span class=\"n\">embedder</span> <span class=\"o\">=</span> <span class=\"n\">CodeBertEmbedder</span><span class=\"p\">()</span>\n",
       "        <span class=\"k\">if</span> <span class=\"ow\">not</span> <span class=\"n\">verbose</span><span class=\"p\">:</span>\n",
       "            <span class=\"bp\">self</span><span class=\"o\">.</span><span class=\"n\">embedded_bank</span> <span class=\"o\">=</span> <span class=\"bp\">self</span><span class=\"o\">.</span><span class=\"n\">_get_norm_embedding</span><span class=\"p\">([</span><span class=\"n\">e</span><span class=\"o\">.</span><span class=\"n\">source</span> <span class=\"k\">for</span> <span class=\"n\">e</span> <span class=\"ow\">in</span> <span class=\"bp\">self</span><span class=\"o\">.</span><span class=\"n\">example_bank</span><span class=\"p\">])</span>\n",
       "        <span class=\"k\">else</span><span class=\"p\">:</span>\n",
       "            <span class=\"c1\"># WARNING: just for debugging/seeing progress...</span>\n",
       "            <span class=\"n\">res</span> <span class=\"o\">=</span> <span class=\"p\">[</span><span class=\"bp\">self</span><span class=\"o\">.</span><span class=\"n\">_get_norm_embedding</span><span class=\"p\">([</span><span class=\"n\">e</span><span class=\"o\">.</span><span class=\"n\">source</span><span class=\"p\">])</span> <span class=\"k\">for</span> <span class=\"n\">e</span> <span class=\"ow\">in</span> <span class=\"n\">tqdm</span><span class=\"o\">.</span><span class=\"n\">tqdm</span><span class=\"p\">(</span><span class=\"bp\">self</span><span class=\"o\">.</span><span class=\"n\">example_bank</span><span class=\"p\">)]</span>\n",
       "            <span class=\"bp\">self</span><span class=\"o\">.</span><span class=\"n\">embedded_bank</span> <span class=\"o\">=</span> <span class=\"n\">np</span><span class=\"o\">.</span><span class=\"n\">vstack</span><span class=\"p\">(</span><span class=\"n\">res</span><span class=\"p\">)</span>\n",
       "\n",
       "    <span class=\"k\">def</span> <span class=\"nf\">_get_norm_embedding</span><span class=\"p\">(</span><span class=\"bp\">self</span><span class=\"p\">,</span> <span class=\"n\">programs</span><span class=\"p\">:</span> <span class=\"n\">List</span><span class=\"p\">[</span><span class=\"nb\">str</span><span class=\"p\">])</span> <span class=\"o\">-&gt;</span> <span class=\"n\">np</span><span class=\"o\">.</span><span class=\"n\">ndarray</span><span class=\"p\">:</span>\n",
       "        <span class=\"n\">vectors</span> <span class=\"o\">=</span> <span class=\"bp\">self</span><span class=\"o\">.</span><span class=\"n\">embedder</span><span class=\"o\">.</span><span class=\"n\">embed</span><span class=\"p\">(</span><span class=\"n\">programs</span><span class=\"p\">)</span><span class=\"o\">.</span><span class=\"n\">numpy</span><span class=\"p\">()</span>\n",
       "        <span class=\"n\">normed_vectors</span> <span class=\"o\">=</span> <span class=\"n\">vectors</span> <span class=\"o\">/</span> <span class=\"n\">np</span><span class=\"o\">.</span><span class=\"n\">linalg</span><span class=\"o\">.</span><span class=\"n\">norm</span><span class=\"p\">(</span><span class=\"n\">vectors</span><span class=\"p\">,</span> <span class=\"nb\">ord</span><span class=\"o\">=</span><span class=\"mi\">2</span><span class=\"p\">,</span> <span class=\"n\">axis</span><span class=\"o\">=</span><span class=\"mi\">1</span><span class=\"p\">)</span><span class=\"o\">.</span><span class=\"n\">reshape</span><span class=\"p\">(</span><span class=\"o\">-</span><span class=\"mi\">1</span><span class=\"p\">,</span> <span class=\"mi\">1</span><span class=\"p\">)</span>\n",
       "        <span class=\"k\">return</span> <span class=\"n\">normed_vectors</span>\n",
       "\n",
       "    <span class=\"k\">def</span> <span class=\"nf\">_retrieve_nearest_k_ixs</span><span class=\"p\">(</span><span class=\"bp\">self</span><span class=\"p\">,</span> <span class=\"n\">vec</span><span class=\"p\">:</span> <span class=\"n\">np</span><span class=\"o\">.</span><span class=\"n\">ndarray</span><span class=\"p\">,</span> <span class=\"n\">k</span><span class=\"p\">:</span> <span class=\"nb\">int</span><span class=\"p\">)</span> <span class=\"o\">-&gt;</span> <span class=\"n\">List</span><span class=\"p\">[</span><span class=\"nb\">int</span><span class=\"p\">]:</span>\n",
       "        <span class=\"c1\"># FIXME: replace with a fast approximate search engine like FAISS to scale</span>\n",
       "        <span class=\"n\">scores</span> <span class=\"o\">=</span> <span class=\"n\">np</span><span class=\"o\">.</span><span class=\"n\">matmul</span><span class=\"p\">(</span><span class=\"bp\">self</span><span class=\"o\">.</span><span class=\"n\">embedded_bank</span><span class=\"p\">,</span> <span class=\"n\">vec</span><span class=\"o\">.</span><span class=\"n\">T</span><span class=\"p\">)</span><span class=\"o\">.</span><span class=\"n\">flatten</span><span class=\"p\">()</span>\n",
       "        <span class=\"n\">top_ixs</span> <span class=\"o\">=</span> <span class=\"n\">np</span><span class=\"o\">.</span><span class=\"n\">argsort</span><span class=\"p\">(</span><span class=\"n\">scores</span><span class=\"p\">)[</span><span class=\"o\">-</span><span class=\"n\">k</span><span class=\"p\">:]</span>\n",
       "        <span class=\"k\">return</span> <span class=\"n\">top_ixs</span>\n",
       "\n",
       "    <span class=\"k\">def</span> <span class=\"nf\">select_shots</span><span class=\"p\">(</span><span class=\"bp\">self</span><span class=\"p\">,</span> <span class=\"n\">code</span><span class=\"p\">:</span> <span class=\"nb\">str</span><span class=\"p\">,</span> <span class=\"n\">k</span><span class=\"p\">:</span> <span class=\"nb\">int</span><span class=\"p\">)</span> <span class=\"o\">-&gt;</span> <span class=\"n\">List</span><span class=\"p\">[</span><span class=\"n\">RepairTaskRecord</span><span class=\"p\">]:</span>\n",
       "        <span class=\"n\">vec</span> <span class=\"o\">=</span> <span class=\"bp\">self</span><span class=\"o\">.</span><span class=\"n\">_get_norm_embedding</span><span class=\"p\">([</span><span class=\"n\">code</span><span class=\"p\">])</span>\n",
       "        <span class=\"n\">ixs</span> <span class=\"o\">=</span> <span class=\"bp\">self</span><span class=\"o\">.</span><span class=\"n\">_retrieve_nearest_k_ixs</span><span class=\"p\">(</span><span class=\"n\">vec</span><span class=\"p\">,</span> <span class=\"n\">k</span><span class=\"p\">)</span>\n",
       "        <span class=\"n\">chosen</span> <span class=\"o\">=</span> <span class=\"p\">[</span><span class=\"bp\">self</span><span class=\"o\">.</span><span class=\"n\">example_bank</span><span class=\"p\">[</span><span class=\"n\">i</span><span class=\"p\">]</span> <span class=\"k\">for</span> <span class=\"n\">i</span> <span class=\"ow\">in</span> <span class=\"n\">ixs</span><span class=\"p\">]</span>\n",
       "        <span class=\"k\">return</span> <span class=\"n\">chosen</span>\n",
       "</pre></div>\n"
      ],
      "text/latex": [
       "\\begin{Verbatim}[commandchars=\\\\\\{\\}]\n",
       "\\PY{k}{class} \\PY{n+nc}{SimilarityFewShots}\\PY{p}{(}\\PY{n}{FewShotSelector}\\PY{p}{)}\\PY{p}{:}\n",
       "\n",
       "    \\PY{k}{def} \\PY{n+nf+fm}{\\PYZus{}\\PYZus{}init\\PYZus{}\\PYZus{}}\\PY{p}{(}\\PY{n+nb+bp}{self}\\PY{p}{,} \\PY{n}{example\\PYZus{}bank}\\PY{p}{:} \\PY{n}{List}\\PY{p}{[}\\PY{n}{RepairTaskRecord}\\PY{p}{]}\\PY{p}{,} \\PY{n}{verbose}\\PY{o}{=}\\PY{k+kc}{False}\\PY{p}{)}\\PY{p}{:}\n",
       "        \\PY{n+nb+bp}{self}\\PY{o}{.}\\PY{n}{example\\PYZus{}bank} \\PY{o}{=} \\PY{n+nb}{list}\\PY{p}{(}\\PY{n}{example\\PYZus{}bank}\\PY{p}{)}\n",
       "        \\PY{n+nb+bp}{self}\\PY{o}{.}\\PY{n}{embedder} \\PY{o}{=} \\PY{n}{CodeBertEmbedder}\\PY{p}{(}\\PY{p}{)}\n",
       "        \\PY{k}{if} \\PY{o+ow}{not} \\PY{n}{verbose}\\PY{p}{:}\n",
       "            \\PY{n+nb+bp}{self}\\PY{o}{.}\\PY{n}{embedded\\PYZus{}bank} \\PY{o}{=} \\PY{n+nb+bp}{self}\\PY{o}{.}\\PY{n}{\\PYZus{}get\\PYZus{}norm\\PYZus{}embedding}\\PY{p}{(}\\PY{p}{[}\\PY{n}{e}\\PY{o}{.}\\PY{n}{source} \\PY{k}{for} \\PY{n}{e} \\PY{o+ow}{in} \\PY{n+nb+bp}{self}\\PY{o}{.}\\PY{n}{example\\PYZus{}bank}\\PY{p}{]}\\PY{p}{)}\n",
       "        \\PY{k}{else}\\PY{p}{:}\n",
       "            \\PY{c+c1}{\\PYZsh{} WARNING: just for debugging/seeing progress...}\n",
       "            \\PY{n}{res} \\PY{o}{=} \\PY{p}{[}\\PY{n+nb+bp}{self}\\PY{o}{.}\\PY{n}{\\PYZus{}get\\PYZus{}norm\\PYZus{}embedding}\\PY{p}{(}\\PY{p}{[}\\PY{n}{e}\\PY{o}{.}\\PY{n}{source}\\PY{p}{]}\\PY{p}{)} \\PY{k}{for} \\PY{n}{e} \\PY{o+ow}{in} \\PY{n}{tqdm}\\PY{o}{.}\\PY{n}{tqdm}\\PY{p}{(}\\PY{n+nb+bp}{self}\\PY{o}{.}\\PY{n}{example\\PYZus{}bank}\\PY{p}{)}\\PY{p}{]}\n",
       "            \\PY{n+nb+bp}{self}\\PY{o}{.}\\PY{n}{embedded\\PYZus{}bank} \\PY{o}{=} \\PY{n}{np}\\PY{o}{.}\\PY{n}{vstack}\\PY{p}{(}\\PY{n}{res}\\PY{p}{)}\n",
       "\n",
       "    \\PY{k}{def} \\PY{n+nf}{\\PYZus{}get\\PYZus{}norm\\PYZus{}embedding}\\PY{p}{(}\\PY{n+nb+bp}{self}\\PY{p}{,} \\PY{n}{programs}\\PY{p}{:} \\PY{n}{List}\\PY{p}{[}\\PY{n+nb}{str}\\PY{p}{]}\\PY{p}{)} \\PY{o}{\\PYZhy{}}\\PY{o}{\\PYZgt{}} \\PY{n}{np}\\PY{o}{.}\\PY{n}{ndarray}\\PY{p}{:}\n",
       "        \\PY{n}{vectors} \\PY{o}{=} \\PY{n+nb+bp}{self}\\PY{o}{.}\\PY{n}{embedder}\\PY{o}{.}\\PY{n}{embed}\\PY{p}{(}\\PY{n}{programs}\\PY{p}{)}\\PY{o}{.}\\PY{n}{numpy}\\PY{p}{(}\\PY{p}{)}\n",
       "        \\PY{n}{normed\\PYZus{}vectors} \\PY{o}{=} \\PY{n}{vectors} \\PY{o}{/} \\PY{n}{np}\\PY{o}{.}\\PY{n}{linalg}\\PY{o}{.}\\PY{n}{norm}\\PY{p}{(}\\PY{n}{vectors}\\PY{p}{,} \\PY{n+nb}{ord}\\PY{o}{=}\\PY{l+m+mi}{2}\\PY{p}{,} \\PY{n}{axis}\\PY{o}{=}\\PY{l+m+mi}{1}\\PY{p}{)}\\PY{o}{.}\\PY{n}{reshape}\\PY{p}{(}\\PY{o}{\\PYZhy{}}\\PY{l+m+mi}{1}\\PY{p}{,} \\PY{l+m+mi}{1}\\PY{p}{)}\n",
       "        \\PY{k}{return} \\PY{n}{normed\\PYZus{}vectors}\n",
       "\n",
       "    \\PY{k}{def} \\PY{n+nf}{\\PYZus{}retrieve\\PYZus{}nearest\\PYZus{}k\\PYZus{}ixs}\\PY{p}{(}\\PY{n+nb+bp}{self}\\PY{p}{,} \\PY{n}{vec}\\PY{p}{:} \\PY{n}{np}\\PY{o}{.}\\PY{n}{ndarray}\\PY{p}{,} \\PY{n}{k}\\PY{p}{:} \\PY{n+nb}{int}\\PY{p}{)} \\PY{o}{\\PYZhy{}}\\PY{o}{\\PYZgt{}} \\PY{n}{List}\\PY{p}{[}\\PY{n+nb}{int}\\PY{p}{]}\\PY{p}{:}\n",
       "        \\PY{c+c1}{\\PYZsh{} FIXME: replace with a fast approximate search engine like FAISS to scale}\n",
       "        \\PY{n}{scores} \\PY{o}{=} \\PY{n}{np}\\PY{o}{.}\\PY{n}{matmul}\\PY{p}{(}\\PY{n+nb+bp}{self}\\PY{o}{.}\\PY{n}{embedded\\PYZus{}bank}\\PY{p}{,} \\PY{n}{vec}\\PY{o}{.}\\PY{n}{T}\\PY{p}{)}\\PY{o}{.}\\PY{n}{flatten}\\PY{p}{(}\\PY{p}{)}\n",
       "        \\PY{n}{top\\PYZus{}ixs} \\PY{o}{=} \\PY{n}{np}\\PY{o}{.}\\PY{n}{argsort}\\PY{p}{(}\\PY{n}{scores}\\PY{p}{)}\\PY{p}{[}\\PY{o}{\\PYZhy{}}\\PY{n}{k}\\PY{p}{:}\\PY{p}{]}\n",
       "        \\PY{k}{return} \\PY{n}{top\\PYZus{}ixs}\n",
       "\n",
       "    \\PY{k}{def} \\PY{n+nf}{select\\PYZus{}shots}\\PY{p}{(}\\PY{n+nb+bp}{self}\\PY{p}{,} \\PY{n}{code}\\PY{p}{:} \\PY{n+nb}{str}\\PY{p}{,} \\PY{n}{k}\\PY{p}{:} \\PY{n+nb}{int}\\PY{p}{)} \\PY{o}{\\PYZhy{}}\\PY{o}{\\PYZgt{}} \\PY{n}{List}\\PY{p}{[}\\PY{n}{RepairTaskRecord}\\PY{p}{]}\\PY{p}{:}\n",
       "        \\PY{n}{vec} \\PY{o}{=} \\PY{n+nb+bp}{self}\\PY{o}{.}\\PY{n}{\\PYZus{}get\\PYZus{}norm\\PYZus{}embedding}\\PY{p}{(}\\PY{p}{[}\\PY{n}{code}\\PY{p}{]}\\PY{p}{)}\n",
       "        \\PY{n}{ixs} \\PY{o}{=} \\PY{n+nb+bp}{self}\\PY{o}{.}\\PY{n}{\\PYZus{}retrieve\\PYZus{}nearest\\PYZus{}k\\PYZus{}ixs}\\PY{p}{(}\\PY{n}{vec}\\PY{p}{,} \\PY{n}{k}\\PY{p}{)}\n",
       "        \\PY{n}{chosen} \\PY{o}{=} \\PY{p}{[}\\PY{n+nb+bp}{self}\\PY{o}{.}\\PY{n}{example\\PYZus{}bank}\\PY{p}{[}\\PY{n}{i}\\PY{p}{]} \\PY{k}{for} \\PY{n}{i} \\PY{o+ow}{in} \\PY{n}{ixs}\\PY{p}{]}\n",
       "        \\PY{k}{return} \\PY{n}{chosen}\n",
       "\\end{Verbatim}\n"
      ],
      "text/plain": [
       "class SimilarityFewShots(FewShotSelector):\n",
       "\n",
       "    def __init__(self, example_bank: List[RepairTaskRecord], verbose=False):\n",
       "        self.example_bank = list(example_bank)\n",
       "        self.embedder = CodeBertEmbedder()\n",
       "        if not verbose:\n",
       "            self.embedded_bank = self._get_norm_embedding([e.source for e in self.example_bank])\n",
       "        else:\n",
       "            # WARNING: just for debugging/seeing progress...\n",
       "            res = [self._get_norm_embedding([e.source]) for e in tqdm.tqdm(self.example_bank)]\n",
       "            self.embedded_bank = np.vstack(res)\n",
       "\n",
       "    def _get_norm_embedding(self, programs: List[str]) -> np.ndarray:\n",
       "        vectors = self.embedder.embed(programs).numpy()\n",
       "        normed_vectors = vectors / np.linalg.norm(vectors, ord=2, axis=1).reshape(-1, 1)\n",
       "        return normed_vectors\n",
       "\n",
       "    def _retrieve_nearest_k_ixs(self, vec: np.ndarray, k: int) -> List[int]:\n",
       "        # FIXME: replace with a fast approximate search engine like FAISS to scale\n",
       "        scores = np.matmul(self.embedded_bank, vec.T).flatten()\n",
       "        top_ixs = np.argsort(scores)[-k:]\n",
       "        return top_ixs\n",
       "\n",
       "    def select_shots(self, code: str, k: int) -> List[RepairTaskRecord]:\n",
       "        vec = self._get_norm_embedding([code])\n",
       "        ixs = self._retrieve_nearest_k_ixs(vec, k)\n",
       "        chosen = [self.example_bank[i] for i in ixs]\n",
       "        return chosen"
      ]
     },
     "execution_count": 21,
     "metadata": {},
     "output_type": "execute_result"
    }
   ],
   "source": [
    "show_code(codex.SimilarityFewShots)"
   ]
  },
  {
   "attachments": {},
   "cell_type": "markdown",
   "metadata": {},
   "source": [
    "Below is an overview of the `CodeBert`-based embedder for `gcc` error messages."
   ]
  },
  {
   "cell_type": "code",
   "execution_count": 22,
   "metadata": {},
   "outputs": [
    {
     "data": {
      "text/html": [
       "<style>pre { line-height: 125%; }\n",
       "td.linenos .normal { color: inherit; background-color: transparent; padding-left: 5px; padding-right: 5px; }\n",
       "span.linenos { color: inherit; background-color: transparent; padding-left: 5px; padding-right: 5px; }\n",
       "td.linenos .special { color: #000000; background-color: #ffffc0; padding-left: 5px; padding-right: 5px; }\n",
       "span.linenos.special { color: #000000; background-color: #ffffc0; padding-left: 5px; padding-right: 5px; }\n",
       ".output_html .hll { background-color: #ffffcc }\n",
       ".output_html { background: #f8f8f8; }\n",
       ".output_html .c { color: #3D7B7B; font-style: italic } /* Comment */\n",
       ".output_html .err { border: 1px solid #FF0000 } /* Error */\n",
       ".output_html .k { color: #008000; font-weight: bold } /* Keyword */\n",
       ".output_html .o { color: #666666 } /* Operator */\n",
       ".output_html .ch { color: #3D7B7B; font-style: italic } /* Comment.Hashbang */\n",
       ".output_html .cm { color: #3D7B7B; font-style: italic } /* Comment.Multiline */\n",
       ".output_html .cp { color: #9C6500 } /* Comment.Preproc */\n",
       ".output_html .cpf { color: #3D7B7B; font-style: italic } /* Comment.PreprocFile */\n",
       ".output_html .c1 { color: #3D7B7B; font-style: italic } /* Comment.Single */\n",
       ".output_html .cs { color: #3D7B7B; font-style: italic } /* Comment.Special */\n",
       ".output_html .gd { color: #A00000 } /* Generic.Deleted */\n",
       ".output_html .ge { font-style: italic } /* Generic.Emph */\n",
       ".output_html .gr { color: #E40000 } /* Generic.Error */\n",
       ".output_html .gh { color: #000080; font-weight: bold } /* Generic.Heading */\n",
       ".output_html .gi { color: #008400 } /* Generic.Inserted */\n",
       ".output_html .go { color: #717171 } /* Generic.Output */\n",
       ".output_html .gp { color: #000080; font-weight: bold } /* Generic.Prompt */\n",
       ".output_html .gs { font-weight: bold } /* Generic.Strong */\n",
       ".output_html .gu { color: #800080; font-weight: bold } /* Generic.Subheading */\n",
       ".output_html .gt { color: #0044DD } /* Generic.Traceback */\n",
       ".output_html .kc { color: #008000; font-weight: bold } /* Keyword.Constant */\n",
       ".output_html .kd { color: #008000; font-weight: bold } /* Keyword.Declaration */\n",
       ".output_html .kn { color: #008000; font-weight: bold } /* Keyword.Namespace */\n",
       ".output_html .kp { color: #008000 } /* Keyword.Pseudo */\n",
       ".output_html .kr { color: #008000; font-weight: bold } /* Keyword.Reserved */\n",
       ".output_html .kt { color: #B00040 } /* Keyword.Type */\n",
       ".output_html .m { color: #666666 } /* Literal.Number */\n",
       ".output_html .s { color: #BA2121 } /* Literal.String */\n",
       ".output_html .na { color: #687822 } /* Name.Attribute */\n",
       ".output_html .nb { color: #008000 } /* Name.Builtin */\n",
       ".output_html .nc { color: #0000FF; font-weight: bold } /* Name.Class */\n",
       ".output_html .no { color: #880000 } /* Name.Constant */\n",
       ".output_html .nd { color: #AA22FF } /* Name.Decorator */\n",
       ".output_html .ni { color: #717171; font-weight: bold } /* Name.Entity */\n",
       ".output_html .ne { color: #CB3F38; font-weight: bold } /* Name.Exception */\n",
       ".output_html .nf { color: #0000FF } /* Name.Function */\n",
       ".output_html .nl { color: #767600 } /* Name.Label */\n",
       ".output_html .nn { color: #0000FF; font-weight: bold } /* Name.Namespace */\n",
       ".output_html .nt { color: #008000; font-weight: bold } /* Name.Tag */\n",
       ".output_html .nv { color: #19177C } /* Name.Variable */\n",
       ".output_html .ow { color: #AA22FF; font-weight: bold } /* Operator.Word */\n",
       ".output_html .w { color: #bbbbbb } /* Text.Whitespace */\n",
       ".output_html .mb { color: #666666 } /* Literal.Number.Bin */\n",
       ".output_html .mf { color: #666666 } /* Literal.Number.Float */\n",
       ".output_html .mh { color: #666666 } /* Literal.Number.Hex */\n",
       ".output_html .mi { color: #666666 } /* Literal.Number.Integer */\n",
       ".output_html .mo { color: #666666 } /* Literal.Number.Oct */\n",
       ".output_html .sa { color: #BA2121 } /* Literal.String.Affix */\n",
       ".output_html .sb { color: #BA2121 } /* Literal.String.Backtick */\n",
       ".output_html .sc { color: #BA2121 } /* Literal.String.Char */\n",
       ".output_html .dl { color: #BA2121 } /* Literal.String.Delimiter */\n",
       ".output_html .sd { color: #BA2121; font-style: italic } /* Literal.String.Doc */\n",
       ".output_html .s2 { color: #BA2121 } /* Literal.String.Double */\n",
       ".output_html .se { color: #AA5D1F; font-weight: bold } /* Literal.String.Escape */\n",
       ".output_html .sh { color: #BA2121 } /* Literal.String.Heredoc */\n",
       ".output_html .si { color: #A45A77; font-weight: bold } /* Literal.String.Interpol */\n",
       ".output_html .sx { color: #008000 } /* Literal.String.Other */\n",
       ".output_html .sr { color: #A45A77 } /* Literal.String.Regex */\n",
       ".output_html .s1 { color: #BA2121 } /* Literal.String.Single */\n",
       ".output_html .ss { color: #19177C } /* Literal.String.Symbol */\n",
       ".output_html .bp { color: #008000 } /* Name.Builtin.Pseudo */\n",
       ".output_html .fm { color: #0000FF } /* Name.Function.Magic */\n",
       ".output_html .vc { color: #19177C } /* Name.Variable.Class */\n",
       ".output_html .vg { color: #19177C } /* Name.Variable.Global */\n",
       ".output_html .vi { color: #19177C } /* Name.Variable.Instance */\n",
       ".output_html .vm { color: #19177C } /* Name.Variable.Magic */\n",
       ".output_html .il { color: #666666 } /* Literal.Number.Integer.Long */</style><div class=\"highlight\"><pre><span></span><span class=\"k\">class</span> <span class=\"nc\">CodeBertEmbedder</span><span class=\"p\">(</span><span class=\"nb\">object</span><span class=\"p\">):</span>\n",
       "\n",
       "    <span class=\"k\">def</span> <span class=\"fm\">__init__</span><span class=\"p\">(</span><span class=\"bp\">self</span><span class=\"p\">):</span>\n",
       "        <span class=\"bp\">self</span><span class=\"o\">.</span><span class=\"n\">tokenizer</span> <span class=\"o\">=</span> <span class=\"n\">AutoTokenizer</span><span class=\"o\">.</span><span class=\"n\">from_pretrained</span><span class=\"p\">(</span>\n",
       "            <span class=\"s2\">&quot;microsoft/codebert-base&quot;</span><span class=\"p\">)</span>\n",
       "        <span class=\"bp\">self</span><span class=\"o\">.</span><span class=\"n\">model</span> <span class=\"o\">=</span> <span class=\"n\">AutoModel</span><span class=\"o\">.</span><span class=\"n\">from_pretrained</span><span class=\"p\">(</span><span class=\"s2\">&quot;microsoft/codebert-base&quot;</span><span class=\"p\">)</span>\n",
       "        <span class=\"bp\">self</span><span class=\"o\">.</span><span class=\"n\">model</span> <span class=\"o\">=</span> <span class=\"bp\">self</span><span class=\"o\">.</span><span class=\"n\">model</span><span class=\"o\">.</span><span class=\"n\">to</span><span class=\"p\">(</span><span class=\"n\">get_torch_device</span><span class=\"p\">())</span>\n",
       "        <span class=\"bp\">self</span><span class=\"o\">.</span><span class=\"n\">model</span><span class=\"o\">.</span><span class=\"n\">eval</span><span class=\"p\">()</span>\n",
       "        <span class=\"bp\">self</span><span class=\"o\">.</span><span class=\"n\">cache_compile_results</span> <span class=\"o\">=</span> <span class=\"p\">{}</span>\n",
       "\n",
       "    <span class=\"k\">def</span> <span class=\"nf\">prepare_msg_input</span><span class=\"p\">(</span><span class=\"bp\">self</span><span class=\"p\">,</span> <span class=\"n\">msg</span><span class=\"p\">:</span> <span class=\"nb\">str</span><span class=\"p\">):</span>\n",
       "        <span class=\"c1\"># FIXME: better preparation (e.g. distinguish between NL/code)</span>\n",
       "        <span class=\"k\">return</span> <span class=\"n\">msg</span>\n",
       "\n",
       "    <span class=\"k\">def</span> <span class=\"nf\">embed_compile_results</span><span class=\"p\">(</span><span class=\"bp\">self</span><span class=\"p\">,</span> <span class=\"n\">compile_results</span><span class=\"p\">:</span> <span class=\"n\">List</span><span class=\"p\">[</span><span class=\"n\">CompileResult</span><span class=\"p\">]):</span>\n",
       "<span class=\"w\">        </span><span class=\"sd\">&quot;&quot;&quot;</span>\n",
       "<span class=\"sd\">        following https://github.com/microsoft/CodeBERT</span>\n",
       "<span class=\"sd\">        &quot;&quot;&quot;</span>\n",
       "        <span class=\"k\">if</span> <span class=\"nb\">isinstance</span><span class=\"p\">(</span><span class=\"n\">compile_results</span><span class=\"p\">,</span> <span class=\"n\">CompileResult</span><span class=\"p\">):</span>\n",
       "            <span class=\"n\">compile_results</span> <span class=\"o\">=</span> <span class=\"p\">[</span><span class=\"n\">compile_results</span><span class=\"p\">]</span>\n",
       "\n",
       "        <span class=\"n\">msgs</span> <span class=\"o\">=</span> <span class=\"p\">[</span><span class=\"n\">r</span><span class=\"o\">.</span><span class=\"n\">error</span> <span class=\"k\">for</span> <span class=\"n\">r</span> <span class=\"ow\">in</span> <span class=\"n\">compile_results</span><span class=\"p\">]</span>\n",
       "        <span class=\"k\">if</span> <span class=\"nb\">any</span><span class=\"p\">(</span><span class=\"n\">m</span> <span class=\"ow\">is</span> <span class=\"kc\">None</span> <span class=\"k\">for</span> <span class=\"n\">m</span> <span class=\"ow\">in</span> <span class=\"n\">msgs</span><span class=\"p\">):</span>\n",
       "            <span class=\"k\">raise</span> <span class=\"ne\">Exception</span><span class=\"p\">(</span><span class=\"s2\">&quot;Embedding compiler error message requires error&quot;</span><span class=\"p\">)</span>\n",
       "\n",
       "        <span class=\"n\">txt_inputs</span> <span class=\"o\">=</span> <span class=\"p\">[</span><span class=\"bp\">self</span><span class=\"o\">.</span><span class=\"n\">prepare_msg_input</span><span class=\"p\">(</span><span class=\"n\">m</span><span class=\"p\">)</span> <span class=\"k\">for</span> <span class=\"n\">m</span> <span class=\"ow\">in</span> <span class=\"n\">msgs</span><span class=\"p\">]</span>\n",
       "        <span class=\"n\">encoded_inputs</span> <span class=\"o\">=</span> <span class=\"bp\">self</span><span class=\"o\">.</span><span class=\"n\">tokenizer</span><span class=\"p\">(</span>\n",
       "            <span class=\"n\">txt_inputs</span><span class=\"p\">,</span>\n",
       "            <span class=\"n\">return_tensors</span><span class=\"o\">=</span><span class=\"s1\">&#39;pt&#39;</span><span class=\"p\">,</span>\n",
       "            <span class=\"n\">truncation</span><span class=\"o\">=</span><span class=\"kc\">True</span><span class=\"p\">,</span>\n",
       "            <span class=\"n\">padding</span><span class=\"o\">=</span><span class=\"s1\">&#39;max_length&#39;</span><span class=\"p\">,</span>\n",
       "        <span class=\"p\">)</span><span class=\"o\">.</span><span class=\"n\">to</span><span class=\"p\">(</span><span class=\"n\">get_torch_device</span><span class=\"p\">())</span>\n",
       "        <span class=\"k\">with</span> <span class=\"n\">torch</span><span class=\"o\">.</span><span class=\"n\">no_grad</span><span class=\"p\">():</span>\n",
       "            <span class=\"n\">result</span> <span class=\"o\">=</span> <span class=\"bp\">self</span><span class=\"o\">.</span><span class=\"n\">model</span><span class=\"p\">(</span><span class=\"o\">**</span><span class=\"n\">encoded_inputs</span><span class=\"p\">)</span>\n",
       "        <span class=\"c1\"># aggregate with average</span>\n",
       "        <span class=\"c1\"># FIXME: consider other approaches to aggregating or using pooled output</span>\n",
       "        <span class=\"n\">embeddings</span> <span class=\"o\">=</span> <span class=\"n\">result</span><span class=\"p\">[</span><span class=\"mi\">0</span><span class=\"p\">]</span><span class=\"o\">.</span><span class=\"n\">mean</span><span class=\"p\">(</span><span class=\"n\">dim</span><span class=\"o\">=</span><span class=\"mi\">1</span><span class=\"p\">)</span>\n",
       "        <span class=\"k\">return</span> <span class=\"n\">embeddings</span>\n",
       "\n",
       "    <span class=\"k\">def</span> <span class=\"nf\">embed</span><span class=\"p\">(</span><span class=\"bp\">self</span><span class=\"p\">,</span> <span class=\"n\">programs</span><span class=\"p\">:</span> <span class=\"n\">List</span><span class=\"p\">[</span><span class=\"nb\">str</span><span class=\"p\">]):</span>\n",
       "        <span class=\"n\">msgs</span> <span class=\"o\">=</span> <span class=\"p\">[]</span>\n",
       "        <span class=\"k\">for</span> <span class=\"n\">prog</span> <span class=\"ow\">in</span> <span class=\"n\">programs</span><span class=\"p\">:</span>\n",
       "            <span class=\"k\">if</span> <span class=\"n\">prog</span> <span class=\"ow\">not</span> <span class=\"ow\">in</span> <span class=\"bp\">self</span><span class=\"o\">.</span><span class=\"n\">cache_compile_results</span><span class=\"p\">:</span>\n",
       "                <span class=\"bp\">self</span><span class=\"o\">.</span><span class=\"n\">cache_compile_results</span><span class=\"p\">[</span><span class=\"n\">prog</span><span class=\"p\">]</span> <span class=\"o\">=</span> <span class=\"n\">gcc_compile</span><span class=\"p\">(</span><span class=\"n\">prog</span><span class=\"p\">)</span>\n",
       "            <span class=\"n\">msgs</span><span class=\"o\">.</span><span class=\"n\">append</span><span class=\"p\">(</span><span class=\"bp\">self</span><span class=\"o\">.</span><span class=\"n\">cache_compile_results</span><span class=\"p\">[</span><span class=\"n\">prog</span><span class=\"p\">])</span>\n",
       "        <span class=\"k\">return</span> <span class=\"bp\">self</span><span class=\"o\">.</span><span class=\"n\">embed_compile_results</span><span class=\"p\">(</span><span class=\"n\">msgs</span><span class=\"p\">)</span>\n",
       "</pre></div>\n"
      ],
      "text/latex": [
       "\\begin{Verbatim}[commandchars=\\\\\\{\\}]\n",
       "\\PY{k}{class} \\PY{n+nc}{CodeBertEmbedder}\\PY{p}{(}\\PY{n+nb}{object}\\PY{p}{)}\\PY{p}{:}\n",
       "\n",
       "    \\PY{k}{def} \\PY{n+nf+fm}{\\PYZus{}\\PYZus{}init\\PYZus{}\\PYZus{}}\\PY{p}{(}\\PY{n+nb+bp}{self}\\PY{p}{)}\\PY{p}{:}\n",
       "        \\PY{n+nb+bp}{self}\\PY{o}{.}\\PY{n}{tokenizer} \\PY{o}{=} \\PY{n}{AutoTokenizer}\\PY{o}{.}\\PY{n}{from\\PYZus{}pretrained}\\PY{p}{(}\n",
       "            \\PY{l+s+s2}{\\PYZdq{}}\\PY{l+s+s2}{microsoft/codebert\\PYZhy{}base}\\PY{l+s+s2}{\\PYZdq{}}\\PY{p}{)}\n",
       "        \\PY{n+nb+bp}{self}\\PY{o}{.}\\PY{n}{model} \\PY{o}{=} \\PY{n}{AutoModel}\\PY{o}{.}\\PY{n}{from\\PYZus{}pretrained}\\PY{p}{(}\\PY{l+s+s2}{\\PYZdq{}}\\PY{l+s+s2}{microsoft/codebert\\PYZhy{}base}\\PY{l+s+s2}{\\PYZdq{}}\\PY{p}{)}\n",
       "        \\PY{n+nb+bp}{self}\\PY{o}{.}\\PY{n}{model} \\PY{o}{=} \\PY{n+nb+bp}{self}\\PY{o}{.}\\PY{n}{model}\\PY{o}{.}\\PY{n}{to}\\PY{p}{(}\\PY{n}{get\\PYZus{}torch\\PYZus{}device}\\PY{p}{(}\\PY{p}{)}\\PY{p}{)}\n",
       "        \\PY{n+nb+bp}{self}\\PY{o}{.}\\PY{n}{model}\\PY{o}{.}\\PY{n}{eval}\\PY{p}{(}\\PY{p}{)}\n",
       "        \\PY{n+nb+bp}{self}\\PY{o}{.}\\PY{n}{cache\\PYZus{}compile\\PYZus{}results} \\PY{o}{=} \\PY{p}{\\PYZob{}}\\PY{p}{\\PYZcb{}}\n",
       "\n",
       "    \\PY{k}{def} \\PY{n+nf}{prepare\\PYZus{}msg\\PYZus{}input}\\PY{p}{(}\\PY{n+nb+bp}{self}\\PY{p}{,} \\PY{n}{msg}\\PY{p}{:} \\PY{n+nb}{str}\\PY{p}{)}\\PY{p}{:}\n",
       "        \\PY{c+c1}{\\PYZsh{} FIXME: better preparation (e.g. distinguish between NL/code)}\n",
       "        \\PY{k}{return} \\PY{n}{msg}\n",
       "\n",
       "    \\PY{k}{def} \\PY{n+nf}{embed\\PYZus{}compile\\PYZus{}results}\\PY{p}{(}\\PY{n+nb+bp}{self}\\PY{p}{,} \\PY{n}{compile\\PYZus{}results}\\PY{p}{:} \\PY{n}{List}\\PY{p}{[}\\PY{n}{CompileResult}\\PY{p}{]}\\PY{p}{)}\\PY{p}{:}\n",
       "\\PY{+w}{        }\\PY{l+s+sd}{\\PYZdq{}\\PYZdq{}\\PYZdq{}}\n",
       "\\PY{l+s+sd}{        following https://github.com/microsoft/CodeBERT}\n",
       "\\PY{l+s+sd}{        \\PYZdq{}\\PYZdq{}\\PYZdq{}}\n",
       "        \\PY{k}{if} \\PY{n+nb}{isinstance}\\PY{p}{(}\\PY{n}{compile\\PYZus{}results}\\PY{p}{,} \\PY{n}{CompileResult}\\PY{p}{)}\\PY{p}{:}\n",
       "            \\PY{n}{compile\\PYZus{}results} \\PY{o}{=} \\PY{p}{[}\\PY{n}{compile\\PYZus{}results}\\PY{p}{]}\n",
       "\n",
       "        \\PY{n}{msgs} \\PY{o}{=} \\PY{p}{[}\\PY{n}{r}\\PY{o}{.}\\PY{n}{error} \\PY{k}{for} \\PY{n}{r} \\PY{o+ow}{in} \\PY{n}{compile\\PYZus{}results}\\PY{p}{]}\n",
       "        \\PY{k}{if} \\PY{n+nb}{any}\\PY{p}{(}\\PY{n}{m} \\PY{o+ow}{is} \\PY{k+kc}{None} \\PY{k}{for} \\PY{n}{m} \\PY{o+ow}{in} \\PY{n}{msgs}\\PY{p}{)}\\PY{p}{:}\n",
       "            \\PY{k}{raise} \\PY{n+ne}{Exception}\\PY{p}{(}\\PY{l+s+s2}{\\PYZdq{}}\\PY{l+s+s2}{Embedding compiler error message requires error}\\PY{l+s+s2}{\\PYZdq{}}\\PY{p}{)}\n",
       "\n",
       "        \\PY{n}{txt\\PYZus{}inputs} \\PY{o}{=} \\PY{p}{[}\\PY{n+nb+bp}{self}\\PY{o}{.}\\PY{n}{prepare\\PYZus{}msg\\PYZus{}input}\\PY{p}{(}\\PY{n}{m}\\PY{p}{)} \\PY{k}{for} \\PY{n}{m} \\PY{o+ow}{in} \\PY{n}{msgs}\\PY{p}{]}\n",
       "        \\PY{n}{encoded\\PYZus{}inputs} \\PY{o}{=} \\PY{n+nb+bp}{self}\\PY{o}{.}\\PY{n}{tokenizer}\\PY{p}{(}\n",
       "            \\PY{n}{txt\\PYZus{}inputs}\\PY{p}{,}\n",
       "            \\PY{n}{return\\PYZus{}tensors}\\PY{o}{=}\\PY{l+s+s1}{\\PYZsq{}}\\PY{l+s+s1}{pt}\\PY{l+s+s1}{\\PYZsq{}}\\PY{p}{,}\n",
       "            \\PY{n}{truncation}\\PY{o}{=}\\PY{k+kc}{True}\\PY{p}{,}\n",
       "            \\PY{n}{padding}\\PY{o}{=}\\PY{l+s+s1}{\\PYZsq{}}\\PY{l+s+s1}{max\\PYZus{}length}\\PY{l+s+s1}{\\PYZsq{}}\\PY{p}{,}\n",
       "        \\PY{p}{)}\\PY{o}{.}\\PY{n}{to}\\PY{p}{(}\\PY{n}{get\\PYZus{}torch\\PYZus{}device}\\PY{p}{(}\\PY{p}{)}\\PY{p}{)}\n",
       "        \\PY{k}{with} \\PY{n}{torch}\\PY{o}{.}\\PY{n}{no\\PYZus{}grad}\\PY{p}{(}\\PY{p}{)}\\PY{p}{:}\n",
       "            \\PY{n}{result} \\PY{o}{=} \\PY{n+nb+bp}{self}\\PY{o}{.}\\PY{n}{model}\\PY{p}{(}\\PY{o}{*}\\PY{o}{*}\\PY{n}{encoded\\PYZus{}inputs}\\PY{p}{)}\n",
       "        \\PY{c+c1}{\\PYZsh{} aggregate with average}\n",
       "        \\PY{c+c1}{\\PYZsh{} FIXME: consider other approaches to aggregating or using pooled output}\n",
       "        \\PY{n}{embeddings} \\PY{o}{=} \\PY{n}{result}\\PY{p}{[}\\PY{l+m+mi}{0}\\PY{p}{]}\\PY{o}{.}\\PY{n}{mean}\\PY{p}{(}\\PY{n}{dim}\\PY{o}{=}\\PY{l+m+mi}{1}\\PY{p}{)}\n",
       "        \\PY{k}{return} \\PY{n}{embeddings}\n",
       "\n",
       "    \\PY{k}{def} \\PY{n+nf}{embed}\\PY{p}{(}\\PY{n+nb+bp}{self}\\PY{p}{,} \\PY{n}{programs}\\PY{p}{:} \\PY{n}{List}\\PY{p}{[}\\PY{n+nb}{str}\\PY{p}{]}\\PY{p}{)}\\PY{p}{:}\n",
       "        \\PY{n}{msgs} \\PY{o}{=} \\PY{p}{[}\\PY{p}{]}\n",
       "        \\PY{k}{for} \\PY{n}{prog} \\PY{o+ow}{in} \\PY{n}{programs}\\PY{p}{:}\n",
       "            \\PY{k}{if} \\PY{n}{prog} \\PY{o+ow}{not} \\PY{o+ow}{in} \\PY{n+nb+bp}{self}\\PY{o}{.}\\PY{n}{cache\\PYZus{}compile\\PYZus{}results}\\PY{p}{:}\n",
       "                \\PY{n+nb+bp}{self}\\PY{o}{.}\\PY{n}{cache\\PYZus{}compile\\PYZus{}results}\\PY{p}{[}\\PY{n}{prog}\\PY{p}{]} \\PY{o}{=} \\PY{n}{gcc\\PYZus{}compile}\\PY{p}{(}\\PY{n}{prog}\\PY{p}{)}\n",
       "            \\PY{n}{msgs}\\PY{o}{.}\\PY{n}{append}\\PY{p}{(}\\PY{n+nb+bp}{self}\\PY{o}{.}\\PY{n}{cache\\PYZus{}compile\\PYZus{}results}\\PY{p}{[}\\PY{n}{prog}\\PY{p}{]}\\PY{p}{)}\n",
       "        \\PY{k}{return} \\PY{n+nb+bp}{self}\\PY{o}{.}\\PY{n}{embed\\PYZus{}compile\\PYZus{}results}\\PY{p}{(}\\PY{n}{msgs}\\PY{p}{)}\n",
       "\\end{Verbatim}\n"
      ],
      "text/plain": [
       "class CodeBertEmbedder(object):\n",
       "\n",
       "    def __init__(self):\n",
       "        self.tokenizer = AutoTokenizer.from_pretrained(\n",
       "            \"microsoft/codebert-base\")\n",
       "        self.model = AutoModel.from_pretrained(\"microsoft/codebert-base\")\n",
       "        self.model = self.model.to(get_torch_device())\n",
       "        self.model.eval()\n",
       "        self.cache_compile_results = {}\n",
       "\n",
       "    def prepare_msg_input(self, msg: str):\n",
       "        # FIXME: better preparation (e.g. distinguish between NL/code)\n",
       "        return msg\n",
       "\n",
       "    def embed_compile_results(self, compile_results: List[CompileResult]):\n",
       "        \"\"\"\n",
       "        following https://github.com/microsoft/CodeBERT\n",
       "        \"\"\"\n",
       "        if isinstance(compile_results, CompileResult):\n",
       "            compile_results = [compile_results]\n",
       "\n",
       "        msgs = [r.error for r in compile_results]\n",
       "        if any(m is None for m in msgs):\n",
       "            raise Exception(\"Embedding compiler error message requires error\")\n",
       "\n",
       "        txt_inputs = [self.prepare_msg_input(m) for m in msgs]\n",
       "        encoded_inputs = self.tokenizer(\n",
       "            txt_inputs,\n",
       "            return_tensors='pt',\n",
       "            truncation=True,\n",
       "            padding='max_length',\n",
       "        ).to(get_torch_device())\n",
       "        with torch.no_grad():\n",
       "            result = self.model(**encoded_inputs)\n",
       "        # aggregate with average\n",
       "        # FIXME: consider other approaches to aggregating or using pooled output\n",
       "        embeddings = result[0].mean(dim=1)\n",
       "        return embeddings\n",
       "\n",
       "    def embed(self, programs: List[str]):\n",
       "        msgs = []\n",
       "        for prog in programs:\n",
       "            if prog not in self.cache_compile_results:\n",
       "                self.cache_compile_results[prog] = gcc_compile(prog)\n",
       "            msgs.append(self.cache_compile_results[prog])\n",
       "        return self.embed_compile_results(msgs)"
      ]
     },
     "execution_count": 22,
     "metadata": {},
     "output_type": "execute_result"
    }
   ],
   "source": [
    "from repair import codesimilarity\n",
    "show_code(codesimilarity.CodeBertEmbedder)"
   ]
  },
  {
   "attachments": {},
   "cell_type": "markdown",
   "metadata": {},
   "source": [
    "We embed our example bank ahead of time, so at prediction time we can just embed our current program's error message and retrieve the most similar examples. In practice, you might use a vector-database that supports fast (approximate) nearest neighbors queries. One such example is FAISS [7], but there are multiple open source and paid alternatives."
   ]
  },
  {
   "cell_type": "code",
   "execution_count": 23,
   "metadata": {},
   "outputs": [
    {
     "name": "stderr",
     "output_type": "stream",
     "text": [
      "100%|██████████| 30/30 [00:24<00:00,  1.24it/s]\n"
     ]
    }
   ],
   "source": [
    "sim_shot_selector = codex.SimilarityFewShots(example_bank, verbose=True)"
   ]
  },
  {
   "attachments": {},
   "cell_type": "markdown",
   "metadata": {},
   "source": [
    "We can instantiate out `CodexWithFewShots` to use our similarity-based example bank, and as before we'll perform a single repair to demonstrate."
   ]
  },
  {
   "cell_type": "code",
   "execution_count": 24,
   "metadata": {},
   "outputs": [
    {
     "name": "stdout",
     "output_type": "stream",
     "text": [
      "#include <stdio.h>\n",
      "#include <stdlib.h>\n",
      "int fib(int n){\n",
      "    if(n==0)\n",
      "    return 0;\n",
      "    else if(n==1)\n",
      "    return 1;\n",
      "    else\n",
      "    return (fib(n-1)+fib(n-2));\n",
      "}\n",
      "int search(int n,int a[n],int key){\n",
      "   int i;\n",
      "   for(i=0;i<n;i++){\n",
      "       if(a[i]==key)\n",
      "       return 1;\n",
      "   }\n",
      "}\n",
      "int main() {\n",
      "    int t;\n",
      "scanf(\"%d\",&t);\n",
      "\t    }\n",
      "\treturn 0;\n",
      "}\n",
      "\n"
     ]
    }
   ],
   "source": [
    "codex_shots = codex.CodexWithFewShots(sim_shot_selector, OPENAI_API_KEY)\n",
    "codex_shots_res = codex_shots.repair(test[10].source, n=1, temperature=0.0)[0]['repair']\n",
    "print(codex_shots_res)"
   ]
  },
  {
   "cell_type": "code",
   "execution_count": 25,
   "metadata": {},
   "outputs": [
    {
     "data": {
      "text/plain": [
       "False"
      ]
     },
     "execution_count": 25,
     "metadata": {},
     "output_type": "execute_result"
    }
   ],
   "source": [
    "utils.gcc_compile(codex_shots_res).ok"
   ]
  },
  {
   "attachments": {},
   "cell_type": "markdown",
   "metadata": {},
   "source": [
    "### (Some) Parameters that affect repair with Codex\n",
    "\n",
    "There are many choices you can make when using Codex that will impact performance. A summary of at least some factors that are typically worth exploring are below. You may want to experiment with these and see if you get different results.\n",
    "\n",
    "* Temperature: consider varying values and see different performance (higher temperatures can provide more diverse repairs)\n",
    "* Number of candidates sampled\n",
    "* Of course, the prompt\n",
    "* Type of sampling: nucleus sampling vs temperature sampling"
   ]
  },
  {
   "attachments": {},
   "cell_type": "markdown",
   "metadata": {},
   "source": [
    "### More extension tasks with Codex\n",
    "While due to the limitation of needing an OpenAI key this tutorial does not spend too much time on Codex, here are some extension task ideas that may be of interest.\n",
    "\n",
    "* [Repair iteratively (if have more than one mistake)](https://arxiv.org/abs/2209.14876)\n",
    "* Send smaller context around error location (faster and can avoid spurious changes)\n",
    "* [CodeBERT similarity was out-of-the-box, but what if we tune specifically for repair and on our dataset](https://arxiv.org/abs/2201.11227)\n",
    "* Increase the size of the example bank\n",
    "* [Implement better ranking (currently we rank candidates just based on the average token log probabilities)](https://arxiv.org/abs/2206.03865)\n",
    "\n",
    "For a recent paper on using Codex to perform syntax (and some semantic) repairs, see our paper on [RING](https://arxiv.org/abs/2208.11640)."
   ]
  },
  {
   "attachments": {},
   "cell_type": "markdown",
   "metadata": {},
   "source": [
    "# End\n",
    "\n",
    "Thank you for joining us for this tutorial. I hope by the end you have now a good sense of some ideas that might be fun to try in this space and how to get started!"
   ]
  },
  {
   "cell_type": "markdown",
   "metadata": {},
   "source": []
  }
 ],
 "metadata": {
  "kernelspec": {
   "display_name": "env",
   "language": "python",
   "name": "python3"
  },
  "language_info": {
   "codemirror_mode": {
    "name": "ipython",
    "version": 3
   },
   "file_extension": ".py",
   "mimetype": "text/x-python",
   "name": "python",
   "nbconvert_exporter": "python",
   "pygments_lexer": "ipython3",
   "version": "3.8.10 (default, Jun  2 2021, 10:49:15) \n[GCC 9.4.0]"
  },
  "orig_nbformat": 4,
  "vscode": {
   "interpreter": {
    "hash": "5fa6738201d192cf71d154704895d806151bfc23d5269ad7830abd20e918bf78"
   }
  }
 },
 "nbformat": 4,
 "nbformat_minor": 2
}
